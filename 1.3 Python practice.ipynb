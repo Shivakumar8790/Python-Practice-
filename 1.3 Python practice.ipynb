{
 "cells": [
  {
   "cell_type": "markdown",
   "metadata": {
    "id": "aLOxVBwySKbC"
   },
   "source": [
    "# Question: Write Python code to load a datartset using the pandas library and display the first five rows."
   ]
  },
  {
   "cell_type": "code",
   "execution_count": 1,
   "metadata": {
    "colab": {
     "base_uri": "https://localhost:8080/",
     "height": 223
    },
    "id": "hCOe10xUr051",
    "outputId": "283261f0-d304-454c-f423-91bbd9103448"
   },
   "outputs": [
    {
     "data": {
      "text/html": [
       "<div>\n",
       "<style scoped>\n",
       "    .dataframe tbody tr th:only-of-type {\n",
       "        vertical-align: middle;\n",
       "    }\n",
       "\n",
       "    .dataframe tbody tr th {\n",
       "        vertical-align: top;\n",
       "    }\n",
       "\n",
       "    .dataframe thead th {\n",
       "        text-align: right;\n",
       "    }\n",
       "</style>\n",
       "<table border=\"1\" class=\"dataframe\">\n",
       "  <thead>\n",
       "    <tr style=\"text-align: right;\">\n",
       "      <th></th>\n",
       "      <th>Unnamed: 0</th>\n",
       "      <th>Cl.thickness</th>\n",
       "      <th>Cell.size</th>\n",
       "      <th>Cell.shape</th>\n",
       "      <th>Marg.adhesion</th>\n",
       "      <th>Epith.c.size</th>\n",
       "      <th>Bare.nuclei</th>\n",
       "      <th>Bl.cromatin</th>\n",
       "      <th>Normal.nucleoli</th>\n",
       "      <th>Mitoses</th>\n",
       "      <th>Class</th>\n",
       "    </tr>\n",
       "  </thead>\n",
       "  <tbody>\n",
       "    <tr>\n",
       "      <th>0</th>\n",
       "      <td>1</td>\n",
       "      <td>5</td>\n",
       "      <td>1</td>\n",
       "      <td>1</td>\n",
       "      <td>1</td>\n",
       "      <td>2</td>\n",
       "      <td>1</td>\n",
       "      <td>3</td>\n",
       "      <td>1</td>\n",
       "      <td>1</td>\n",
       "      <td>benign</td>\n",
       "    </tr>\n",
       "    <tr>\n",
       "      <th>1</th>\n",
       "      <td>2</td>\n",
       "      <td>5</td>\n",
       "      <td>4</td>\n",
       "      <td>4</td>\n",
       "      <td>5</td>\n",
       "      <td>7</td>\n",
       "      <td>10</td>\n",
       "      <td>3</td>\n",
       "      <td>2</td>\n",
       "      <td>1</td>\n",
       "      <td>benign</td>\n",
       "    </tr>\n",
       "    <tr>\n",
       "      <th>2</th>\n",
       "      <td>3</td>\n",
       "      <td>3</td>\n",
       "      <td>1</td>\n",
       "      <td>1</td>\n",
       "      <td>1</td>\n",
       "      <td>2</td>\n",
       "      <td>2</td>\n",
       "      <td>3</td>\n",
       "      <td>1</td>\n",
       "      <td>1</td>\n",
       "      <td>benign</td>\n",
       "    </tr>\n",
       "    <tr>\n",
       "      <th>3</th>\n",
       "      <td>4</td>\n",
       "      <td>6</td>\n",
       "      <td>8</td>\n",
       "      <td>8</td>\n",
       "      <td>1</td>\n",
       "      <td>3</td>\n",
       "      <td>4</td>\n",
       "      <td>3</td>\n",
       "      <td>7</td>\n",
       "      <td>1</td>\n",
       "      <td>benign</td>\n",
       "    </tr>\n",
       "    <tr>\n",
       "      <th>4</th>\n",
       "      <td>5</td>\n",
       "      <td>4</td>\n",
       "      <td>1</td>\n",
       "      <td>1</td>\n",
       "      <td>3</td>\n",
       "      <td>2</td>\n",
       "      <td>1</td>\n",
       "      <td>3</td>\n",
       "      <td>1</td>\n",
       "      <td>1</td>\n",
       "      <td>benign</td>\n",
       "    </tr>\n",
       "  </tbody>\n",
       "</table>\n",
       "</div>"
      ],
      "text/plain": [
       "   Unnamed: 0  Cl.thickness  Cell.size  Cell.shape  Marg.adhesion  \\\n",
       "0           1             5          1           1              1   \n",
       "1           2             5          4           4              5   \n",
       "2           3             3          1           1              1   \n",
       "3           4             6          8           8              1   \n",
       "4           5             4          1           1              3   \n",
       "\n",
       "   Epith.c.size  Bare.nuclei  Bl.cromatin  Normal.nucleoli  Mitoses   Class  \n",
       "0             2            1            3                1        1  benign  \n",
       "1             7           10            3                2        1  benign  \n",
       "2             2            2            3                1        1  benign  \n",
       "3             3            4            3                7        1  benign  \n",
       "4             2            1            3                1        1  benign  "
      ]
     },
     "execution_count": 1,
     "metadata": {},
     "output_type": "execute_result"
    }
   ],
   "source": [
    "import pandas as pd\n",
    "data = pd.read_csv(\"D:/Shiva Data Science/Main DS/Files/breast_cancer.csv\", encoding='latin1')\n",
    "data.head(5)"
   ]
  },
  {
   "cell_type": "code",
   "execution_count": 2,
   "metadata": {
    "colab": {
     "base_uri": "https://localhost:8080/"
    },
    "id": "SmEWXJoEbP1h",
    "outputId": "a5d77b46-6257-49e1-89e9-d283c4930dd5"
   },
   "outputs": [
    {
     "data": {
      "text/plain": [
       "Unnamed: 0         0\n",
       "Cl.thickness       0\n",
       "Cell.size          0\n",
       "Cell.shape         0\n",
       "Marg.adhesion      0\n",
       "Epith.c.size       0\n",
       "Bare.nuclei        0\n",
       "Bl.cromatin        0\n",
       "Normal.nucleoli    0\n",
       "Mitoses            0\n",
       "Class              0\n",
       "dtype: int64"
      ]
     },
     "execution_count": 2,
     "metadata": {},
     "output_type": "execute_result"
    }
   ],
   "source": [
    "data.isnull().sum()"
   ]
  },
  {
   "cell_type": "code",
   "execution_count": 3,
   "metadata": {},
   "outputs": [
    {
     "data": {
      "text/plain": [
       "Unnamed: 0                                                    240659\n",
       "Cl.thickness                                                    3034\n",
       "Cell.size                                                       2152\n",
       "Cell.shape                                                      2196\n",
       "Marg.adhesion                                                   1933\n",
       "Epith.c.size                                                    2209\n",
       "Bare.nuclei                                                     2421\n",
       "Bl.cromatin                                                     2353\n",
       "Normal.nucleoli                                                 1960\n",
       "Mitoses                                                         1095\n",
       "Class              benignbenignbenignbenignbenignmalignantbenignb...\n",
       "dtype: object"
      ]
     },
     "execution_count": 3,
     "metadata": {},
     "output_type": "execute_result"
    }
   ],
   "source": [
    "data[data[\"Class\"]!=0].sum()"
   ]
  },
  {
   "cell_type": "code",
   "execution_count": 4,
   "metadata": {
    "id": "M4sbq8b6dprp"
   },
   "outputs": [],
   "source": [
    "X = data.drop(\"Class\",axis=1)"
   ]
  },
  {
   "cell_type": "code",
   "execution_count": 5,
   "metadata": {
    "id": "PaD1MMZedx8o"
   },
   "outputs": [],
   "source": [
    "from sklearn.preprocessing import LabelEncoder\n",
    "LabelEncoder = LabelEncoder()\n",
    "Y = LabelEncoder.fit_transform(data[\"Class\"])"
   ]
  },
  {
   "cell_type": "code",
   "execution_count": 6,
   "metadata": {
    "id": "x7zCIScrfOUm"
   },
   "outputs": [],
   "source": [
    "from sklearn.model_selection import train_test_split\n",
    "from sklearn.linear_model import LogisticRegression\n",
    "from sklearn.metrics import accuracy_score\n",
    "from sklearn.datasets import make_classification\n",
    "from sklearn.pipeline import make_pipeline\n",
    "from sklearn.preprocessing import StandardScaler"
   ]
  },
  {
   "cell_type": "code",
   "execution_count": 7,
   "metadata": {
    "id": "qi3_rB_XrCQf"
   },
   "outputs": [],
   "source": [
    "X_train,X_test,Y_train,Y_test = train_test_split(X,Y,test_size=0.3,random_state=42)"
   ]
  },
  {
   "cell_type": "code",
   "execution_count": 8,
   "metadata": {
    "colab": {
     "base_uri": "https://localhost:8080/",
     "height": 124
    },
    "id": "-ztNhCpxrkK3",
    "outputId": "c28acb7c-6072-4350-e87b-0fd52e624164"
   },
   "outputs": [
    {
     "data": {
      "text/html": [
       "<style>#sk-container-id-1 {color: black;}#sk-container-id-1 pre{padding: 0;}#sk-container-id-1 div.sk-toggleable {background-color: white;}#sk-container-id-1 label.sk-toggleable__label {cursor: pointer;display: block;width: 100%;margin-bottom: 0;padding: 0.3em;box-sizing: border-box;text-align: center;}#sk-container-id-1 label.sk-toggleable__label-arrow:before {content: \"▸\";float: left;margin-right: 0.25em;color: #696969;}#sk-container-id-1 label.sk-toggleable__label-arrow:hover:before {color: black;}#sk-container-id-1 div.sk-estimator:hover label.sk-toggleable__label-arrow:before {color: black;}#sk-container-id-1 div.sk-toggleable__content {max-height: 0;max-width: 0;overflow: hidden;text-align: left;background-color: #f0f8ff;}#sk-container-id-1 div.sk-toggleable__content pre {margin: 0.2em;color: black;border-radius: 0.25em;background-color: #f0f8ff;}#sk-container-id-1 input.sk-toggleable__control:checked~div.sk-toggleable__content {max-height: 200px;max-width: 100%;overflow: auto;}#sk-container-id-1 input.sk-toggleable__control:checked~label.sk-toggleable__label-arrow:before {content: \"▾\";}#sk-container-id-1 div.sk-estimator input.sk-toggleable__control:checked~label.sk-toggleable__label {background-color: #d4ebff;}#sk-container-id-1 div.sk-label input.sk-toggleable__control:checked~label.sk-toggleable__label {background-color: #d4ebff;}#sk-container-id-1 input.sk-hidden--visually {border: 0;clip: rect(1px 1px 1px 1px);clip: rect(1px, 1px, 1px, 1px);height: 1px;margin: -1px;overflow: hidden;padding: 0;position: absolute;width: 1px;}#sk-container-id-1 div.sk-estimator {font-family: monospace;background-color: #f0f8ff;border: 1px dotted black;border-radius: 0.25em;box-sizing: border-box;margin-bottom: 0.5em;}#sk-container-id-1 div.sk-estimator:hover {background-color: #d4ebff;}#sk-container-id-1 div.sk-parallel-item::after {content: \"\";width: 100%;border-bottom: 1px solid gray;flex-grow: 1;}#sk-container-id-1 div.sk-label:hover label.sk-toggleable__label {background-color: #d4ebff;}#sk-container-id-1 div.sk-serial::before {content: \"\";position: absolute;border-left: 1px solid gray;box-sizing: border-box;top: 0;bottom: 0;left: 50%;z-index: 0;}#sk-container-id-1 div.sk-serial {display: flex;flex-direction: column;align-items: center;background-color: white;padding-right: 0.2em;padding-left: 0.2em;position: relative;}#sk-container-id-1 div.sk-item {position: relative;z-index: 1;}#sk-container-id-1 div.sk-parallel {display: flex;align-items: stretch;justify-content: center;background-color: white;position: relative;}#sk-container-id-1 div.sk-item::before, #sk-container-id-1 div.sk-parallel-item::before {content: \"\";position: absolute;border-left: 1px solid gray;box-sizing: border-box;top: 0;bottom: 0;left: 50%;z-index: -1;}#sk-container-id-1 div.sk-parallel-item {display: flex;flex-direction: column;z-index: 1;position: relative;background-color: white;}#sk-container-id-1 div.sk-parallel-item:first-child::after {align-self: flex-end;width: 50%;}#sk-container-id-1 div.sk-parallel-item:last-child::after {align-self: flex-start;width: 50%;}#sk-container-id-1 div.sk-parallel-item:only-child::after {width: 0;}#sk-container-id-1 div.sk-dashed-wrapped {border: 1px dashed gray;margin: 0 0.4em 0.5em 0.4em;box-sizing: border-box;padding-bottom: 0.4em;background-color: white;}#sk-container-id-1 div.sk-label label {font-family: monospace;font-weight: bold;display: inline-block;line-height: 1.2em;}#sk-container-id-1 div.sk-label-container {text-align: center;}#sk-container-id-1 div.sk-container {/* jupyter's `normalize.less` sets `[hidden] { display: none; }` but bootstrap.min.css set `[hidden] { display: none !important; }` so we also need the `!important` here to be able to override the default hidden behavior on the sphinx rendered scikit-learn.org. See: https://github.com/scikit-learn/scikit-learn/issues/21755 */display: inline-block !important;position: relative;}#sk-container-id-1 div.sk-text-repr-fallback {display: none;}</style><div id=\"sk-container-id-1\" class=\"sk-top-container\"><div class=\"sk-text-repr-fallback\"><pre>Pipeline(steps=[(&#x27;standardscaler&#x27;, StandardScaler()),\n",
       "                (&#x27;logisticregression&#x27;, LogisticRegression())])</pre><b>In a Jupyter environment, please rerun this cell to show the HTML representation or trust the notebook. <br />On GitHub, the HTML representation is unable to render, please try loading this page with nbviewer.org.</b></div><div class=\"sk-container\" hidden><div class=\"sk-item sk-dashed-wrapped\"><div class=\"sk-label-container\"><div class=\"sk-label sk-toggleable\"><input class=\"sk-toggleable__control sk-hidden--visually\" id=\"sk-estimator-id-1\" type=\"checkbox\" ><label for=\"sk-estimator-id-1\" class=\"sk-toggleable__label sk-toggleable__label-arrow\">Pipeline</label><div class=\"sk-toggleable__content\"><pre>Pipeline(steps=[(&#x27;standardscaler&#x27;, StandardScaler()),\n",
       "                (&#x27;logisticregression&#x27;, LogisticRegression())])</pre></div></div></div><div class=\"sk-serial\"><div class=\"sk-item\"><div class=\"sk-estimator sk-toggleable\"><input class=\"sk-toggleable__control sk-hidden--visually\" id=\"sk-estimator-id-2\" type=\"checkbox\" ><label for=\"sk-estimator-id-2\" class=\"sk-toggleable__label sk-toggleable__label-arrow\">StandardScaler</label><div class=\"sk-toggleable__content\"><pre>StandardScaler()</pre></div></div></div><div class=\"sk-item\"><div class=\"sk-estimator sk-toggleable\"><input class=\"sk-toggleable__control sk-hidden--visually\" id=\"sk-estimator-id-3\" type=\"checkbox\" ><label for=\"sk-estimator-id-3\" class=\"sk-toggleable__label sk-toggleable__label-arrow\">LogisticRegression</label><div class=\"sk-toggleable__content\"><pre>LogisticRegression()</pre></div></div></div></div></div></div></div>"
      ],
      "text/plain": [
       "Pipeline(steps=[('standardscaler', StandardScaler()),\n",
       "                ('logisticregression', LogisticRegression())])"
      ]
     },
     "execution_count": 8,
     "metadata": {},
     "output_type": "execute_result"
    }
   ],
   "source": [
    "model = make_pipeline(StandardScaler(),LogisticRegression())\n",
    "model.fit(X_train,Y_train)"
   ]
  },
  {
   "cell_type": "code",
   "execution_count": 9,
   "metadata": {
    "id": "wfAXlK4Xrzzt"
   },
   "outputs": [],
   "source": [
    "Y_pred = model.predict(X_test)"
   ]
  },
  {
   "cell_type": "code",
   "execution_count": 10,
   "metadata": {
    "colab": {
     "base_uri": "https://localhost:8080/"
    },
    "id": "RRCBP8TRsaO6",
    "outputId": "1b443cb8-1db2-44c7-f16c-c1d57165da73"
   },
   "outputs": [
    {
     "name": "stdout",
     "output_type": "stream",
     "text": [
      "Accuracy_Score- 95.6 %\n"
     ]
    }
   ],
   "source": [
    "Accuracy = accuracy_score(Y_test,Y_pred)\n",
    "print(\"Accuracy_Score-\",Accuracy.round(3)*100,\"%\")"
   ]
  },
  {
   "cell_type": "markdown",
   "metadata": {
    "id": "RE20vporsov8"
   },
   "source": [
    "# Question: Write Python code to perform one-hot encoding on a categorical variable 'Color' in a pandas DataFrame."
   ]
  },
  {
   "cell_type": "code",
   "execution_count": 11,
   "metadata": {
    "colab": {
     "base_uri": "https://localhost:8080/",
     "height": 243
    },
    "id": "KSIutC_OsqLk",
    "outputId": "f8145185-bed0-4198-fc36-02bf1249e15b"
   },
   "outputs": [
    {
     "data": {
      "text/html": [
       "<div>\n",
       "<style scoped>\n",
       "    .dataframe tbody tr th:only-of-type {\n",
       "        vertical-align: middle;\n",
       "    }\n",
       "\n",
       "    .dataframe tbody tr th {\n",
       "        vertical-align: top;\n",
       "    }\n",
       "\n",
       "    .dataframe thead th {\n",
       "        text-align: right;\n",
       "    }\n",
       "</style>\n",
       "<table border=\"1\" class=\"dataframe\">\n",
       "  <thead>\n",
       "    <tr style=\"text-align: right;\">\n",
       "      <th></th>\n",
       "      <th>Unnamed: 0</th>\n",
       "      <th>Cl.thickness</th>\n",
       "      <th>Cell.size</th>\n",
       "      <th>Cell.shape</th>\n",
       "      <th>Marg.adhesion</th>\n",
       "      <th>Epith.c.size</th>\n",
       "      <th>Bare.nuclei</th>\n",
       "      <th>Bl.cromatin</th>\n",
       "      <th>Normal.nucleoli</th>\n",
       "      <th>Mitoses</th>\n",
       "      <th>Class_benign</th>\n",
       "      <th>Class_malignant</th>\n",
       "    </tr>\n",
       "  </thead>\n",
       "  <tbody>\n",
       "    <tr>\n",
       "      <th>0</th>\n",
       "      <td>1</td>\n",
       "      <td>5</td>\n",
       "      <td>1</td>\n",
       "      <td>1</td>\n",
       "      <td>1</td>\n",
       "      <td>2</td>\n",
       "      <td>1</td>\n",
       "      <td>3</td>\n",
       "      <td>1</td>\n",
       "      <td>1</td>\n",
       "      <td>1</td>\n",
       "      <td>0</td>\n",
       "    </tr>\n",
       "    <tr>\n",
       "      <th>1</th>\n",
       "      <td>2</td>\n",
       "      <td>5</td>\n",
       "      <td>4</td>\n",
       "      <td>4</td>\n",
       "      <td>5</td>\n",
       "      <td>7</td>\n",
       "      <td>10</td>\n",
       "      <td>3</td>\n",
       "      <td>2</td>\n",
       "      <td>1</td>\n",
       "      <td>1</td>\n",
       "      <td>0</td>\n",
       "    </tr>\n",
       "    <tr>\n",
       "      <th>2</th>\n",
       "      <td>3</td>\n",
       "      <td>3</td>\n",
       "      <td>1</td>\n",
       "      <td>1</td>\n",
       "      <td>1</td>\n",
       "      <td>2</td>\n",
       "      <td>2</td>\n",
       "      <td>3</td>\n",
       "      <td>1</td>\n",
       "      <td>1</td>\n",
       "      <td>1</td>\n",
       "      <td>0</td>\n",
       "    </tr>\n",
       "    <tr>\n",
       "      <th>3</th>\n",
       "      <td>4</td>\n",
       "      <td>6</td>\n",
       "      <td>8</td>\n",
       "      <td>8</td>\n",
       "      <td>1</td>\n",
       "      <td>3</td>\n",
       "      <td>4</td>\n",
       "      <td>3</td>\n",
       "      <td>7</td>\n",
       "      <td>1</td>\n",
       "      <td>1</td>\n",
       "      <td>0</td>\n",
       "    </tr>\n",
       "    <tr>\n",
       "      <th>4</th>\n",
       "      <td>5</td>\n",
       "      <td>4</td>\n",
       "      <td>1</td>\n",
       "      <td>1</td>\n",
       "      <td>3</td>\n",
       "      <td>2</td>\n",
       "      <td>1</td>\n",
       "      <td>3</td>\n",
       "      <td>1</td>\n",
       "      <td>1</td>\n",
       "      <td>1</td>\n",
       "      <td>0</td>\n",
       "    </tr>\n",
       "  </tbody>\n",
       "</table>\n",
       "</div>"
      ],
      "text/plain": [
       "   Unnamed: 0  Cl.thickness  Cell.size  Cell.shape  Marg.adhesion  \\\n",
       "0           1             5          1           1              1   \n",
       "1           2             5          4           4              5   \n",
       "2           3             3          1           1              1   \n",
       "3           4             6          8           8              1   \n",
       "4           5             4          1           1              3   \n",
       "\n",
       "   Epith.c.size  Bare.nuclei  Bl.cromatin  Normal.nucleoli  Mitoses  \\\n",
       "0             2            1            3                1        1   \n",
       "1             7           10            3                2        1   \n",
       "2             2            2            3                1        1   \n",
       "3             3            4            3                7        1   \n",
       "4             2            1            3                1        1   \n",
       "\n",
       "   Class_benign  Class_malignant  \n",
       "0             1                0  \n",
       "1             1                0  \n",
       "2             1                0  \n",
       "3             1                0  \n",
       "4             1                0  "
      ]
     },
     "execution_count": 11,
     "metadata": {},
     "output_type": "execute_result"
    }
   ],
   "source": [
    "One_Hot_encoder_data = pd.get_dummies(data ,columns=[\"Class\"])\n",
    "One_Hot_encoder_data.head(5)"
   ]
  },
  {
   "cell_type": "markdown",
   "metadata": {},
   "source": [
    "## Question: Given a dataset of house prices, implement a decision tree regression model using scikit-learn and evaluate its performance using Mean Squared Error (MSE)."
   ]
  },
  {
   "cell_type": "code",
   "execution_count": 12,
   "metadata": {
    "id": "1loWhqxiuHcD"
   },
   "outputs": [
    {
     "data": {
      "text/html": [
       "<div>\n",
       "<style scoped>\n",
       "    .dataframe tbody tr th:only-of-type {\n",
       "        vertical-align: middle;\n",
       "    }\n",
       "\n",
       "    .dataframe tbody tr th {\n",
       "        vertical-align: top;\n",
       "    }\n",
       "\n",
       "    .dataframe thead th {\n",
       "        text-align: right;\n",
       "    }\n",
       "</style>\n",
       "<table border=\"1\" class=\"dataframe\">\n",
       "  <thead>\n",
       "    <tr style=\"text-align: right;\">\n",
       "      <th></th>\n",
       "      <th>Age</th>\n",
       "      <th>Education</th>\n",
       "      <th>MaritalStatus</th>\n",
       "      <th>Race</th>\n",
       "      <th>Gender</th>\n",
       "      <th>Country</th>\n",
       "      <th>Incentives</th>\n",
       "    </tr>\n",
       "  </thead>\n",
       "  <tbody>\n",
       "    <tr>\n",
       "      <th>0</th>\n",
       "      <td>39</td>\n",
       "      <td>Bachelors</td>\n",
       "      <td>Never-married</td>\n",
       "      <td>White</td>\n",
       "      <td>Male</td>\n",
       "      <td>United-States</td>\n",
       "      <td>77516</td>\n",
       "    </tr>\n",
       "    <tr>\n",
       "      <th>1</th>\n",
       "      <td>50</td>\n",
       "      <td>Bachelors</td>\n",
       "      <td>Married</td>\n",
       "      <td>White</td>\n",
       "      <td>Male</td>\n",
       "      <td>United-States</td>\n",
       "      <td>83311</td>\n",
       "    </tr>\n",
       "    <tr>\n",
       "      <th>2</th>\n",
       "      <td>38</td>\n",
       "      <td>HS-grad</td>\n",
       "      <td>Divorced</td>\n",
       "      <td>White</td>\n",
       "      <td>Male</td>\n",
       "      <td>United-States</td>\n",
       "      <td>215646</td>\n",
       "    </tr>\n",
       "    <tr>\n",
       "      <th>3</th>\n",
       "      <td>28</td>\n",
       "      <td>Bachelors</td>\n",
       "      <td>Married</td>\n",
       "      <td>Black</td>\n",
       "      <td>Female</td>\n",
       "      <td>Cuba</td>\n",
       "      <td>338409</td>\n",
       "    </tr>\n",
       "    <tr>\n",
       "      <th>4</th>\n",
       "      <td>37</td>\n",
       "      <td>Masters</td>\n",
       "      <td>Married</td>\n",
       "      <td>White</td>\n",
       "      <td>Female</td>\n",
       "      <td>United-States</td>\n",
       "      <td>284582</td>\n",
       "    </tr>\n",
       "  </tbody>\n",
       "</table>\n",
       "</div>"
      ],
      "text/plain": [
       "   Age   Education   MaritalStatus    Race   Gender         Country  \\\n",
       "0   39   Bachelors   Never-married   White     Male   United-States   \n",
       "1   50   Bachelors         Married   White     Male   United-States   \n",
       "2   38     HS-grad        Divorced   White     Male   United-States   \n",
       "3   28   Bachelors         Married   Black   Female            Cuba   \n",
       "4   37     Masters         Married   White   Female   United-States   \n",
       "\n",
       "   Incentives  \n",
       "0       77516  \n",
       "1       83311  \n",
       "2      215646  \n",
       "3      338409  \n",
       "4      284582  "
      ]
     },
     "execution_count": 12,
     "metadata": {},
     "output_type": "execute_result"
    }
   ],
   "source": [
    "Data = pd.read_csv(\"D:/Shiva Data Science/Main DS/Files/Company_incentives.csv\")\n",
    "Data.head(5)"
   ]
  },
  {
   "cell_type": "code",
   "execution_count": 13,
   "metadata": {},
   "outputs": [],
   "source": [
    "from sklearn.preprocessing import LabelEncoder\n",
    "LabelEncoder = LabelEncoder()\n",
    "\n",
    "Col_Names  = [\"Education\",\"MaritalStatus\",\"Race\",\"Gender\",\"Country\"]\n",
    "\n",
    "for Col in Col_Names:\n",
    "    Data[Col] = LabelEncoder.fit_transform(Data[Col])"
   ]
  },
  {
   "cell_type": "code",
   "execution_count": 14,
   "metadata": {},
   "outputs": [
    {
     "data": {
      "text/html": [
       "<div>\n",
       "<style scoped>\n",
       "    .dataframe tbody tr th:only-of-type {\n",
       "        vertical-align: middle;\n",
       "    }\n",
       "\n",
       "    .dataframe tbody tr th {\n",
       "        vertical-align: top;\n",
       "    }\n",
       "\n",
       "    .dataframe thead th {\n",
       "        text-align: right;\n",
       "    }\n",
       "</style>\n",
       "<table border=\"1\" class=\"dataframe\">\n",
       "  <thead>\n",
       "    <tr style=\"text-align: right;\">\n",
       "      <th></th>\n",
       "      <th>Age</th>\n",
       "      <th>Education</th>\n",
       "      <th>MaritalStatus</th>\n",
       "      <th>Race</th>\n",
       "      <th>Gender</th>\n",
       "      <th>Country</th>\n",
       "    </tr>\n",
       "  </thead>\n",
       "  <tbody>\n",
       "    <tr>\n",
       "      <th>0</th>\n",
       "      <td>39</td>\n",
       "      <td>2</td>\n",
       "      <td>1</td>\n",
       "      <td>4</td>\n",
       "      <td>1</td>\n",
       "      <td>20</td>\n",
       "    </tr>\n",
       "    <tr>\n",
       "      <th>1</th>\n",
       "      <td>50</td>\n",
       "      <td>2</td>\n",
       "      <td>4</td>\n",
       "      <td>4</td>\n",
       "      <td>1</td>\n",
       "      <td>20</td>\n",
       "    </tr>\n",
       "    <tr>\n",
       "      <th>2</th>\n",
       "      <td>38</td>\n",
       "      <td>4</td>\n",
       "      <td>0</td>\n",
       "      <td>4</td>\n",
       "      <td>1</td>\n",
       "      <td>20</td>\n",
       "    </tr>\n",
       "    <tr>\n",
       "      <th>3</th>\n",
       "      <td>28</td>\n",
       "      <td>2</td>\n",
       "      <td>4</td>\n",
       "      <td>2</td>\n",
       "      <td>0</td>\n",
       "      <td>3</td>\n",
       "    </tr>\n",
       "    <tr>\n",
       "      <th>4</th>\n",
       "      <td>37</td>\n",
       "      <td>5</td>\n",
       "      <td>4</td>\n",
       "      <td>4</td>\n",
       "      <td>0</td>\n",
       "      <td>20</td>\n",
       "    </tr>\n",
       "  </tbody>\n",
       "</table>\n",
       "</div>"
      ],
      "text/plain": [
       "   Age  Education  MaritalStatus  Race  Gender  Country\n",
       "0   39          2              1     4       1       20\n",
       "1   50          2              4     4       1       20\n",
       "2   38          4              0     4       1       20\n",
       "3   28          2              4     2       0        3\n",
       "4   37          5              4     4       0       20"
      ]
     },
     "execution_count": 14,
     "metadata": {},
     "output_type": "execute_result"
    }
   ],
   "source": [
    "x = Data.drop(\"Incentives\",axis=1)\n",
    "x.head(5)"
   ]
  },
  {
   "cell_type": "code",
   "execution_count": 15,
   "metadata": {},
   "outputs": [
    {
     "data": {
      "text/html": [
       "<div>\n",
       "<style scoped>\n",
       "    .dataframe tbody tr th:only-of-type {\n",
       "        vertical-align: middle;\n",
       "    }\n",
       "\n",
       "    .dataframe tbody tr th {\n",
       "        vertical-align: top;\n",
       "    }\n",
       "\n",
       "    .dataframe thead th {\n",
       "        text-align: right;\n",
       "    }\n",
       "</style>\n",
       "<table border=\"1\" class=\"dataframe\">\n",
       "  <thead>\n",
       "    <tr style=\"text-align: right;\">\n",
       "      <th></th>\n",
       "      <th>0</th>\n",
       "      <th>1</th>\n",
       "      <th>2</th>\n",
       "      <th>3</th>\n",
       "      <th>4</th>\n",
       "      <th>5</th>\n",
       "    </tr>\n",
       "  </thead>\n",
       "  <tbody>\n",
       "    <tr>\n",
       "      <th>0</th>\n",
       "      <td>0.484848</td>\n",
       "      <td>0.250</td>\n",
       "      <td>0.25</td>\n",
       "      <td>1.0</td>\n",
       "      <td>1.0</td>\n",
       "      <td>1.00</td>\n",
       "    </tr>\n",
       "    <tr>\n",
       "      <th>1</th>\n",
       "      <td>0.818182</td>\n",
       "      <td>0.250</td>\n",
       "      <td>1.00</td>\n",
       "      <td>1.0</td>\n",
       "      <td>1.0</td>\n",
       "      <td>1.00</td>\n",
       "    </tr>\n",
       "    <tr>\n",
       "      <th>2</th>\n",
       "      <td>0.454545</td>\n",
       "      <td>0.500</td>\n",
       "      <td>0.00</td>\n",
       "      <td>1.0</td>\n",
       "      <td>1.0</td>\n",
       "      <td>1.00</td>\n",
       "    </tr>\n",
       "    <tr>\n",
       "      <th>3</th>\n",
       "      <td>0.151515</td>\n",
       "      <td>0.250</td>\n",
       "      <td>1.00</td>\n",
       "      <td>0.5</td>\n",
       "      <td>0.0</td>\n",
       "      <td>0.15</td>\n",
       "    </tr>\n",
       "    <tr>\n",
       "      <th>4</th>\n",
       "      <td>0.424242</td>\n",
       "      <td>0.625</td>\n",
       "      <td>1.00</td>\n",
       "      <td>1.0</td>\n",
       "      <td>0.0</td>\n",
       "      <td>1.00</td>\n",
       "    </tr>\n",
       "  </tbody>\n",
       "</table>\n",
       "</div>"
      ],
      "text/plain": [
       "          0      1     2    3    4     5\n",
       "0  0.484848  0.250  0.25  1.0  1.0  1.00\n",
       "1  0.818182  0.250  1.00  1.0  1.0  1.00\n",
       "2  0.454545  0.500  0.00  1.0  1.0  1.00\n",
       "3  0.151515  0.250  1.00  0.5  0.0  0.15\n",
       "4  0.424242  0.625  1.00  1.0  0.0  1.00"
      ]
     },
     "execution_count": 15,
     "metadata": {},
     "output_type": "execute_result"
    }
   ],
   "source": [
    "from sklearn.preprocessing import MinMaxScaler\n",
    "MM = MinMaxScaler()\n",
    "x  = MM.fit_transform(x)\n",
    "x = pd.DataFrame(x)\n",
    "x.head(5)"
   ]
  },
  {
   "cell_type": "code",
   "execution_count": 16,
   "metadata": {},
   "outputs": [
    {
     "data": {
      "text/plain": [
       "0     77516\n",
       "1     83311\n",
       "2    215646\n",
       "3    338409\n",
       "4    284582\n",
       "Name: Incentives, dtype: int64"
      ]
     },
     "execution_count": 16,
     "metadata": {},
     "output_type": "execute_result"
    }
   ],
   "source": [
    "y = Data[\"Incentives\"]\n",
    "y.head(5)"
   ]
  },
  {
   "cell_type": "code",
   "execution_count": 17,
   "metadata": {},
   "outputs": [],
   "source": [
    "from sklearn.model_selection import train_test_split\n",
    "from sklearn.tree import DecisionTreeRegressor\n",
    "from sklearn.metrics import mean_squared_error"
   ]
  },
  {
   "cell_type": "code",
   "execution_count": 18,
   "metadata": {},
   "outputs": [
    {
     "data": {
      "text/plain": [
       "129223.18"
      ]
     },
     "execution_count": 18,
     "metadata": {},
     "output_type": "execute_result"
    }
   ],
   "source": [
    "import numpy as np\n",
    "X_train,X_test,Y_train,Y_test = train_test_split(x,y,test_size=0.3,random_state=42)\n",
    "\n",
    "model = DecisionTreeRegressor()\n",
    "model.fit(X_train,Y_train)\n",
    "\n",
    "Y_pred = model.predict(X_test)\n",
    "Rmse =np.sqrt(mean_squared_error(Y_test,Y_pred))\n",
    "Rmse.round(2)"
   ]
  },
  {
   "cell_type": "markdown",
   "metadata": {},
   "source": [
    "### Question: Write Python code to perform K-Means clustering on a dataset using the scikit-learn library."
   ]
  },
  {
   "cell_type": "code",
   "execution_count": 19,
   "metadata": {},
   "outputs": [
    {
     "name": "stderr",
     "output_type": "stream",
     "text": [
      "C:\\Users\\91879\\AppData\\Roaming\\Python\\Python310\\site-packages\\sklearn\\cluster\\_kmeans.py:1412: FutureWarning: The default value of `n_init` will change from 10 to 'auto' in 1.4. Set the value of `n_init` explicitly to suppress the warning\n",
      "  super()._check_params_vs_input(X, default_n_init=10)\n",
      "C:\\Users\\91879\\AppData\\Roaming\\Python\\Python310\\site-packages\\sklearn\\cluster\\_kmeans.py:1436: UserWarning: KMeans is known to have a memory leak on Windows with MKL, when there are less chunks than available threads. You can avoid it by setting the environment variable OMP_NUM_THREADS=3.\n",
      "  warnings.warn(\n"
     ]
    },
    {
     "data": {
      "text/html": [
       "<div>\n",
       "<style scoped>\n",
       "    .dataframe tbody tr th:only-of-type {\n",
       "        vertical-align: middle;\n",
       "    }\n",
       "\n",
       "    .dataframe tbody tr th {\n",
       "        vertical-align: top;\n",
       "    }\n",
       "\n",
       "    .dataframe thead th {\n",
       "        text-align: right;\n",
       "    }\n",
       "</style>\n",
       "<table border=\"1\" class=\"dataframe\">\n",
       "  <thead>\n",
       "    <tr style=\"text-align: right;\">\n",
       "      <th></th>\n",
       "      <th>0</th>\n",
       "      <th>1</th>\n",
       "      <th>2</th>\n",
       "      <th>3</th>\n",
       "      <th>4</th>\n",
       "      <th>5</th>\n",
       "      <th>Cluster</th>\n",
       "    </tr>\n",
       "  </thead>\n",
       "  <tbody>\n",
       "    <tr>\n",
       "      <th>0</th>\n",
       "      <td>0.484848</td>\n",
       "      <td>0.250</td>\n",
       "      <td>0.25</td>\n",
       "      <td>1.0</td>\n",
       "      <td>1.0</td>\n",
       "      <td>1.00</td>\n",
       "      <td>2</td>\n",
       "    </tr>\n",
       "    <tr>\n",
       "      <th>1</th>\n",
       "      <td>0.818182</td>\n",
       "      <td>0.250</td>\n",
       "      <td>1.00</td>\n",
       "      <td>1.0</td>\n",
       "      <td>1.0</td>\n",
       "      <td>1.00</td>\n",
       "      <td>1</td>\n",
       "    </tr>\n",
       "    <tr>\n",
       "      <th>2</th>\n",
       "      <td>0.454545</td>\n",
       "      <td>0.500</td>\n",
       "      <td>0.00</td>\n",
       "      <td>1.0</td>\n",
       "      <td>1.0</td>\n",
       "      <td>1.00</td>\n",
       "      <td>2</td>\n",
       "    </tr>\n",
       "    <tr>\n",
       "      <th>3</th>\n",
       "      <td>0.151515</td>\n",
       "      <td>0.250</td>\n",
       "      <td>1.00</td>\n",
       "      <td>0.5</td>\n",
       "      <td>0.0</td>\n",
       "      <td>0.15</td>\n",
       "      <td>0</td>\n",
       "    </tr>\n",
       "    <tr>\n",
       "      <th>4</th>\n",
       "      <td>0.424242</td>\n",
       "      <td>0.625</td>\n",
       "      <td>1.00</td>\n",
       "      <td>1.0</td>\n",
       "      <td>0.0</td>\n",
       "      <td>1.00</td>\n",
       "      <td>0</td>\n",
       "    </tr>\n",
       "  </tbody>\n",
       "</table>\n",
       "</div>"
      ],
      "text/plain": [
       "          0      1     2    3    4     5  Cluster\n",
       "0  0.484848  0.250  0.25  1.0  1.0  1.00        2\n",
       "1  0.818182  0.250  1.00  1.0  1.0  1.00        1\n",
       "2  0.454545  0.500  0.00  1.0  1.0  1.00        2\n",
       "3  0.151515  0.250  1.00  0.5  0.0  0.15        0\n",
       "4  0.424242  0.625  1.00  1.0  0.0  1.00        0"
      ]
     },
     "execution_count": 19,
     "metadata": {},
     "output_type": "execute_result"
    }
   ],
   "source": [
    "from sklearn.cluster import KMeans\n",
    "Kmeans = KMeans(n_clusters=3)\n",
    "Kmeans.fit(x)\n",
    "Kmean_labels =Kmeans.labels_\n",
    "x[\"Cluster\"]= pd.DataFrame(Kmean_labels, columns=[\"Cluster\"])\n",
    "x.head(5)                             "
   ]
  },
  {
   "cell_type": "markdown",
   "metadata": {},
   "source": [
    "# Question: Implement k-nearest neighbors (KNN) classification in Python using the scikit-learn library. Provide code and an example dataset."
   ]
  },
  {
   "cell_type": "code",
   "execution_count": 20,
   "metadata": {},
   "outputs": [],
   "source": [
    "# Example dataset\n",
    "xx = [[1, 2], [2, 3], [3, 4], [4, 5]]\n",
    "yy = [0, 1, 0, 1]"
   ]
  },
  {
   "cell_type": "code",
   "execution_count": 21,
   "metadata": {},
   "outputs": [
    {
     "data": {
      "text/plain": [
       "array([1])"
      ]
     },
     "execution_count": 21,
     "metadata": {},
     "output_type": "execute_result"
    }
   ],
   "source": [
    "from sklearn.neighbors import KNeighborsClassifier\n",
    "knn= KNeighborsClassifier(n_neighbors=3)\n",
    "model = knn.fit(xx,yy)\n",
    "\n",
    "y_pred = model.predict([[6, 3]])\n",
    "y_pred"
   ]
  },
  {
   "cell_type": "markdown",
   "metadata": {},
   "source": [
    "### Question: Write Python code to perform stratified sampling on a dataset for a classification problem. Why is stratified sampling important?"
   ]
  },
  {
   "cell_type": "code",
   "execution_count": 22,
   "metadata": {},
   "outputs": [
    {
     "data": {
      "text/plain": [
       "(            0      1     2     3    4    5  Cluster\n",
       " 357  0.424242  1.000  1.00  1.00  1.0  1.0        1\n",
       " 647  0.242424  0.000  0.00  0.00  0.0  1.0        0\n",
       " 291  0.000000  0.500  0.25  1.00  1.0  0.2        2\n",
       " 420  0.121212  0.250  0.25  1.00  0.0  1.0        0\n",
       " 177  0.575758  0.500  1.00  0.25  1.0  0.0        1\n",
       " ..        ...    ...   ...   ...  ...  ...      ...\n",
       " 71   0.727273  0.625  0.25  1.00  0.0  1.0        0\n",
       " 106  0.333333  0.500  0.25  1.00  0.0  1.0        0\n",
       " 270  0.666667  1.000  0.00  1.00  0.0  1.0        0\n",
       " 435  0.212121  0.250  1.00  0.50  0.0  1.0        0\n",
       " 102  0.242424  0.500  0.25  0.50  0.0  1.0        0\n",
       " \n",
       " [488 rows x 7 columns],\n",
       "             0      1     2     3    4    5  Cluster\n",
       " 158  0.242424  1.000  1.00  1.00  1.0  1.0        1\n",
       " 499  0.969697  1.000  0.00  0.25  0.0  1.0        0\n",
       " 396  0.393939  0.000  0.00  1.00  0.0  1.0        0\n",
       " 155  0.818182  0.000  0.00  1.00  0.0  1.0        0\n",
       " 321  0.787879  0.625  1.00  1.00  1.0  1.0        1\n",
       " ..        ...    ...   ...   ...  ...  ...      ...\n",
       " 11   0.272727  0.000  0.25  0.50  1.0  1.0        2\n",
       " 658  0.636364  1.000  1.00  1.00  1.0  1.0        1\n",
       " 567  0.606061  1.000  0.25  1.00  1.0  1.0        2\n",
       " 178  0.272727  0.500  0.50  1.00  0.0  1.0        0\n",
       " 533  0.969697  0.500  0.25  1.00  1.0  1.0        2\n",
       " \n",
       " [210 rows x 7 columns],\n",
       " 357    186035\n",
       " 647     78602\n",
       " 291    204653\n",
       " 420    109881\n",
       " 177    303044\n",
       "         ...  \n",
       " 71     149116\n",
       " 106    198183\n",
       " 270     96975\n",
       " 435    103649\n",
       " 102    185814\n",
       " Name: Incentives, Length: 488, dtype: int64,\n",
       " 158    197860\n",
       " 499    173093\n",
       " 396     28738\n",
       " 155    313321\n",
       " 321    192776\n",
       "         ...  \n",
       " 11     205019\n",
       " 658    398473\n",
       " 567    233130\n",
       " 178    172579\n",
       " 533    116442\n",
       " Name: Incentives, Length: 210, dtype: int64)"
      ]
     },
     "execution_count": 22,
     "metadata": {},
     "output_type": "execute_result"
    }
   ],
   "source": [
    "from sklearn.model_selection import train_test_split\n",
    "X_train,X_test,Y_train,Y_test = train_test_split(x,y,test_size=0.3,random_state=42 )\n",
    "X_train,X_test,Y_train,Y_test"
   ]
  },
  {
   "cell_type": "code",
   "execution_count": 23,
   "metadata": {},
   "outputs": [
    {
     "data": {
      "text/html": [
       "<div>\n",
       "<style scoped>\n",
       "    .dataframe tbody tr th:only-of-type {\n",
       "        vertical-align: middle;\n",
       "    }\n",
       "\n",
       "    .dataframe tbody tr th {\n",
       "        vertical-align: top;\n",
       "    }\n",
       "\n",
       "    .dataframe thead th {\n",
       "        text-align: right;\n",
       "    }\n",
       "</style>\n",
       "<table border=\"1\" class=\"dataframe\">\n",
       "  <thead>\n",
       "    <tr style=\"text-align: right;\">\n",
       "      <th></th>\n",
       "      <th>datetime_column</th>\n",
       "    </tr>\n",
       "  </thead>\n",
       "  <tbody>\n",
       "    <tr>\n",
       "      <th>0</th>\n",
       "      <td>2023-08-28 10:15:00</td>\n",
       "    </tr>\n",
       "    <tr>\n",
       "      <th>1</th>\n",
       "      <td>2023-08-28 15:30:00</td>\n",
       "    </tr>\n",
       "    <tr>\n",
       "      <th>2</th>\n",
       "      <td>2023-08-29 09:45:00</td>\n",
       "    </tr>\n",
       "  </tbody>\n",
       "</table>\n",
       "</div>"
      ],
      "text/plain": [
       "      datetime_column\n",
       "0 2023-08-28 10:15:00\n",
       "1 2023-08-28 15:30:00\n",
       "2 2023-08-29 09:45:00"
      ]
     },
     "execution_count": 23,
     "metadata": {},
     "output_type": "execute_result"
    }
   ],
   "source": [
    "Date_data = pd.DataFrame({\n",
    "    'datetime_column': ['2023-08-28 10:15:00', '2023-08-28 15:30:00', '2023-08-29 09:45:00']})\n",
    "Date_data[\"datetime_column\"] = pd.to_datetime(Date_data[\"datetime_column\"])\n",
    "Date_data"
   ]
  },
  {
   "cell_type": "code",
   "execution_count": 24,
   "metadata": {},
   "outputs": [
    {
     "name": "stderr",
     "output_type": "stream",
     "text": [
      "C:\\Users\\91879\\AppData\\Local\\Temp\\ipykernel_5784\\1172808793.py:1: FutureWarning: Series.dt.weekofyear and Series.dt.week have been deprecated. Please use Series.dt.isocalendar().week instead.\n",
      "  Date_data[\"Day_of_week\"] = Date_data[\"datetime_column\"].dt.weekofyear\n"
     ]
    },
    {
     "data": {
      "text/html": [
       "<div>\n",
       "<style scoped>\n",
       "    .dataframe tbody tr th:only-of-type {\n",
       "        vertical-align: middle;\n",
       "    }\n",
       "\n",
       "    .dataframe tbody tr th {\n",
       "        vertical-align: top;\n",
       "    }\n",
       "\n",
       "    .dataframe thead th {\n",
       "        text-align: right;\n",
       "    }\n",
       "</style>\n",
       "<table border=\"1\" class=\"dataframe\">\n",
       "  <thead>\n",
       "    <tr style=\"text-align: right;\">\n",
       "      <th></th>\n",
       "      <th>datetime_column</th>\n",
       "      <th>Day_of_week</th>\n",
       "      <th>hour</th>\n",
       "    </tr>\n",
       "  </thead>\n",
       "  <tbody>\n",
       "    <tr>\n",
       "      <th>0</th>\n",
       "      <td>2023-08-28 10:15:00</td>\n",
       "      <td>35</td>\n",
       "      <td>10</td>\n",
       "    </tr>\n",
       "    <tr>\n",
       "      <th>1</th>\n",
       "      <td>2023-08-28 15:30:00</td>\n",
       "      <td>35</td>\n",
       "      <td>15</td>\n",
       "    </tr>\n",
       "    <tr>\n",
       "      <th>2</th>\n",
       "      <td>2023-08-29 09:45:00</td>\n",
       "      <td>35</td>\n",
       "      <td>9</td>\n",
       "    </tr>\n",
       "  </tbody>\n",
       "</table>\n",
       "</div>"
      ],
      "text/plain": [
       "      datetime_column  Day_of_week  hour\n",
       "0 2023-08-28 10:15:00           35    10\n",
       "1 2023-08-28 15:30:00           35    15\n",
       "2 2023-08-29 09:45:00           35     9"
      ]
     },
     "execution_count": 24,
     "metadata": {},
     "output_type": "execute_result"
    }
   ],
   "source": [
    "Date_data[\"Day_of_week\"] = Date_data[\"datetime_column\"].dt.weekofyear\n",
    "Date_data[\"hour\"]= Date_data[\"datetime_column\"].dt.hour\n",
    "Date_data"
   ]
  },
  {
   "cell_type": "markdown",
   "metadata": {},
   "source": [
    "# Question: In a dataset of customer reviews, you want to extract sentiment as a feature. Explain how you can perform sentiment analysis using Python, and provide an example of how to calculate sentiment scores for reviews."
   ]
  },
  {
   "cell_type": "code",
   "execution_count": 25,
   "metadata": {},
   "outputs": [
    {
     "name": "stdout",
     "output_type": "stream",
     "text": [
      "Polarity:  0.705\n",
      "Subjectivity:  0.6900000000000001\n"
     ]
    }
   ],
   "source": [
    "from textblob import TextBlob\n",
    "\n",
    "Review = \"I love this product, Its very good\"\n",
    "\n",
    "sentiment = TextBlob(Review).sentiment\n",
    "\n",
    "print(\"Polarity: \",sentiment.polarity)\n",
    "print(\"Subjectivity: \",sentiment.subjectivity)"
   ]
  },
  {
   "cell_type": "markdown",
   "metadata": {},
   "source": [
    "# Question: Implement a simple linear regression model in Python using the scikit-learn library. Provide code and an example dataset."
   ]
  },
  {
   "cell_type": "code",
   "execution_count": 26,
   "metadata": {},
   "outputs": [
    {
     "name": "stderr",
     "output_type": "stream",
     "text": [
      "C:\\Users\\91879\\AppData\\Roaming\\Python\\Python310\\site-packages\\sklearn\\base.py:464: UserWarning: X does not have valid feature names, but LinearRegression was fitted with feature names\n",
      "  warnings.warn(\n"
     ]
    },
    {
     "data": {
      "text/plain": [
       "array([161038.08622702])"
      ]
     },
     "execution_count": 26,
     "metadata": {},
     "output_type": "execute_result"
    }
   ],
   "source": [
    "from sklearn.linear_model import LinearRegression \n",
    "\n",
    "x = Data[[\"Age\"]]\n",
    "y = Data[\"Incentives\"]\n",
    "\n",
    "LR = LinearRegression()\n",
    "\n",
    "model = LR.fit(x,y)\n",
    "y_pred = model.predict([[88]])\n",
    "y_pred\n"
   ]
  },
  {
   "cell_type": "markdown",
   "metadata": {},
   "source": [
    "# Question: You are working with a time-series dataset. Explain the concept of rolling statistics and provide an example of how to calculate a rolling mean for a time-series."
   ]
  },
  {
   "cell_type": "code",
   "execution_count": 27,
   "metadata": {},
   "outputs": [],
   "source": [
    "# # Sample time-series data\n",
    "# data = pd.DataFrame({'value': [10, 15, 20, 25, 30, 35, 40]})\n",
    "\n",
    "# data[\"Rolling_mean\"] = data[\"value\"].rolling(window=3).mean()\n",
    "\n",
    "# Rolling_mean\n",
    "# data"
   ]
  },
  {
   "cell_type": "code",
   "execution_count": 28,
   "metadata": {},
   "outputs": [
    {
     "name": "stdout",
     "output_type": "stream",
     "text": [
      "length of rectangel: 55\n",
      "width of rectangle: 64\n",
      "Area of rectangle:  3520.0\n"
     ]
    }
   ],
   "source": [
    "length = float(input(\"length of rectangel: \"))\n",
    "\n",
    "width = float(input(\"width of rectangle: \"))\n",
    "\n",
    "area = length* width\n",
    "\n",
    "print(\"Area of rectangle: \", area)"
   ]
  },
  {
   "cell_type": "code",
   "execution_count": 29,
   "metadata": {},
   "outputs": [
    {
     "name": "stdout",
     "output_type": "stream",
     "text": [
      "Enter a number: 65\n",
      "Number is odd\n"
     ]
    }
   ],
   "source": [
    "number = int(input(\"Enter a number: \"))\n",
    "\n",
    "if number % 2 == 0:\n",
    "    print(\"Number is even\")\n",
    "else:\n",
    "    print(\"Number is odd\")"
   ]
  },
  {
   "cell_type": "code",
   "execution_count": 30,
   "metadata": {},
   "outputs": [
    {
     "name": "stdout",
     "output_type": "stream",
     "text": [
      "1\n",
      "2\n",
      "3\n",
      "4\n",
      "5\n",
      "6\n",
      "7\n",
      "8\n",
      "9\n",
      "10\n"
     ]
    }
   ],
   "source": [
    "\n",
    "Numbers = list(range(1,11))\n",
    "\n",
    "for number in Numbers:\n",
    "    print(number)"
   ]
  },
  {
   "cell_type": "code",
   "execution_count": 31,
   "metadata": {},
   "outputs": [
    {
     "name": "stdout",
     "output_type": "stream",
     "text": [
      "120\n"
     ]
    }
   ],
   "source": [
    "def factorial(n):\n",
    "    if n==0 or n==1:\n",
    "        return 1\n",
    "    else:\n",
    "        return n * factorial(n-1)\n",
    "    \n",
    "print (factorial(5))"
   ]
  },
  {
   "cell_type": "code",
   "execution_count": 32,
   "metadata": {},
   "outputs": [
    {
     "name": "stdout",
     "output_type": "stream",
     "text": [
      "1\n",
      "2\n",
      "3\n",
      "4\n",
      "5\n",
      "6\n",
      "7\n",
      "8\n",
      "9\n",
      "10\n"
     ]
    }
   ],
   "source": [
    "for i in range(1,11):\n",
    "    print(i)"
   ]
  },
  {
   "cell_type": "code",
   "execution_count": 33,
   "metadata": {},
   "outputs": [
    {
     "name": "stdout",
     "output_type": "stream",
     "text": [
      "[2, 3, 5, 7, 11, 13, 17, 19, 23, 29, 31, 37, 41, 43, 47, 53, 59, 61, 67, 71, 73, 79, 83, 89, 97]\n"
     ]
    }
   ],
   "source": [
    "def prime_no(n):\n",
    "    for i in range (2,int(n**0.5)+1):\n",
    "        if n % i == 0:\n",
    "            return False\n",
    "    return True   \n",
    "\n",
    "Primes = []\n",
    "for i in range(2,101):\n",
    "    if prime_no(i):\n",
    "        Primes.append(i)\n",
    "\n",
    "print(Primes)"
   ]
  },
  {
   "cell_type": "code",
   "execution_count": 34,
   "metadata": {},
   "outputs": [
    {
     "name": "stdout",
     "output_type": "stream",
     "text": [
      "[2, 3, 5, 7, 11, 13, 17, 19, 23, 29, 31, 37, 41, 43, 47, 53, 59, 61, 67, 71, 73, 79, 83, 89, 97]\n"
     ]
    }
   ],
   "source": [
    "def is_prime(n):\n",
    "  \"\"\"Returns True if n is a prime number, False otherwise.\"\"\"\n",
    "  for i in range(2, int(n**0.5) + 1):\n",
    "    if n % i == 0:\n",
    "      return False\n",
    "  return True\n",
    "\n",
    "\n",
    "primes = []\n",
    "for i in range(2, 101):\n",
    "  if is_prime(i):\n",
    "    primes.append(i)\n",
    "\n",
    "print(primes)"
   ]
  },
  {
   "cell_type": "code",
   "execution_count": 35,
   "metadata": {},
   "outputs": [
    {
     "name": "stdout",
     "output_type": "stream",
     "text": [
      "Iam 25 years old\n"
     ]
    }
   ],
   "source": [
    "age = 25\n",
    "print(\"Iam\",age,\"years old\")"
   ]
  },
  {
   "cell_type": "code",
   "execution_count": 36,
   "metadata": {},
   "outputs": [
    {
     "name": "stdout",
     "output_type": "stream",
     "text": [
      "Iam 24 years old\n"
     ]
    }
   ],
   "source": [
    "age = 24\n",
    "print(\"Iam\",age,\"years old\")"
   ]
  },
  {
   "cell_type": "code",
   "execution_count": 37,
   "metadata": {},
   "outputs": [
    {
     "name": "stdout",
     "output_type": "stream",
     "text": [
      "Type the no. of km: 22\n",
      "22.0 km =  13.67 miles\n"
     ]
    }
   ],
   "source": [
    "#convert km to miles\n",
    "\n",
    "km = float(input(\"Type the no. of km: \"))\n",
    "miles = km / 1.609344\n",
    "print(km, \"km = \", round(miles,3) ,\"miles\")"
   ]
  },
  {
   "cell_type": "code",
   "execution_count": 38,
   "metadata": {},
   "outputs": [
    {
     "data": {
      "text/plain": [
       "str"
      ]
     },
     "execution_count": 38,
     "metadata": {},
     "output_type": "execute_result"
    }
   ],
   "source": [
    "\n",
    "myString = \"Some text\"\n",
    "type(myString)"
   ]
  },
  {
   "cell_type": "code",
   "execution_count": 39,
   "metadata": {},
   "outputs": [
    {
     "name": "stdout",
     "output_type": "stream",
     "text": [
      "he said \"meet me\"\n"
     ]
    }
   ],
   "source": [
    "myString = 'he said \"meet me\"'\n",
    "\n",
    "print(myString)"
   ]
  },
  {
   "cell_type": "code",
   "execution_count": 40,
   "metadata": {},
   "outputs": [
    {
     "name": "stdout",
     "output_type": "stream",
     "text": [
      "h\n",
      "\"\n"
     ]
    }
   ],
   "source": [
    "print(myString[0])\n",
    "print(myString[-1])"
   ]
  },
  {
   "cell_type": "code",
   "execution_count": 41,
   "metadata": {},
   "outputs": [
    {
     "data": {
      "text/plain": [
       "17"
      ]
     },
     "execution_count": 41,
     "metadata": {},
     "output_type": "execute_result"
    }
   ],
   "source": [
    "len(myString)"
   ]
  },
  {
   "cell_type": "code",
   "execution_count": 42,
   "metadata": {},
   "outputs": [
    {
     "data": {
      "text/plain": [
       "'IND'"
      ]
     },
     "execution_count": 42,
     "metadata": {},
     "output_type": "execute_result"
    }
   ],
   "source": [
    "myString = \"IND784874387783\"\n",
    "myString[0:3]"
   ]
  },
  {
   "cell_type": "code",
   "execution_count": 43,
   "metadata": {},
   "outputs": [
    {
     "name": "stdout",
     "output_type": "stream",
     "text": [
      "87783IND\n"
     ]
    }
   ],
   "source": [
    "myString = \"784874387783IND\"\n",
    "myString[-3:]\n",
    "print(myString[-8:])"
   ]
  },
  {
   "cell_type": "code",
   "execution_count": 44,
   "metadata": {},
   "outputs": [
    {
     "data": {
      "text/plain": [
       "'Hello world'"
      ]
     },
     "execution_count": 44,
     "metadata": {},
     "output_type": "execute_result"
    }
   ],
   "source": [
    "#Concatenate\n",
    "\"Hello\"+ \" \"+ \"world\""
   ]
  },
  {
   "cell_type": "code",
   "execution_count": 45,
   "metadata": {},
   "outputs": [
    {
     "data": {
      "text/plain": [
       "'user-22'"
      ]
     },
     "execution_count": 45,
     "metadata": {},
     "output_type": "execute_result"
    }
   ],
   "source": [
    "\"user-\" + str(22)"
   ]
  },
  {
   "cell_type": "code",
   "execution_count": 46,
   "metadata": {},
   "outputs": [
    {
     "name": "stdout",
     "output_type": "stream",
     "text": [
      "<class 'int'>\n",
      "0.14285714285714285\n",
      "<class 'float'>\n"
     ]
    }
   ],
   "source": [
    "num1 = 11\n",
    "num2 = 77\n",
    "print(type(num1))\n",
    "\n",
    "result = num1 / num2\n",
    "print(result)\n",
    "print(type(result))"
   ]
  },
  {
   "cell_type": "code",
   "execution_count": 47,
   "metadata": {},
   "outputs": [
    {
     "data": {
      "text/plain": [
       "39916800"
      ]
     },
     "execution_count": 47,
     "metadata": {},
     "output_type": "execute_result"
    }
   ],
   "source": [
    "import math\n",
    "math.factorial(num1)"
   ]
  },
  {
   "cell_type": "code",
   "execution_count": 48,
   "metadata": {},
   "outputs": [
    {
     "data": {
      "text/plain": [
       "1"
      ]
     },
     "execution_count": 48,
     "metadata": {},
     "output_type": "execute_result"
    }
   ],
   "source": [
    "math.ceil(result)"
   ]
  },
  {
   "cell_type": "markdown",
   "metadata": {},
   "source": [
    "# Lists"
   ]
  },
  {
   "cell_type": "code",
   "execution_count": 52,
   "metadata": {},
   "outputs": [
    {
     "name": "stdout",
     "output_type": "stream",
     "text": [
      "<class 'list'>\n",
      "['apple', 'banana', 'cherry', 'mango']\n"
     ]
    }
   ],
   "source": [
    "\n",
    "fruits = [\"apple\", \"banana\", \"cherry\",\"mango\"]\n",
    "print(type(fruits))\n",
    "print(fruits)"
   ]
  },
  {
   "cell_type": "code",
   "execution_count": 53,
   "metadata": {},
   "outputs": [
    {
     "data": {
      "text/plain": [
       "4"
      ]
     },
     "execution_count": 53,
     "metadata": {},
     "output_type": "execute_result"
    }
   ],
   "source": [
    "len(fruits)"
   ]
  },
  {
   "cell_type": "code",
   "execution_count": 54,
   "metadata": {},
   "outputs": [
    {
     "data": {
      "text/plain": [
       "'apple'"
      ]
     },
     "execution_count": 54,
     "metadata": {},
     "output_type": "execute_result"
    }
   ],
   "source": [
    "fruits[0]"
   ]
  },
  {
   "cell_type": "code",
   "execution_count": 55,
   "metadata": {},
   "outputs": [
    {
     "data": {
      "text/plain": [
       "'mango'"
      ]
     },
     "execution_count": 55,
     "metadata": {},
     "output_type": "execute_result"
    }
   ],
   "source": [
    "fruits[-1]"
   ]
  },
  {
   "cell_type": "code",
   "execution_count": 56,
   "metadata": {},
   "outputs": [
    {
     "data": {
      "text/plain": [
       "['apple', 'banana', 'cherry', 'kiwi']"
      ]
     },
     "execution_count": 56,
     "metadata": {},
     "output_type": "execute_result"
    }
   ],
   "source": [
    "#  mutable\n",
    "fruits[-1] = \"kiwi\"\n",
    "fruits"
   ]
  },
  {
   "cell_type": "code",
   "execution_count": 57,
   "metadata": {},
   "outputs": [
    {
     "data": {
      "text/plain": [
       "['apple', 'banana', 'cherry', 'kiwi', 'kiwi']"
      ]
     },
     "execution_count": 57,
     "metadata": {},
     "output_type": "execute_result"
    }
   ],
   "source": [
    "fruits.append(\"kiwi\")\n",
    "fruits"
   ]
  },
  {
   "cell_type": "code",
   "execution_count": 58,
   "metadata": {},
   "outputs": [
    {
     "data": {
      "text/plain": [
       "['apple', 'banana', 'cherry', 'kiwi']"
      ]
     },
     "execution_count": 58,
     "metadata": {},
     "output_type": "execute_result"
    }
   ],
   "source": [
    "fruits.pop()\n",
    "fruits"
   ]
  },
  {
   "cell_type": "code",
   "execution_count": 59,
   "metadata": {},
   "outputs": [
    {
     "data": {
      "text/plain": [
       "['apple', 'banana', 'kiwi']"
      ]
     },
     "execution_count": 59,
     "metadata": {},
     "output_type": "execute_result"
    }
   ],
   "source": [
    "fruits.pop(2)\n",
    "fruits"
   ]
  },
  {
   "cell_type": "code",
   "execution_count": 60,
   "metadata": {},
   "outputs": [
    {
     "data": {
      "text/plain": [
       "['mango', 'apple', 'banana', 'kiwi']"
      ]
     },
     "execution_count": 60,
     "metadata": {},
     "output_type": "execute_result"
    }
   ],
   "source": [
    "fruits.insert(0, \"mango\")\n",
    "fruits"
   ]
  },
  {
   "cell_type": "code",
   "execution_count": 61,
   "metadata": {},
   "outputs": [
    {
     "data": {
      "text/plain": [
       "['mango', 'apple', 'banana']"
      ]
     },
     "execution_count": 61,
     "metadata": {},
     "output_type": "execute_result"
    }
   ],
   "source": [
    "fruits.remove(\"kiwi\")\n",
    "fruits"
   ]
  },
  {
   "cell_type": "code",
   "execution_count": 62,
   "metadata": {},
   "outputs": [
    {
     "data": {
      "text/plain": [
       "['banana', 'guava', 'mango', 'apple', 'banana']"
      ]
     },
     "execution_count": 62,
     "metadata": {},
     "output_type": "execute_result"
    }
   ],
   "source": [
    "fruits2 =[\"banana\",\"guava\"]\n",
    "fruits2+fruits"
   ]
  },
  {
   "cell_type": "code",
   "execution_count": 63,
   "metadata": {},
   "outputs": [
    {
     "name": "stdout",
     "output_type": "stream",
     "text": [
      "Type your name: raju\n",
      "Here's the list:  ['John Smith', 'Mary Johnson', 'Robert Davis', 'Lisa Wilson', 'Michael Lee', 'Sarah Miller', 'David Anderson', 'Emily Taylor', 'James Brown', 'Jennifer Evans', 'raju']\n"
     ]
    }
   ],
   "source": [
    "#Excercise\n",
    "\n",
    "people_names = [\"John Smith\", \"Mary Johnson\", \"Robert Davis\", \"Lisa Wilson\", \"Michael Lee\", \"Sarah Miller\", \"David Anderson\", \"Emily Taylor\", \"James Brown\", \"Jennifer Evans\"]\n",
    "\n",
    "user = input(\"Type your name: \")\n",
    "\n",
    "people_names.append(user)\n",
    "print(\"Here's the list: \", people_names)\n"
   ]
  },
  {
   "cell_type": "markdown",
   "metadata": {},
   "source": [
    "# Tuples"
   ]
  },
  {
   "cell_type": "code",
   "execution_count": 64,
   "metadata": {},
   "outputs": [
    {
     "data": {
      "text/plain": [
       "tuple"
      ]
     },
     "execution_count": 64,
     "metadata": {},
     "output_type": "execute_result"
    }
   ],
   "source": [
    "T = (\"John\", 25, \"New York\")\n",
    "type(T)"
   ]
  },
  {
   "cell_type": "code",
   "execution_count": 65,
   "metadata": {},
   "outputs": [
    {
     "data": {
      "text/plain": [
       "'John'"
      ]
     },
     "execution_count": 65,
     "metadata": {},
     "output_type": "execute_result"
    }
   ],
   "source": [
    "T[0]"
   ]
  },
  {
   "cell_type": "code",
   "execution_count": 66,
   "metadata": {},
   "outputs": [
    {
     "data": {
      "text/plain": [
       "('John', 25, 'New York')"
      ]
     },
     "execution_count": 66,
     "metadata": {},
     "output_type": "execute_result"
    }
   ],
   "source": [
    "T"
   ]
  },
  {
   "cell_type": "code",
   "execution_count": 67,
   "metadata": {},
   "outputs": [],
   "source": [
    "# T.add(\"kiwi\")\n",
    "# T \n",
    "# immutable"
   ]
  },
  {
   "cell_type": "code",
   "execution_count": 69,
   "metadata": {},
   "outputs": [
    {
     "name": "stdout",
     "output_type": "stream",
     "text": [
      "Type your birthday in the format DD-MM-YYYY 06-06-1998\n",
      "You were born in  June\n"
     ]
    }
   ],
   "source": [
    "#excercise\n",
    "months = (\"January\", \"February\", \"March\", \"April\", \"May\", \"June\", \"July\", \"August\", \"September\", \"October\", \"November\", \"December\")\n",
    "Birthday = input(\"Type your birthday in the format DD-MM-YYYY \")\n",
    "\n",
    "index = int (Birthday[3:5])-1\n",
    "bd_month = months[index]\n",
    "\n",
    "print(\"You were born in \", bd_month)\n"
   ]
  },
  {
   "cell_type": "markdown",
   "metadata": {},
   "source": [
    "# Dictionary"
   ]
  },
  {
   "cell_type": "code",
   "execution_count": 70,
   "metadata": {},
   "outputs": [],
   "source": [
    "person = {\"first_name\": \"John\",\"last_name\": \"Doe\",\"age\": 30,\"city\": \"New York\"}"
   ]
  },
  {
   "cell_type": "code",
   "execution_count": 71,
   "metadata": {},
   "outputs": [
    {
     "data": {
      "text/plain": [
       "{'first_name': 'John',\n",
       " 'last_name': 'Doe',\n",
       " 'age': 30,\n",
       " 'city': 'New York',\n",
       " 'dob': '14-01-1998'}"
      ]
     },
     "execution_count": 71,
     "metadata": {},
     "output_type": "execute_result"
    }
   ],
   "source": [
    "person[\"dob\"] = \"14-01-1998\"\n",
    "person"
   ]
  },
  {
   "cell_type": "code",
   "execution_count": 72,
   "metadata": {},
   "outputs": [
    {
     "data": {
      "text/plain": [
       "{'first_name': 'John',\n",
       " 'last_name': 'Doe',\n",
       " 'age': 30,\n",
       " 'city': 'New York',\n",
       " 'dob': '14-01-1998',\n",
       " 'childrens': ['Ana', 'pan']}"
      ]
     },
     "execution_count": 72,
     "metadata": {},
     "output_type": "execute_result"
    }
   ],
   "source": [
    "person[\"childrens\"] = [\"Ana\",\"pan\"]\n",
    "person"
   ]
  },
  {
   "cell_type": "code",
   "execution_count": 73,
   "metadata": {},
   "outputs": [
    {
     "data": {
      "text/plain": [
       "{'first_name': 'John',\n",
       " 'last_name': 'Doe',\n",
       " 'age': 30,\n",
       " 'city': 'New York',\n",
       " 'dob': '14-01-1998',\n",
       " 'childrens': ['Ana', 'pan', 'jan']}"
      ]
     },
     "execution_count": 73,
     "metadata": {},
     "output_type": "execute_result"
    }
   ],
   "source": [
    "person[\"childrens\"].append(\"jan\")\n",
    "person"
   ]
  },
  {
   "cell_type": "code",
   "execution_count": 74,
   "metadata": {},
   "outputs": [
    {
     "data": {
      "text/plain": [
       "['Ana', 'pan', 'jan']"
      ]
     },
     "execution_count": 74,
     "metadata": {},
     "output_type": "execute_result"
    }
   ],
   "source": [
    "person.get(\"childrens\",\"invalid property\")"
   ]
  },
  {
   "cell_type": "code",
   "execution_count": 75,
   "metadata": {},
   "outputs": [
    {
     "data": {
      "text/plain": [
       "'invalid property'"
      ]
     },
     "execution_count": 75,
     "metadata": {},
     "output_type": "execute_result"
    }
   ],
   "source": [
    "person.get(\"Country\",\"invalid property\")"
   ]
  },
  {
   "cell_type": "code",
   "execution_count": 76,
   "metadata": {},
   "outputs": [
    {
     "data": {
      "text/plain": [
       "'John'"
      ]
     },
     "execution_count": 76,
     "metadata": {},
     "output_type": "execute_result"
    }
   ],
   "source": [
    "person[\"first_name\"]"
   ]
  },
  {
   "cell_type": "code",
   "execution_count": 77,
   "metadata": {},
   "outputs": [
    {
     "data": {
      "text/plain": [
       "['first_name', 'last_name', 'age', 'city', 'dob', 'childrens']"
      ]
     },
     "execution_count": 77,
     "metadata": {},
     "output_type": "execute_result"
    }
   ],
   "source": [
    "keys = list(person.keys())\n",
    "keys"
   ]
  },
  {
   "cell_type": "code",
   "execution_count": 78,
   "metadata": {},
   "outputs": [
    {
     "data": {
      "text/plain": [
       "['John', 'Doe', 30, 'New York', '14-01-1998', ['Ana', 'pan', 'jan']]"
      ]
     },
     "execution_count": 78,
     "metadata": {},
     "output_type": "execute_result"
    }
   ],
   "source": [
    "values = list(person.values())\n",
    "values"
   ]
  },
  {
   "cell_type": "code",
   "execution_count": 79,
   "metadata": {},
   "outputs": [
    {
     "data": {
      "text/plain": [
       "{'first_name': 'John',\n",
       " 'last_name': 'Doe',\n",
       " 'age': 30,\n",
       " 'city': 'New York',\n",
       " 'dob': '14-01-1998',\n",
       " 'childrens': ['Ana', 'pan', 'jan']}"
      ]
     },
     "execution_count": 79,
     "metadata": {},
     "output_type": "execute_result"
    }
   ],
   "source": [
    "person"
   ]
  },
  {
   "cell_type": "code",
   "execution_count": 80,
   "metadata": {},
   "outputs": [
    {
     "name": "stdout",
     "output_type": "stream",
     "text": [
      "What inforemation you want to know about the person? dob\n",
      "14-01-1998\n"
     ]
    }
   ],
   "source": [
    "key = input(\"What inforemation you want to know about the person? \")\n",
    "\n",
    "result = person.get(key,\"That information is not available\")\n",
    "\n",
    "print(result)"
   ]
  },
  {
   "cell_type": "code",
   "execution_count": 81,
   "metadata": {},
   "outputs": [
    {
     "name": "stdout",
     "output_type": "stream",
     "text": [
      "What inforemation you want to know about the person? city\n",
      "New York\n"
     ]
    }
   ],
   "source": [
    "key = input(\"What inforemation you want to know about the person? \")\n",
    "\n",
    "result = person.get(key,\"That information is not available\")\n",
    "\n",
    "print(result)"
   ]
  },
  {
   "cell_type": "code",
   "execution_count": 82,
   "metadata": {},
   "outputs": [
    {
     "name": "stdout",
     "output_type": "stream",
     "text": [
      "What inforemation you want to know about the person? country\n",
      "That information is not available\n"
     ]
    }
   ],
   "source": [
    "key = input(\"What inforemation you want to know about the person? \")\n",
    "\n",
    "result = person.get(key,\"That information is not available\")\n",
    "\n",
    "print(result)"
   ]
  },
  {
   "cell_type": "code",
   "execution_count": 83,
   "metadata": {},
   "outputs": [
    {
     "name": "stdout",
     "output_type": "stream",
     "text": [
      "What inforemation you want to know about the person? city\n",
      "New York\n"
     ]
    }
   ],
   "source": [
    "key = input(\"What inforemation you want to know about the person? \").lower()\n",
    "\n",
    "result = person.get(key,\"That information is not available\")\n",
    "\n",
    "print(result)"
   ]
  },
  {
   "cell_type": "code",
   "execution_count": 84,
   "metadata": {},
   "outputs": [
    {
     "name": "stdout",
     "output_type": "stream",
     "text": [
      "What inforemation you want to know about the person? age\n",
      "30\n"
     ]
    }
   ],
   "source": [
    "key = input(\"What inforemation you want to know about the person? \")\n",
    "\n",
    "result = person.get(key,\"That information is not available\")\n",
    "\n",
    "print(result)"
   ]
  },
  {
   "cell_type": "code",
   "execution_count": 85,
   "metadata": {},
   "outputs": [
    {
     "name": "stdout",
     "output_type": "stream",
     "text": [
      "What inforemation you want to know about the person? last_name\n",
      "Doe\n"
     ]
    }
   ],
   "source": [
    "key = input(\"What inforemation you want to know about the person? \").lower()\n",
    "\n",
    "result = person.get(key,\"That information is not available\")\n",
    "\n",
    "print(result)"
   ]
  },
  {
   "cell_type": "code",
   "execution_count": 86,
   "metadata": {},
   "outputs": [
    {
     "data": {
      "text/plain": [
       "{}"
      ]
     },
     "execution_count": 86,
     "metadata": {},
     "output_type": "execute_result"
    }
   ],
   "source": [
    "person.clear()\n",
    "person"
   ]
  },
  {
   "cell_type": "markdown",
   "metadata": {},
   "source": [
    "# Booleans"
   ]
  },
  {
   "cell_type": "code",
   "execution_count": 87,
   "metadata": {},
   "outputs": [
    {
     "data": {
      "text/plain": [
       "bool"
      ]
     },
     "execution_count": 87,
     "metadata": {},
     "output_type": "execute_result"
    }
   ],
   "source": [
    "Myboolean = True\n",
    "type(Myboolean)"
   ]
  },
  {
   "cell_type": "code",
   "execution_count": 88,
   "metadata": {},
   "outputs": [],
   "source": [
    "num1 = 15\n",
    "num2 = 19"
   ]
  },
  {
   "cell_type": "code",
   "execution_count": 89,
   "metadata": {},
   "outputs": [
    {
     "data": {
      "text/plain": [
       "False"
      ]
     },
     "execution_count": 89,
     "metadata": {},
     "output_type": "execute_result"
    }
   ],
   "source": [
    "num1 > num2"
   ]
  },
  {
   "cell_type": "code",
   "execution_count": 90,
   "metadata": {},
   "outputs": [
    {
     "data": {
      "text/plain": [
       "True"
      ]
     },
     "execution_count": 90,
     "metadata": {},
     "output_type": "execute_result"
    }
   ],
   "source": [
    "num1 < num2"
   ]
  },
  {
   "cell_type": "code",
   "execution_count": 91,
   "metadata": {},
   "outputs": [
    {
     "data": {
      "text/plain": [
       "False"
      ]
     },
     "execution_count": 91,
     "metadata": {},
     "output_type": "execute_result"
    }
   ],
   "source": [
    "num1 == num2"
   ]
  },
  {
   "cell_type": "code",
   "execution_count": 92,
   "metadata": {},
   "outputs": [
    {
     "data": {
      "text/plain": [
       "True"
      ]
     },
     "execution_count": 92,
     "metadata": {},
     "output_type": "execute_result"
    }
   ],
   "source": [
    "num1 != num2"
   ]
  },
  {
   "cell_type": "code",
   "execution_count": 93,
   "metadata": {},
   "outputs": [
    {
     "data": {
      "text/plain": [
       "False"
      ]
     },
     "execution_count": 93,
     "metadata": {},
     "output_type": "execute_result"
    }
   ],
   "source": [
    "num1 >= num2"
   ]
  },
  {
   "cell_type": "code",
   "execution_count": 94,
   "metadata": {},
   "outputs": [
    {
     "data": {
      "text/plain": [
       "True"
      ]
     },
     "execution_count": 94,
     "metadata": {},
     "output_type": "execute_result"
    }
   ],
   "source": [
    "num1 <= num2"
   ]
  },
  {
   "cell_type": "code",
   "execution_count": 96,
   "metadata": {},
   "outputs": [
    {
     "name": "stdout",
     "output_type": "stream",
     "text": [
      "Type the first number: 12\n",
      "Type the first number: 55\n",
      "this is out of the if structure\n"
     ]
    }
   ],
   "source": [
    "num1 = float(input(\"Type the first number: \"))\n",
    "num2 = float(input(\"Type the first number: \"))\n",
    "\n",
    "if (num1 > num2):\n",
    "    print(num1,\"is greater than \",num2)\n",
    "print(\"this is out of the if structure\")"
   ]
  },
  {
   "cell_type": "code",
   "execution_count": 97,
   "metadata": {},
   "outputs": [
    {
     "name": "stdout",
     "output_type": "stream",
     "text": [
      "Type the first number: 55\n",
      "Type the first number: 64\n",
      "this is out of the if structure\n"
     ]
    }
   ],
   "source": [
    "num1 = float(input(\"Type the first number: \"))\n",
    "num2 = float(input(\"Type the first number: \"))\n",
    "\n",
    "if (num1 > num2):\n",
    "    print(num1,\"is greater than \",num2)\n",
    "print(\"this is out of the if structure\")"
   ]
  },
  {
   "cell_type": "code",
   "execution_count": 98,
   "metadata": {},
   "outputs": [
    {
     "name": "stdout",
     "output_type": "stream",
     "text": [
      "Type the first number: 15\n",
      "Type the first number: 62\n",
      "15.0 is less than  62.0\n"
     ]
    }
   ],
   "source": [
    "num1 = float(input(\"Type the first number: \"))\n",
    "num2 = float(input(\"Type the first number: \"))\n",
    "\n",
    "if (num1 > num2):\n",
    "    print(num1,\"is greater than \",num2)\n",
    "elif(num1 == num2):\n",
    "    print(num1,\"is equal to \",num2)\n",
    "else:\n",
    "    print(num1,\"is less than \",num2)"
   ]
  },
  {
   "cell_type": "code",
   "execution_count": 99,
   "metadata": {},
   "outputs": [
    {
     "name": "stdout",
     "output_type": "stream",
     "text": [
      "Type the first number: 14\n",
      "Type the first number: 98\n",
      "14.0 is less than  98.0\n"
     ]
    }
   ],
   "source": [
    "num1 = float(input(\"Type the first number: \"))\n",
    "num2 = float(input(\"Type the first number: \"))\n",
    "\n",
    "if (num1 > num2):\n",
    "    print(num1,\"is greater than \",num2)\n",
    "elif(num1 == num2):\n",
    "    print(num1,\"is equal to \",num2)\n",
    "else:\n",
    "    print(num1,\"is less than \",num2)"
   ]
  },
  {
   "cell_type": "code",
   "execution_count": 100,
   "metadata": {},
   "outputs": [
    {
     "name": "stdout",
     "output_type": "stream",
     "text": [
      "Type your age: 25\n",
      "you are younge than me\n"
     ]
    }
   ],
   "source": [
    "my_age = 34\n",
    "\n",
    "user_age = int(input(\"Type your age: \"))\n",
    "\n",
    "if (user_age > my_age):\n",
    "    print(\"You are older than me\")\n",
    "elif (user_age == my_age):\n",
    "    print(\"we are same age\")\n",
    "else:\n",
    "    print(\"you are younge than me\")"
   ]
  },
  {
   "cell_type": "code",
   "execution_count": 101,
   "metadata": {},
   "outputs": [
    {
     "name": "stdout",
     "output_type": "stream",
     "text": [
      "Type your age: 15\n",
      "you are younge than me\n"
     ]
    }
   ],
   "source": [
    "my_age = 34\n",
    "\n",
    "user_age = int(input(\"Type your age: \"))\n",
    "\n",
    "if (user_age > my_age):\n",
    "    print(\"You are older than me\")\n",
    "elif (user_age == my_age):\n",
    "    print(\"we are same age\")\n",
    "else:\n",
    "    print(\"you are younge than me\")"
   ]
  },
  {
   "cell_type": "code",
   "execution_count": 102,
   "metadata": {},
   "outputs": [
    {
     "name": "stdout",
     "output_type": "stream",
     "text": [
      "Type your grade in the first test: 89\n",
      "Type your grade in the second test: 65\n",
      "Type your grade in the third test: 41\n",
      "Type your number of absences: 5\n",
      "Type your total number of classes: 55\n",
      "Average grade:  65.0\n",
      "Attendance rate:  90.91\n",
      "You have been approved.\n"
     ]
    }
   ],
   "source": [
    "grade1 = float(input(\"Type your grade in the first test: \"))\n",
    "grade2 = float(input(\"Type your grade in the second test: \"))\n",
    "grade3 = float(input(\"Type your grade in the third test: \"))\n",
    "\n",
    "absences = int(input(\"Type your number of absences: \"))\n",
    "total_classes = int(input(\"Type your total number of classes: \"))\n",
    "\n",
    "avg_grade = (grade1 + grade2 + grade3) / 3\n",
    "attendance = (total_classes - absences) / total_classes\n",
    "\n",
    "print(\"Average grade: \", round(avg_grade,2))\n",
    "print(\"Attendance rate: \", round((attendance*100),2))\n",
    "\n",
    "if (avg_grade >= 60):\n",
    "    if(attendance >= 0.8):\n",
    "        print(\"You have been approved.\")\n",
    "    else:\n",
    "        print(\"You are not approved due to an attenadnce rate lower than the 80%.\")\n",
    "elif (attendance >= 0.8):\n",
    "    print(\"You are not approved due to an average grade lower than 60%.\")\n",
    "else:\n",
    "    print(\"You are not approved due to an attenadnce rate lower than the 80% and an average grade lower than 60%.\")"
   ]
  },
  {
   "cell_type": "code",
   "execution_count": 103,
   "metadata": {},
   "outputs": [
    {
     "name": "stdout",
     "output_type": "stream",
     "text": [
      "Type your grade in the first test: 55\n",
      "Type your grade in the second test: 61\n",
      "Type your grade in the third test: 42\n",
      "Type your number of absences: 6\n",
      "Type your total number of classes: 60\n",
      "Average grade:  52.67\n",
      "Attendance rate:  90.0\n",
      "You are not approved due to an average grade lower than 60%.\n"
     ]
    }
   ],
   "source": [
    "grade1 = float(input(\"Type your grade in the first test: \"))\n",
    "grade2 = float(input(\"Type your grade in the second test: \"))\n",
    "grade3 = float(input(\"Type your grade in the third test: \"))\n",
    "\n",
    "absences = int(input(\"Type your number of absences: \"))\n",
    "total_classes = int(input(\"Type your total number of classes: \"))\n",
    "\n",
    "avg_grade = (grade1 + grade2 + grade3) / 3\n",
    "attendance = (total_classes - absences) / total_classes\n",
    "\n",
    "print(\"Average grade: \", round(avg_grade,2))\n",
    "print(\"Attendance rate: \", round((attendance*100),2))\n",
    "\n",
    "if (avg_grade >= 60):\n",
    "    if(attendance >= 0.8):\n",
    "        print(\"You have been approved.\")\n",
    "    else:\n",
    "        print(\"You are not approved due to an attenadnce rate lower than the 80%.\")\n",
    "elif (attendance >= 0.8):\n",
    "    print(\"You are not approved due to an average grade lower than 60%.\")\n",
    "else:\n",
    "    print(\"You are not approved due to an attenadnce rate lower than the 80% and an average grade lower than 60%.\")"
   ]
  },
  {
   "cell_type": "markdown",
   "metadata": {},
   "source": [
    "# And - or Operators"
   ]
  },
  {
   "cell_type": "code",
   "execution_count": 104,
   "metadata": {},
   "outputs": [
    {
     "name": "stdout",
     "output_type": "stream",
     "text": [
      "Type your grade in the first test: 55\n",
      "Type your grade in the second test: 69\n",
      "Type your grade in the third test: 88\n",
      "Type your number of absences: 55\n",
      "Type your total number of classes: 66\n",
      "Average grade:  70.67\n",
      "Attendance rate:  16.67\n",
      "You are not approved due to an attenadnce rate lower than the 80%.\n"
     ]
    }
   ],
   "source": [
    "grade1 = float(input(\"Type your grade in the first test: \"))\n",
    "grade2 = float(input(\"Type your grade in the second test: \"))\n",
    "grade3 = float(input(\"Type your grade in the third test: \"))\n",
    "\n",
    "absences = int(input(\"Type your number of absences: \"))\n",
    "total_classes = int(input(\"Type your total number of classes: \"))\n",
    "\n",
    "avg_grade = (grade1 + grade2 + grade3) / 3\n",
    "attendance = (total_classes - absences) / total_classes\n",
    "\n",
    "print(\"Average grade: \", round(avg_grade,2))\n",
    "print(\"Attendance rate: \", round((attendance*100),2))\n",
    "\n",
    "if (avg_grade >= 60 and attendance >= 0.8):\n",
    "    print(\"You have been approved.\")\n",
    "elif (avg_grade <= 60 and attendance <= 0.8):\n",
    "    print(\"You are not approved due to an attenadnce rate lower than the 80% and an average grade lower than 60%.\")   \n",
    "elif (attendance >= 0.8):\n",
    "    print(\"You are not approved due to an average grade lower than 60%.\")\n",
    "else:\n",
    "    print(\"You are not approved due to an attenadnce rate lower than the 80%.\")"
   ]
  },
  {
   "cell_type": "code",
   "execution_count": 105,
   "metadata": {},
   "outputs": [
    {
     "name": "stdout",
     "output_type": "stream",
     "text": [
      "Type your grade in the first test: 65\n",
      "Type your grade in the second test: 98\n",
      "Type your grade in the third test: 85\n",
      "Type your number of absences: 4\n",
      "Type your total number of classes: 56\n",
      "Average grade:  82.67\n",
      "Attendance rate:  92.86\n",
      "You have been approved.\n"
     ]
    }
   ],
   "source": [
    "grade1 = float(input(\"Type your grade in the first test: \"))\n",
    "grade2 = float(input(\"Type your grade in the second test: \"))\n",
    "grade3 = float(input(\"Type your grade in the third test: \"))\n",
    "\n",
    "absences = int(input(\"Type your number of absences: \"))\n",
    "total_classes = int(input(\"Type your total number of classes: \"))\n",
    "\n",
    "avg_grade = (grade1 + grade2 + grade3) / 3\n",
    "attendance = (total_classes - absences) / total_classes\n",
    "\n",
    "print(\"Average grade: \", round(avg_grade,2))\n",
    "print(\"Attendance rate: \", round((attendance*100),2))\n",
    "\n",
    "if (avg_grade >= 60 and attendance >= 0.8):\n",
    "    print(\"You have been approved.\")\n",
    "elif (avg_grade <= 60 and attendance <= 0.8):\n",
    "    print(\"You are not approved due to an attenadnce rate lower than the 80% and an average grade lower than 60%.\")   \n",
    "elif (attendance >= 0.8):\n",
    "    print(\"You are not approved due to an average grade lower than 60%.\")\n",
    "else:\n",
    "    print(\"You are not approved due to an attenadnce rate lower than the 80%.\")"
   ]
  },
  {
   "cell_type": "markdown",
   "metadata": {},
   "source": [
    "# #Conditions"
   ]
  },
  {
   "cell_type": "code",
   "execution_count": 106,
   "metadata": {},
   "outputs": [
    {
     "name": "stdout",
     "output_type": "stream",
     "text": [
      "This program claculate your body mass index.\n",
      "Type your weight in kg(ex. 70.5): 66\n",
      "Type your height in meters(ex. 1.75): 1.5\n",
      "your bmi is:  29.33\n",
      "The classification of bmi is:  Over weight\n"
     ]
    }
   ],
   "source": [
    "print(\"This program claculate your body mass index.\")\n",
    "\n",
    "weight = float(input(\"Type your weight in kg(ex. 70.5): \" ))\n",
    "height = float(input(\"Type your height in meters(ex. 1.75): \" ))\n",
    "\n",
    "bmi = weight / (height**2)\n",
    "\n",
    "print(\"your bmi is: \", round(bmi,2))\n",
    "\n",
    "if (bmi <= 18.5):\n",
    "    classification = \"Under weight\"\n",
    "elif (bmi > 18.5 and bmi <= 24.9):\n",
    "    classification = \"Normal weight\"\n",
    "elif (bmi > 24.9 and bmi < 29.9):\n",
    "    classification = \"Over weight\"\n",
    "else:\n",
    "    classification = \"Obesity\"\n",
    "    \n",
    "print(\"The classification of bmi is: \", classification)"
   ]
  },
  {
   "cell_type": "code",
   "execution_count": 107,
   "metadata": {},
   "outputs": [
    {
     "name": "stdout",
     "output_type": "stream",
     "text": [
      "This program claculate your body mass index.\n",
      "Type your weight in kg(ex. 70.5): 98\n",
      "Type your height in meters(ex. 1.75): 1.8\n",
      "your bmi is:  30.25\n",
      "The classification of bmi is:  Obesity\n"
     ]
    }
   ],
   "source": [
    "print(\"This program claculate your body mass index.\")\n",
    "\n",
    "weight = float(input(\"Type your weight in kg(ex. 70.5): \" ))\n",
    "height = float(input(\"Type your height in meters(ex. 1.75): \" ))\n",
    "\n",
    "bmi = weight / (height**2)\n",
    "\n",
    "print(\"your bmi is: \", round(bmi,2))\n",
    "\n",
    "if (bmi <= 18.5):\n",
    "    classification = \"Under weight\"\n",
    "elif (bmi > 18.5 and bmi <= 24.9):\n",
    "    classification = \"Normal weight\"\n",
    "elif (bmi > 24.9 and bmi < 29.9):\n",
    "    classification = \"Over weight\"\n",
    "else:\n",
    "    classification = \"Obesity\"\n",
    "    \n",
    "print(\"The classification of bmi is: \", classification)"
   ]
  },
  {
   "cell_type": "markdown",
   "metadata": {},
   "source": [
    "# While Loops"
   ]
  },
  {
   "cell_type": "code",
   "execution_count": 109,
   "metadata": {},
   "outputs": [
    {
     "name": "stdout",
     "output_type": "stream",
     "text": [
      "Type the name of the person: mani\n",
      "Type the name of the person: sainath\n",
      "Type the name of the person: bhanu\n",
      "Type the name of the person: pavan\n",
      "Type the name of the person: shiva\n",
      "['mani', 'sainath', 'bhanu', 'pavan', 'shiva']\n"
     ]
    }
   ],
   "source": [
    "people = []\n",
    "\n",
    "while len(people) < 5:\n",
    "    person = input(\"Type the name of the person: \")\n",
    "    people.append(person)\n",
    "print(people)\n"
   ]
  },
  {
   "cell_type": "code",
   "execution_count": 110,
   "metadata": {},
   "outputs": [
    {
     "name": "stdout",
     "output_type": "stream",
     "text": [
      "Iam thinking about a number between zero and ten can you guess: 5\n",
      "You guessed it. I was thinking about:  5\n"
     ]
    }
   ],
   "source": [
    "import random\n",
    "\n",
    "number = random.randint(0,10)\n",
    "\n",
    "guess = int(input(\"Iam thinking about a number between zero and ten can you guess: \"))\n",
    "\n",
    "while True:\n",
    "    if guess == number:\n",
    "        break\n",
    "    else:\n",
    "        guess = int(input(\"Nope, Try again: \"))\n",
    "\n",
    "print(\"You guessed it. I was thinking about: \", number)"
   ]
  },
  {
   "cell_type": "code",
   "execution_count": 111,
   "metadata": {},
   "outputs": [
    {
     "name": "stdout",
     "output_type": "stream",
     "text": [
      "Iam thinking about a number between zero and ten can you guess: 6\n",
      "Nope, Try again: 5\n",
      "Nope, Try again: 8\n",
      "You guessed it. I was thinking about:  8\n"
     ]
    }
   ],
   "source": [
    "number = 8\n",
    "\n",
    "guess = int(input(\"Iam thinking about a number between zero and ten can you guess: \"))\n",
    "\n",
    "while True:\n",
    "    if guess == number:\n",
    "        break\n",
    "    else:\n",
    "        guess = int(input(\"Nope, Try again: \"))\n",
    "\n",
    "print(\"You guessed it. I was thinking about: \", number)"
   ]
  },
  {
   "cell_type": "markdown",
   "metadata": {},
   "source": [
    "# For Loops"
   ]
  },
  {
   "cell_type": "code",
   "execution_count": 112,
   "metadata": {},
   "outputs": [
    {
     "name": "stdout",
     "output_type": "stream",
     "text": [
      "January\n",
      "February\n",
      "March\n",
      "\n",
      " \n",
      "April\n",
      "May\n",
      "June\n",
      "July\n",
      "August\n",
      " \n",
      "September\n",
      "October\n",
      "November\n",
      "December\n"
     ]
    }
   ],
   "source": [
    "months = [\"January\", \"February\", \"March\", \"\",\" \",\"April\", \"May\", \"June\", \"July\", \"August\", \" \",\"September\", \"October\", \"November\", \"December\"]\n",
    "\n",
    "for month in months:\n",
    "    print(month)"
   ]
  },
  {
   "cell_type": "code",
   "execution_count": 113,
   "metadata": {},
   "outputs": [
    {
     "name": "stdout",
     "output_type": "stream",
     "text": [
      "January\n",
      "February\n",
      "March\n",
      " \n",
      "April\n",
      "May\n",
      "June\n",
      "July\n",
      "August\n",
      " \n",
      "September\n",
      "October\n",
      "November\n",
      "December\n"
     ]
    }
   ],
   "source": [
    "for month in months:\n",
    "    if month == \"\":\n",
    "        continue\n",
    "    else:\n",
    "        print(month)"
   ]
  },
  {
   "cell_type": "code",
   "execution_count": 114,
   "metadata": {},
   "outputs": [
    {
     "name": "stdout",
     "output_type": "stream",
     "text": [
      "January\n",
      "February\n",
      "March\n",
      "April\n",
      "May\n",
      "June\n",
      "July\n",
      "August\n",
      "September\n",
      "October\n",
      "November\n",
      "December\n"
     ]
    }
   ],
   "source": [
    "for month in months:\n",
    "    if month == \"\":\n",
    "        continue\n",
    "    elif month == \" \":\n",
    "        continue\n",
    "    else:\n",
    "        print(month)"
   ]
  },
  {
   "cell_type": "code",
   "execution_count": 115,
   "metadata": {},
   "outputs": [
    {
     "name": "stdout",
     "output_type": "stream",
     "text": [
      "J\n",
      "a\n",
      "n\n",
      "u\n",
      "a\n",
      "r\n",
      "y\n"
     ]
    }
   ],
   "source": [
    "month = \"January\"\n",
    "\n",
    "for char in month:\n",
    "    print(char)"
   ]
  },
  {
   "cell_type": "code",
   "execution_count": 116,
   "metadata": {},
   "outputs": [
    {
     "name": "stdout",
     "output_type": "stream",
     "text": [
      "0\n",
      "1\n",
      "2\n",
      "3\n",
      "4\n",
      "5\n",
      "6\n",
      "7\n",
      "8\n",
      "9\n"
     ]
    }
   ],
   "source": [
    "for i in range(0,10):\n",
    "    print(i)"
   ]
  },
  {
   "cell_type": "code",
   "execution_count": 117,
   "metadata": {},
   "outputs": [
    {
     "name": "stdout",
     "output_type": "stream",
     "text": [
      "name  :  Alice\n",
      "age  :  30\n",
      "city  :  San Francisco\n"
     ]
    }
   ],
   "source": [
    "dict = {\"name\": \"Alice\", \"age\": 30, \"city\": \"San Francisco\"}\n",
    "\n",
    "for key in dict:\n",
    "    print(key,\" : \", dict[key])"
   ]
  },
  {
   "cell_type": "code",
   "execution_count": 118,
   "metadata": {},
   "outputs": [
    {
     "name": "stdout",
     "output_type": "stream",
     "text": [
      "Post by :  shiva\n",
      "hi\n",
      "iam\n",
      "you\n",
      "go\n",
      "Post by :  pavan\n",
      "bye\n",
      "come\n",
      "where\n",
      "software\n"
     ]
    }
   ],
   "source": [
    "posts = {\"shiva\" : [\"hi\", \"iam\", \"you\", \"go\"], \"pavan\" : [\"bye\", \"come\", \"where\", \"software\"]}\n",
    "\n",
    "for person in posts:\n",
    "    print(\"Post by : \",person)\n",
    "    for post in posts[person]:\n",
    "        print(post)"
   ]
  },
  {
   "cell_type": "code",
   "execution_count": 119,
   "metadata": {},
   "outputs": [
    {
     "name": "stdout",
     "output_type": "stream",
     "text": [
      "Type the name of the person: ram\n",
      "Type the name of the person: shiva\n",
      "Type the name of the person: ramesh\n",
      "Type the name of the person: mani\n",
      "Type the name of the person: rakesh\n",
      "\n",
      "picking a random person:  ram\n"
     ]
    }
   ],
   "source": [
    "import random\n",
    "\n",
    "people = []\n",
    "\n",
    "for x in range(0,5):\n",
    "    person = input(\"Type the name of the person: \")\n",
    "    people. append(person)\n",
    "    \n",
    "index = random.randint(0,4)\n",
    "\n",
    "random_person = people[index]\n",
    "\n",
    "print(\"\\npicking a random person: \", random_person)"
   ]
  },
  {
   "cell_type": "code",
   "execution_count": 120,
   "metadata": {},
   "outputs": [
    {
     "name": "stdout",
     "output_type": "stream",
     "text": [
      "i'm thinking about a color, canyou guess it: red\n",
      "Nope, try again: green\n",
      "You guessed it, I was thinking about:  green\n",
      "Lets play again? type 'no' to quit.no\n",
      "it was fun, thanks for playing\n"
     ]
    }
   ],
   "source": [
    "import random\n",
    "\n",
    "colors = [\"red\", \"green\", \"blue\", \"yellow\", \"purple\", \"orange\"]\n",
    "\n",
    "while True:\n",
    "    color = colors[random.randint(0,len(colors)-1)]\n",
    "    guess = input(\"i'm thinking about a color, canyou guess it: \")\n",
    "    \n",
    "    while True:\n",
    "        if (color == guess.lower()):\n",
    "            break\n",
    "        else:\n",
    "            guess = input(\"Nope, try again: \")\n",
    "    print(\"You guessed it, I was thinking about: \", color)\n",
    "    \n",
    "    play_again = input(\"Lets play again? type 'no' to quit.\")\n",
    "    if play_again.lower() == \"no\":\n",
    "        break\n",
    "print(\"it was fun, thanks for playing\")"
   ]
  },
  {
   "cell_type": "markdown",
   "metadata": {},
   "source": [
    "# Data Validation"
   ]
  },
  {
   "cell_type": "code",
   "execution_count": 121,
   "metadata": {},
   "outputs": [
    {
     "name": "stdout",
     "output_type": "stream",
     "text": [
      "Type your grade in the first test: 66\n",
      "Grade should be in between 0 and 10\n",
      "Type your grade in the first test: 98\n",
      "Grade should be in between 0 and 10\n",
      "Type your grade in the first test: 5\n",
      "Type your grade in the second test: 9\n"
     ]
    }
   ],
   "source": [
    "data_valid = False\n",
    "while data_valid == False:\n",
    "    grade1 = float(input(\"Type your grade in the first test: \"))\n",
    "    if grade1 < 0 or grade1 > 10:\n",
    "        print(\"Grade should be in between 0 and 10\")\n",
    "        continue\n",
    "    else:\n",
    "        data_valid = True\n",
    "\n",
    "data_valid = False\n",
    "while data_valid == False:\n",
    "    grade2 = float(input(\"Type your grade in the second test: \"))\n",
    "    if grade2 < 0 or grade2 > 10:\n",
    "        print(\"Grade should be in between 0 and 10\")\n",
    "        continue\n",
    "    else:\n",
    "        data_valid = True\n"
   ]
  },
  {
   "cell_type": "code",
   "execution_count": 122,
   "metadata": {},
   "outputs": [
    {
     "name": "stdout",
     "output_type": "stream",
     "text": [
      "Type total no of classes : 5\n",
      "Number of absences : 66\n",
      "Absences should not less than zero and not greater than total classes\n",
      "Number of absences : 1\n"
     ]
    }
   ],
   "source": [
    "data_valid = False\n",
    "while data_valid == False:\n",
    "    total_classes = float(input(\"Type total no of classes : \"))\n",
    "    if total_classes <= 0 :\n",
    "        print(\"Total number of classes should more than o\")\n",
    "        continue\n",
    "    else:\n",
    "        data_valid = True\n",
    "        \n",
    "data_valid = False\n",
    "while data_valid == False:\n",
    "    obsences = float(input(\"Number of absences : \"))\n",
    "    if obsences < 0 or obsences > total_classes :\n",
    "        print(\"Absences should not less than zero and not greater than total classes\")\n",
    "        continue\n",
    "    else:\n",
    "        data_valid = True"
   ]
  },
  {
   "cell_type": "code",
   "execution_count": 123,
   "metadata": {},
   "outputs": [
    {
     "name": "stdout",
     "output_type": "stream",
     "text": [
      "Type your grade in the first test: 9\n",
      "Type your grade in the second test: 8\n",
      "Type total no of classes : 36\n",
      "Number of absences : 6\n",
      "Average grade:  8.5\n",
      "Attendance rate:  83.33\n",
      "You have been approved.\n"
     ]
    }
   ],
   "source": [
    "data_valid = False\n",
    "while data_valid == False:\n",
    "    grade1 = float(input(\"Type your grade in the first test: \"))\n",
    "    if grade1 < 0 or grade1 > 10:\n",
    "        print(\"Grade should be in between 0 and 10\")\n",
    "        continue\n",
    "    else:\n",
    "        data_valid = True\n",
    "\n",
    "data_valid = False\n",
    "while data_valid == False:\n",
    "    grade2 = float(input(\"Type your grade in the second test: \"))\n",
    "    if grade2 < 0 or grade2 > 10:\n",
    "        print(\"Grade should be in between 0 and 10\")\n",
    "        continue\n",
    "    else:\n",
    "        data_valid = True\n",
    "        \n",
    "data_valid = False\n",
    "while data_valid == False:\n",
    "    total_classes = float(input(\"Type total no of classes : \"))\n",
    "    if total_classes <= 0 :\n",
    "        print(\"Total number of classes should more than 0\")\n",
    "        continue\n",
    "    else:\n",
    "        data_valid = True\n",
    "        \n",
    "data_valid = False\n",
    "while data_valid == False:\n",
    "    obsences = float(input(\"Number of absences : \"))\n",
    "    if obsences < 0 or obsences > total_classes :\n",
    "        print(\"Absences should not less than zero and not greater than total classes\")\n",
    "        continue\n",
    "    else:\n",
    "        data_valid = True\n",
    "\n",
    "avg_grade = (grade1 + grade2 ) / 2\n",
    "attendance = (total_classes - obsences) / total_classes\n",
    "\n",
    "print(\"Average grade: \", round(avg_grade,2))\n",
    "print(\"Attendance rate: \", round((attendance*100),2))\n",
    "\n",
    "if (avg_grade >= 6 and attendance >= 0.8):\n",
    "    print(\"You have been approved.\")\n",
    "elif (avg_grade <= 6 and attendance <= 0.8):\n",
    "    print(\"You are not approved due to an attenadnce rate lower than the 80% and an average grade lower than 60%.\")   \n",
    "elif (attendance >= 0.8):\n",
    "    print(\"You are not approved due to an average grade lower than 60%.\")\n",
    "else:\n",
    "    print(\"You are not approved due to an attenadnce rate lower than the 80%.\")"
   ]
  },
  {
   "cell_type": "code",
   "execution_count": 124,
   "metadata": {},
   "outputs": [
    {
     "name": "stdout",
     "output_type": "stream",
     "text": [
      "Type your grade in the first test: 5\n",
      "Type your grade in the second test: 9\n",
      "Type total no of classes : 54\n",
      "Number of absences : 50\n",
      "Average grade:  7.0\n",
      "Attendance rate:  7.41\n",
      "You are not approved due to an attenadnce rate lower than the 80%.\n"
     ]
    }
   ],
   "source": [
    "data_valid = False\n",
    "while data_valid == False:\n",
    "    grade1 = float(input(\"Type your grade in the first test: \"))\n",
    "    if grade1 < 0 or grade1 > 10:\n",
    "        print(\"Grade should be in between 0 and 10\")\n",
    "        continue\n",
    "    else:\n",
    "        data_valid = True\n",
    "\n",
    "data_valid = False\n",
    "while data_valid == False:\n",
    "    grade2 = float(input(\"Type your grade in the second test: \"))\n",
    "    if grade2 < 0 or grade2 > 10:\n",
    "        print(\"Grade should be in between 0 and 10\")\n",
    "        continue\n",
    "    else:\n",
    "        data_valid = True\n",
    "        \n",
    "data_valid = False\n",
    "while data_valid == False:\n",
    "    total_classes = float(input(\"Type total no of classes : \"))\n",
    "    if total_classes <= 0 :\n",
    "        print(\"Total number of classes should more than 0\")\n",
    "        continue\n",
    "    else:\n",
    "        data_valid = True\n",
    "        \n",
    "data_valid = False\n",
    "while data_valid == False:\n",
    "    obsences = float(input(\"Number of absences : \"))\n",
    "    if obsences < 0 or obsences > total_classes :\n",
    "        print(\"Absences should not less than zero and not greater than total classes\")\n",
    "        continue\n",
    "    else:\n",
    "        data_valid = True\n",
    "\n",
    "avg_grade = (grade1 + grade2 ) / 2\n",
    "attendance = (total_classes - obsences) / total_classes\n",
    "\n",
    "print(\"Average grade: \", round(avg_grade,2))\n",
    "print(\"Attendance rate: \", round((attendance*100),2))\n",
    "\n",
    "if (avg_grade >= 6 and attendance >= 0.8):\n",
    "    print(\"You have been approved.\")\n",
    "elif (avg_grade <= 6 and attendance <= 0.8):\n",
    "    print(\"You are not approved due to an attenadnce rate lower than the 80% and an average grade lower than 60%.\")   \n",
    "elif (attendance >= 0.8):\n",
    "    print(\"You are not approved due to an average grade lower than 60%.\")\n",
    "else:\n",
    "    print(\"You are not approved due to an attenadnce rate lower than the 80%.\")"
   ]
  },
  {
   "cell_type": "markdown",
   "metadata": {},
   "source": [
    "# Error handling"
   ]
  },
  {
   "cell_type": "code",
   "execution_count": 125,
   "metadata": {},
   "outputs": [
    {
     "name": "stdout",
     "output_type": "stream",
     "text": [
      "type a number:45\n",
      "the number is:  45.0\n"
     ]
    }
   ],
   "source": [
    "number = input(\"type a number:\")\n",
    "\n",
    "try:\n",
    "    number = float(number)\n",
    "    print(\"the number is: \", number)\n",
    "except:\n",
    "    print(\"Invalid number\")"
   ]
  },
  {
   "cell_type": "code",
   "execution_count": 126,
   "metadata": {},
   "outputs": [
    {
     "name": "stdout",
     "output_type": "stream",
     "text": [
      "type a number:6\n",
      "the number is:  6.0\n"
     ]
    }
   ],
   "source": [
    "number = input(\"type a number:\")\n",
    "\n",
    "try:\n",
    "    number = float(number)\n",
    "    print(\"the number is: \", number)\n",
    "except:\n",
    "    print(\"Invalid number\")"
   ]
  },
  {
   "cell_type": "code",
   "execution_count": 127,
   "metadata": {},
   "outputs": [
    {
     "name": "stdout",
     "output_type": "stream",
     "text": [
      "[2, 3, 5, 7, 11, 13, 17, 19, 23, 29, 31, 37, 41, 43, 47, 53, 59, 61, 67, 71, 73, 79, 83, 89, 97]\n"
     ]
    },
    {
     "data": {
      "text/plain": [
       "25"
      ]
     },
     "execution_count": 127,
     "metadata": {},
     "output_type": "execute_result"
    }
   ],
   "source": [
    "prime_numbers = []\n",
    "\n",
    "for i in range(2, 100):\n",
    "    is_prime = True\n",
    "    \n",
    "    for n in range(2, i-1):\n",
    "        if i % n == 0:\n",
    "            is_prime = False\n",
    "            \n",
    "    if is_prime:\n",
    "        prime_numbers.append(i)\n",
    "        \n",
    "print(prime_numbers)\n",
    "len(prime_numbers)"
   ]
  },
  {
   "cell_type": "code",
   "execution_count": 128,
   "metadata": {},
   "outputs": [
    {
     "name": "stdout",
     "output_type": "stream",
     "text": [
      "Type your grade in the first test: 56\n",
      "Grade should be in between 0 and 10\n",
      "Type your grade in the first test: 8\n",
      "Type your grade in the second test: 9\n",
      "Type total no of classes : 65\n",
      "Number of absences : 20\n",
      "Average grade:  8.5\n",
      "Attendance rate:  69.23\n",
      "You are not approved due to an attenadnce rate lower than the 80%.\n"
     ]
    }
   ],
   "source": [
    "data_valid = False\n",
    "while data_valid == False:\n",
    "    grade1 = input(\"Type your grade in the first test: \")\n",
    "    try:\n",
    "        grade1 = float(grade1)\n",
    "    except:\n",
    "        print(\"Invalid input, only numbers are accepted. Decimal should be separated by dot.\")\n",
    "        continue\n",
    "    if grade1 < 0 or grade1 > 10:\n",
    "        print(\"Grade should be in between 0 and 10\")\n",
    "        continue\n",
    "    else:\n",
    "        data_valid = True\n",
    "\n",
    "data_valid = False\n",
    "while data_valid == False:\n",
    "    grade2 = input(\"Type your grade in the second test: \")\n",
    "    try:\n",
    "        grade2 = float(grade2)\n",
    "    except:\n",
    "        print(\"Invalid input, only numbers are accepted. Decimal should be separated by dot.\")\n",
    "        continue\n",
    "    if grade2 < 0 or grade2 > 10:\n",
    "        print(\"Grade should be in between 0 and 10\")\n",
    "        continue\n",
    "    else:\n",
    "        data_valid = True\n",
    "        \n",
    "data_valid = False\n",
    "while data_valid == False:\n",
    "    total_classes = input(\"Type total no of classes : \")\n",
    "    try:\n",
    "        total_classes = int(total_classes)\n",
    "    except:\n",
    "        print(\"Invalid input, only numbers are accepted. Decimal should be separated by dot.\")\n",
    "        continue\n",
    "    if total_classes <= 0 :\n",
    "        print(\"Total number of classes should more than 0\")\n",
    "        continue\n",
    "    else:\n",
    "        data_valid = True\n",
    "        \n",
    "data_valid = False\n",
    "while data_valid == False:\n",
    "    obsences = input(\"Number of absences : \")\n",
    "    try:\n",
    "        obsences = int(obsences)\n",
    "    except:\n",
    "        print(\"Invalid input, only numbers are accepted. Decimal should be separated by dot.\")\n",
    "        continue\n",
    "    if obsences < 0 or obsences > total_classes :\n",
    "        print(\"Absences should not less than zero and not greater than total classes\")\n",
    "        continue\n",
    "    else:\n",
    "        data_valid = True\n",
    "\n",
    "avg_grade = (grade1 + grade2 ) / 2\n",
    "attendance = (total_classes - obsences) / total_classes\n",
    "\n",
    "print(\"Average grade: \", round(avg_grade,2))\n",
    "print(\"Attendance rate: \", round((attendance*100),2))\n",
    "\n",
    "if (avg_grade >= 6 and attendance >= 0.8):\n",
    "    print(\"You have been approved.\")\n",
    "elif (avg_grade <= 6 and attendance <= 0.8):\n",
    "    print(\"You are not approved due to an attenadnce rate lower than the 80% and an average grade lower than 60%.\")   \n",
    "elif (attendance >= 0.8):\n",
    "    print(\"You are not approved due to an average grade lower than 60%.\")\n",
    "else:\n",
    "    print(\"You are not approved due to an attenadnce rate lower than the 80%.\")"
   ]
  },
  {
   "cell_type": "code",
   "execution_count": 129,
   "metadata": {},
   "outputs": [
    {
     "name": "stdout",
     "output_type": "stream",
     "text": [
      "Type your grade in the first test: 8\n",
      "Type your grade in the second test: 9\n",
      "Type total no of classes : 60\n",
      "Number of absences : 4\n",
      "Average grade:  8.5\n",
      "Attendance rate:  93.33\n",
      "You have been approved.\n"
     ]
    }
   ],
   "source": [
    "data_valid = False\n",
    "while data_valid == False:\n",
    "    grade1 = input(\"Type your grade in the first test: \")\n",
    "    try:\n",
    "        grade1 = float(grade1)\n",
    "    except:\n",
    "        print(\"Invalid input, only numbers are accepted. Decimal should be separated by dot.\")\n",
    "        continue\n",
    "    if grade1 < 0 or grade1 > 10:\n",
    "        print(\"Grade should be in between 0 and 10\")\n",
    "        continue\n",
    "    else:\n",
    "        data_valid = True\n",
    "\n",
    "data_valid = False\n",
    "while data_valid == False:\n",
    "    grade2 = input(\"Type your grade in the second test: \")\n",
    "    try:\n",
    "        grade2 = float(grade2)\n",
    "    except:\n",
    "        print(\"Invalid input, only numbers are accepted. Decimal should be separated by dot.\")\n",
    "        continue\n",
    "    if grade2 < 0 or grade2 > 10:\n",
    "        print(\"Grade should be in between 0 and 10\")\n",
    "        continue\n",
    "    else:\n",
    "        data_valid = True\n",
    "        \n",
    "data_valid = False\n",
    "while data_valid == False:\n",
    "    total_classes = input(\"Type total no of classes : \")\n",
    "    try:\n",
    "        total_classes = int(total_classes)\n",
    "    except:\n",
    "        print(\"Invalid input, only numbers are accepted. Decimal should be separated by dot.\")\n",
    "        continue\n",
    "    if total_classes <= 0 :\n",
    "        print(\"Total number of classes should more than 0\")\n",
    "        continue\n",
    "    else:\n",
    "        data_valid = True\n",
    "        \n",
    "data_valid = False\n",
    "while data_valid == False:\n",
    "    obsences = input(\"Number of absences : \")\n",
    "    try:\n",
    "        obsences = int(obsences)\n",
    "    except:\n",
    "        print(\"Invalid input, only numbers are accepted. Decimal should be separated by dot.\")\n",
    "        continue\n",
    "    if obsences < 0 or obsences > total_classes :\n",
    "        print(\"Absences should not less than zero and not greater than total classes\")\n",
    "        continue\n",
    "    else:\n",
    "        data_valid = True\n",
    "\n",
    "avg_grade = (grade1 + grade2 ) / 2\n",
    "attendance = (total_classes - obsences) / total_classes\n",
    "\n",
    "print(\"Average grade: \", round(avg_grade,2))\n",
    "print(\"Attendance rate: \", round((attendance*100),2))\n",
    "\n",
    "if (avg_grade >= 6 and attendance >= 0.8):\n",
    "    print(\"You have been approved.\")\n",
    "elif (avg_grade <= 6 and attendance <= 0.8):\n",
    "    print(\"You are not approved due to an attenadnce rate lower than the 80% and an average grade lower than 60%.\")   \n",
    "elif (attendance >= 0.8):\n",
    "    print(\"You are not approved due to an average grade lower than 60%.\")\n",
    "else:\n",
    "    print(\"You are not approved due to an attenadnce rate lower than the 80%.\")"
   ]
  },
  {
   "cell_type": "markdown",
   "metadata": {},
   "source": [
    "# Print Prime numbers"
   ]
  },
  {
   "cell_type": "code",
   "execution_count": 130,
   "metadata": {},
   "outputs": [
    {
     "name": "stdout",
     "output_type": "stream",
     "text": [
      "[2, 3, 5, 7, 11, 13, 17, 19, 23, 29, 31, 37, 41, 43, 47, 53, 59, 61, 67, 71, 73, 79, 83, 89, 97, 101, 103, 107, 109, 113, 127, 131, 137, 139, 149, 151, 157, 163, 167, 173, 179, 181, 191, 193, 197, 199, 211, 223, 227, 229, 233, 239, 241, 251, 257, 263, 269, 271, 277, 281, 283, 293, 307, 311, 313, 317, 331, 337, 347, 349, 353, 359, 367, 373, 379, 383, 389, 397, 401, 409, 419, 421, 431, 433, 439, 443, 449, 457, 461, 463, 467, 479, 487, 491, 499, 503, 509, 521, 523, 541, 547, 557, 563, 569, 571, 577, 587, 593, 599, 601, 607, 613, 617, 619, 631, 641, 643, 647, 653, 659, 661, 673, 677, 683, 691, 701, 709, 719, 727, 733, 739, 743, 751, 757, 761, 769, 773, 787, 797, 809, 811, 821, 823, 827, 829, 839, 853, 857, 859, 863, 877, 881, 883, 887, 907, 911, 919, 929, 937, 941, 947, 953, 967, 971, 977, 983, 991, 997]\n"
     ]
    },
    {
     "data": {
      "text/plain": [
       "168"
      ]
     },
     "execution_count": 130,
     "metadata": {},
     "output_type": "execute_result"
    }
   ],
   "source": [
    "prime_numbers = []\n",
    "\n",
    "for i in range(2, 1000):\n",
    "    is_prime = True\n",
    "    \n",
    "    for n in range(2, i-1):\n",
    "        if i % n == 0:\n",
    "            is_prime = False\n",
    "            \n",
    "    if is_prime:\n",
    "        prime_numbers.append(i)\n",
    "        \n",
    "print(prime_numbers)\n",
    "len(prime_numbers)"
   ]
  },
  {
   "cell_type": "code",
   "execution_count": 131,
   "metadata": {},
   "outputs": [
    {
     "name": "stdout",
     "output_type": "stream",
     "text": [
      "[2, 3, 5, 7]\n"
     ]
    },
    {
     "data": {
      "text/plain": [
       "4"
      ]
     },
     "execution_count": 131,
     "metadata": {},
     "output_type": "execute_result"
    }
   ],
   "source": [
    "prime_numbers = []\n",
    "\n",
    "for i in range(2, 10):\n",
    "    is_prime = True\n",
    "    \n",
    "    for n in range(2, i-1):\n",
    "        if i % n == 0:\n",
    "            is_prime = False\n",
    "            \n",
    "    if is_prime:\n",
    "        prime_numbers.append(i)\n",
    "        \n",
    "print(prime_numbers)\n",
    "len(prime_numbers)"
   ]
  },
  {
   "cell_type": "markdown",
   "metadata": {},
   "source": [
    "# Functions"
   ]
  },
  {
   "cell_type": "code",
   "execution_count": 132,
   "metadata": {},
   "outputs": [
    {
     "name": "stdout",
     "output_type": "stream",
     "text": [
      "5\n"
     ]
    }
   ],
   "source": [
    "print(5)"
   ]
  },
  {
   "cell_type": "code",
   "execution_count": 133,
   "metadata": {},
   "outputs": [
    {
     "data": {
      "text/plain": [
       "6546"
      ]
     },
     "execution_count": 133,
     "metadata": {},
     "output_type": "execute_result"
    }
   ],
   "source": [
    "round(6545.655)"
   ]
  },
  {
   "cell_type": "code",
   "execution_count": 134,
   "metadata": {},
   "outputs": [
    {
     "name": "stdout",
     "output_type": "stream",
     "text": [
      "Hellow\n"
     ]
    }
   ],
   "source": [
    "def say_hello():\n",
    "    print(\"Hellow\")\n",
    "say_hello()"
   ]
  },
  {
   "cell_type": "code",
   "execution_count": 135,
   "metadata": {},
   "outputs": [
    {
     "name": "stdout",
     "output_type": "stream",
     "text": [
      "Hello shiva, how are you doing?\n"
     ]
    }
   ],
   "source": [
    "def say_hello(person):\n",
    "    print(\"Hello \" + person + \", how are you doing?\")\n",
    "    \n",
    "say_hello(\"shiva\")"
   ]
  },
  {
   "cell_type": "code",
   "execution_count": 136,
   "metadata": {},
   "outputs": [
    {
     "name": "stdout",
     "output_type": "stream",
     "text": [
      "Hello Pawan, how are you doing?\n"
     ]
    }
   ],
   "source": [
    "say_hello(\"Pawan\")"
   ]
  },
  {
   "cell_type": "code",
   "execution_count": 137,
   "metadata": {},
   "outputs": [
    {
     "name": "stdout",
     "output_type": "stream",
     "text": [
      "Celsius:  93.33\n",
      "Kelvin:  366.83\n"
     ]
    }
   ],
   "source": [
    "def fahr2celsius(fahr):\n",
    "    celsius = (5 * (fahr - 32)) / 9\n",
    "    return celsius\n",
    "print(\"Celsius: \", round(fahr2celsius(200),2) )\n",
    "print(\"Kelvin: \", round(fahr2celsius(200)+273.5,2) )"
   ]
  },
  {
   "cell_type": "code",
   "execution_count": 138,
   "metadata": {},
   "outputs": [
    {
     "name": "stdout",
     "output_type": "stream",
     "text": [
      "Hello shiva, how are you doing? pawan is waiting for you\n"
     ]
    }
   ],
   "source": [
    "def say_hello(person1, person2):\n",
    "    print(\"Hello \" + person1 + \", how are you doing? \" + person2 + \" is waiting for you\")\n",
    "    \n",
    "say_hello(\"shiva\", \"pawan\")"
   ]
  },
  {
   "cell_type": "code",
   "execution_count": 139,
   "metadata": {},
   "outputs": [
    {
     "name": "stdout",
     "output_type": "stream",
     "text": [
      "Hello shiva, how are you doing? Hero is waiting for you\n"
     ]
    }
   ],
   "source": [
    "def say_hello(person1, person2 = \"Hero\"):\n",
    "    print(\"Hello \" + person1 + \", how are you doing? \" + person2 + \" is waiting for you\")\n",
    "    \n",
    "say_hello(\"shiva\")"
   ]
  },
  {
   "cell_type": "markdown",
   "metadata": {},
   "source": [
    "# Modules"
   ]
  },
  {
   "cell_type": "markdown",
   "metadata": {},
   "source": [
    "# Time"
   ]
  },
  {
   "cell_type": "code",
   "execution_count": 140,
   "metadata": {},
   "outputs": [],
   "source": [
    "import time as t"
   ]
  },
  {
   "cell_type": "code",
   "execution_count": 141,
   "metadata": {},
   "outputs": [],
   "source": [
    "time_now = t.localtime()"
   ]
  },
  {
   "cell_type": "code",
   "execution_count": 142,
   "metadata": {},
   "outputs": [
    {
     "name": "stdout",
     "output_type": "stream",
     "text": [
      "transaction done at  9h17m\n"
     ]
    }
   ],
   "source": [
    "print(\"transaction done at \", str(time_now.tm_hour) + \"h\" + str(time_now.tm_min) + \"m\") "
   ]
  },
  {
   "cell_type": "code",
   "execution_count": 143,
   "metadata": {},
   "outputs": [
    {
     "data": {
      "text/plain": [
       "1697600863.7913659"
      ]
     },
     "execution_count": 143,
     "metadata": {},
     "output_type": "execute_result"
    }
   ],
   "source": [
    "t.time()"
   ]
  },
  {
   "cell_type": "code",
   "execution_count": 144,
   "metadata": {},
   "outputs": [
    {
     "name": "stdout",
     "output_type": "stream",
     "text": [
      "1698205664.278987\n"
     ]
    },
    {
     "data": {
      "text/plain": [
       "time.struct_time(tm_year=2023, tm_mon=10, tm_mday=25, tm_hour=9, tm_min=17, tm_sec=44, tm_wday=2, tm_yday=298, tm_isdst=0)"
      ]
     },
     "execution_count": 144,
     "metadata": {},
     "output_type": "execute_result"
    }
   ],
   "source": [
    "time_now = t.time()\n",
    "delivery_time = time_now + (86400 * 7)\n",
    "print(delivery_time)\n",
    "\n",
    "t.localtime(delivery_time)"
   ]
  },
  {
   "cell_type": "code",
   "execution_count": 145,
   "metadata": {},
   "outputs": [],
   "source": [
    "t.sleep(5)"
   ]
  },
  {
   "cell_type": "markdown",
   "metadata": {},
   "source": [
    "# Matplotlib"
   ]
  },
  {
   "cell_type": "code",
   "execution_count": 146,
   "metadata": {},
   "outputs": [],
   "source": [
    "import matplotlib.pyplot as plt"
   ]
  },
  {
   "cell_type": "code",
   "execution_count": 147,
   "metadata": {},
   "outputs": [
    {
     "data": {
      "text/plain": [
       "[<matplotlib.lines.Line2D at 0x21b98901960>]"
      ]
     },
     "execution_count": 147,
     "metadata": {},
     "output_type": "execute_result"
    },
    {
     "data": {
      "image/png": "[encoded data removed]",
      "text/plain": [
       "<Figure size 640x480 with 1 Axes>"
      ]
     },
     "metadata": {},
     "output_type": "display_data"
    }
   ],
   "source": [
    "x = [1,2,5,2,5,9]\n",
    "y = [1500,458,9964,15245,152,1456]\n",
    "\n",
    "plt.plot(x,y)"
   ]
  },
  {
   "cell_type": "code",
   "execution_count": 148,
   "metadata": {},
   "outputs": [
    {
     "data": {
      "text/plain": [
       "[<matplotlib.lines.Line2D at 0x21b98b60eb0>]"
      ]
     },
     "execution_count": 148,
     "metadata": {},
     "output_type": "execute_result"
    },
    {
     "data": {
      "image/png": "[encoded data removed]",
      "text/plain": [
       "<Figure size 640x480 with 1 Axes>"
      ]
     },
     "metadata": {},
     "output_type": "display_data"
    }
   ],
   "source": [
    "months = (\"January\", \"February\", \"March\", \"April\", \"May\", \"June\")\n",
    "plt.plot(months,y)"
   ]
  },
  {
   "cell_type": "code",
   "execution_count": 149,
   "metadata": {},
   "outputs": [
    {
     "data": {
      "text/plain": [
       "Text(0.5, 1.0, 'Heading')"
      ]
     },
     "execution_count": 149,
     "metadata": {},
     "output_type": "execute_result"
    },
    {
     "data": {
      "image/png": "[encoded data removed]",
      "text/plain": [
       "<Figure size 640x480 with 1 Axes>"
      ]
     },
     "metadata": {},
     "output_type": "display_data"
    }
   ],
   "source": [
    "plt.bar(x,y)\n",
    "plt.xlabel(\"X\")\n",
    "plt.ylabel(\"Y\")\n",
    "plt.title(\"Heading\")"
   ]
  },
  {
   "cell_type": "markdown",
   "metadata": {},
   "source": [
    "# Time & Pyplot"
   ]
  },
  {
   "cell_type": "code",
   "execution_count": 150,
   "metadata": {},
   "outputs": [],
   "source": [
    "import matplotlib.pyplot as plt\n",
    "import time as t"
   ]
  },
  {
   "cell_type": "code",
   "execution_count": 151,
   "metadata": {},
   "outputs": [
    {
     "name": "stdout",
     "output_type": "stream",
     "text": [
      "This program will help you to type faster\n",
      "Please enter to continue: \n",
      "Type the word: shiva\n",
      "Type the word: ramesh\n",
      "Type the word: programming\n",
      "Type the word: programming\n",
      "Type the word: programming\n",
      "You made 2mistake(s).\n",
      "Now let's see your evalution\n"
     ]
    },
    {
     "data": {
      "image/png": "[encoded data removed]",
      "text/plain": [
       "<Figure size 640x480 with 1 Axes>"
      ]
     },
     "metadata": {},
     "output_type": "display_data"
    }
   ],
   "source": [
    "times = []\n",
    "mistakes = 0 \n",
    "\n",
    "print(\"This program will help you to type faster\")\n",
    "input(\"Please enter to continue: \")\n",
    "\n",
    "while len(times) < 5:\n",
    "    start = t.time()\n",
    "    word = input(\"Type the word: \")\n",
    "    end = t.time()\n",
    "    time_elapsed = end - start\n",
    "    \n",
    "    times.append(time_elapsed)\n",
    "    \n",
    "    if (word.lower() != \"programming\"):\n",
    "        mistakes += 1\n",
    "        \n",
    "print(\"You made \" + str(mistakes) + \"mistake(s).\")\n",
    "print(\"Now let's see your evalution\")\n",
    "t.sleep(3)\n",
    "\n",
    "\n",
    "x = [1, 2, 3, 4, 5]\n",
    "y = times\n",
    "\n",
    "legend = [\"1\", \"2\", \"3\", \"4\", \"5\"]\n",
    "plt.xticks(x,legend)\n",
    "\n",
    "plt.ylabel(\"time in second\")\n",
    "plt.xlabel(\"attempts\")\n",
    "plt.title(\"Typing evaluation\")\n",
    "\n",
    "plt.plot(x,y)\n",
    "plt.show()"
   ]
  },
  {
   "cell_type": "markdown",
   "metadata": {},
   "source": [
    "# HTTP Request"
   ]
  },
  {
   "cell_type": "code",
   "execution_count": 152,
   "metadata": {},
   "outputs": [
    {
     "data": {
      "text/plain": [
       "200"
      ]
     },
     "execution_count": 152,
     "metadata": {},
     "output_type": "execute_result"
    }
   ],
   "source": [
    "import requests\n",
    "r = requests.get(\"https://www.google.com\")\n",
    "r.status_code"
   ]
  },
  {
   "cell_type": "code",
   "execution_count": 153,
   "metadata": {},
   "outputs": [
    {
     "data": {
      "text/plain": [
       "{'Date': 'Wed, 18 Oct 2023 03:49:09 GMT', 'Expires': '-1', 'Cache-Control': 'private, max-age=0', 'Content-Type': 'text/html; charset=ISO-8859-1', 'Content-Security-Policy-Report-Only': \"object-src 'none';base-uri 'self';script-src 'nonce-c1N1P0yTw-v-MRB5NOwPDg' 'strict-dynamic' 'report-sample' 'unsafe-eval' 'unsafe-inline' https: http:;report-uri https://csp.withgoogle.com/csp/gws/other-hp\", 'P3P': 'CP=\"This is not a P3P policy! See g.co/p3phelp for more info.\"', 'Content-Encoding': 'gzip', 'Server': 'gws', 'X-XSS-Protection': '0', 'X-Frame-Options': 'SAMEORIGIN', 'Set-Cookie': '1P_JAR=2023-10-18-03; expires=Fri, 17-Nov-2023 03:49:09 GMT; path=/; domain=.google.com; Secure, AEC=Ackid1QzJKzLXF_iEdaQLI2UChB3TJMNyGu5lEccZuTaq6J1WHe4Xvh5Ig; expires=Mon, 15-Apr-2024 03:49:09 GMT; path=/; domain=.google.com; Secure; HttpOnly; SameSite=lax, NID=511=Kesah8NRRw1IhGGa-yxwdkDrNdCTixJImPSSfWOzosLB0QirvuIqcKwoUfIy8_rsU45BSmNmFPydz-8-c0mJw7X3ya55B8I333DyzfcE6HOFEoLSjCRwlA9mpSkDI1mxvL-RAR3gsv3B2WhO53tiWLenGc_7D_KO99olK33GoeI; expires=Thu, 18-Apr-2024 03:49:09 GMT; path=/; domain=.google.com; HttpOnly', 'Alt-Svc': 'h3=\":443\"; ma=2592000,h3-29=\":443\"; ma=2592000', 'Transfer-Encoding': 'chunked'}"
      ]
     },
     "execution_count": 153,
     "metadata": {},
     "output_type": "execute_result"
    }
   ],
   "source": [
    "r.headers"
   ]
  },
  {
   "cell_type": "code",
   "execution_count": 154,
   "metadata": {},
   "outputs": [
    {
     "data": {
      "text/plain": [
       "'Wed, 18 Oct 2023 03:49:09 GMT'"
      ]
     },
     "execution_count": 154,
     "metadata": {},
     "output_type": "execute_result"
    }
   ],
   "source": [
    "r.headers[\"Date\"]"
   ]
  },
  {
   "cell_type": "code",
   "execution_count": 155,
   "metadata": {},
   "outputs": [
    {
     "data": {
      "text/plain": [
       "'<!doctype html><html itemscope=\"\" itemtype=\"http://schema.org/WebPage\" lang=\"en-IN\"><head><meta content=\"text/html; charset=UTF-8\" http-equiv=\"Content-Type\"><meta content=\"/images/branding/googleg/1x/googleg_standard_color_128dp.png\" itemprop=\"image\"><title>Google</title><script nonce=\"c1N1P0yTw-v-MRB5NOwPDg\">(function(){var _g={kEI:\\'tVUvZdm_C9HT1sQP7qKw4AU\\',kEXPI:\\'0,793108,572359,207,4804,2316,383,246,5,1129120,1197757,134,503,380097,16114,28684,22430,1362,12320,17579,4998,17075,38444,2872,2891,11754,606,30668,30022,16105,230,1014,1,16916,2652,4,32894,26723,4437,22601,6636,7596,1,11942,30212,2,16737,23024,5679,1020,31123,4567,6259,23418,1252,33064,2,2,1,23827,799,10161,23351,872,6578,13056,6,1923,9779,42459,20198,928,19209,14,82,7651,5682,6873,4069,4308,18960,2306,3097,781,2249,15816,1804,7734,6072,2262,10339,6690,2171,13449,295,8545,17859,7768,146,5769,12385,3592,5210139,2,195,5994770,96,2803118,3311,141,795,29454,84,2,3,2,2,9,32,8,8,6,10,7,23940941,578,4043528,16673,37283,3621,1541,12,33,3,1389,3,2109,3,2442,1391500,23759270,8163,10336,2709,2879,442,1152,1089,2465,577,4917,1015,162,1968,11127,301,2952,26,3042,875,2,3,2062,6,4511,3118,3999,1875,2,2,3235,303,2546,281,1,6716,421,778,833,2,1119,4230,384,2533,1717,1,1,613,1456,2968,3,487,555,7,617,2735,377,3,75,1641,428,2744,2,3,1058,630,255,764,671,362,27,6,5,15,2427,915,592,2,1161,11,683,4,877,438,537,891,2,14,763,7,220,1326,1142,351,37,547,1104,1,1430,743,1075,21,108,35,418,333,11,5,1301,706,230,3,47,1041,37,51,261,3,443,870,22,3,403,548,114,127,711,418,3,390,629,310,810,727,2,3,2,1,198,142,5,315,3,802,179,236,350,2,372,107,108,1085,3,327,424,1936,7,426,206,151,51,28,438,844,2,741,558,290,373,101,410,1290,2,53,398,800,160,2,310,227,577,593,4,350,962,2\\',kBL:\\'Asu-\\',kOPI:89978449};(function(){var a;(null==(a=window.google)?0:a.stvsc)?google.kEI=_g.kEI:window.google=_g;}).call(this);})();(function(){google.sn=\\'webhp\\';google.kHL=\\'en-IN\\';})();(function(){\\nvar h=this||self;function l(){return void 0!==window.google&&void 0!==window.google.kOPI&&0!==window.google.kOPI?window.google.kOPI:null};var m,n=[];function p(a){for(var b;a&&(!a.getAttribute||!(b=a.getAttribute(\"eid\")));)a=a.parentNode;return b||m}function q(a){for(var b=null;a&&(!a.getAttribute||!(b=a.getAttribute(\"leid\")));)a=a.parentNode;return b}function r(a){/^http:/i.test(a)&&\"https:\"===window.location.protocol&&(google.ml&&google.ml(Error(\"a\"),!1,{src:a,glmm:1}),a=\"\");return a}\\nfunction t(a,b,c,d,k){var e=\"\";-1===b.search(\"&ei=\")&&(e=\"&ei=\"+p(d),-1===b.search(\"&lei=\")&&(d=q(d))&&(e+=\"&lei=\"+d));d=\"\";var g=-1===b.search(\"&cshid=\")&&\"slh\"!==a,f=[];f.push([\"zx\",Date.now().toString()]);h._cshid&&g&&f.push([\"cshid\",h._cshid]);c=c();null!=c&&f.push([\"opi\",c.toString()]);for(c=0;c<f.length;c++){if(0===c||0<c)d+=\"&\";d+=f[c][0]+\"=\"+f[c][1]}return\"/\"+(k||\"gen_204\")+\"?atyp=i&ct=\"+String(a)+\"&cad=\"+(b+e+d)};m=google.kEI;google.getEI=p;google.getLEI=q;google.ml=function(){return null};google.log=function(a,b,c,d,k,e){e=void 0===e?l:e;c||(c=t(a,b,e,d,k));if(c=r(c)){a=new Image;var g=n.length;n[g]=a;a.onerror=a.onload=a.onabort=function(){delete n[g]};a.src=c}};google.logUrl=function(a,b){b=void 0===b?l:b;return t(\"\",a,b)};}).call(this);(function(){google.y={};google.sy=[];google.x=function(a,b){if(a)var c=a.id;else{do c=Math.random();while(google.y[c])}google.y[c]=[a,b];return!1};google.sx=function(a){google.sy.push(a)};google.lm=[];google.plm=function(a){google.lm.push.apply(google.lm,a)};google.lq=[];google.load=function(a,b,c){google.lq.push([[a],b,c])};google.loadAll=function(a,b){google.lq.push([a,b])};google.bx=!1;google.lx=function(){};var d=[];google.fce=function(a,b,c,e){d.push([a,b,c,e])};google.qce=d;}).call(this);google.f={};(function(){\\ndocument.documentElement.addEventListener(\"submit\",function(b){var a;if(a=b.target){var c=a.getAttribute(\"data-submitfalse\");a=\"1\"===c||\"q\"===c&&!a.elements.q.value?!0:!1}else a=!1;a&&(b.preventDefault(),b.stopPropagation())},!0);document.documentElement.addEventListener(\"click\",function(b){var a;a:{for(a=b.target;a&&a!==document.documentElement;a=a.parentElement)if(\"A\"===a.tagName){a=\"1\"===a.getAttribute(\"data-nohref\");break a}a=!1}a&&b.preventDefault()},!0);}).call(this);</script><style>#gbar,#guser{font-size:13px;padding-top:1px !important;}#gbar{height:22px}#guser{padding-bottom:7px !important;text-align:right}.gbh,.gbd{border-top:1px solid #c9d7f1;font-size:1px}.gbh{height:0;position:absolute;top:24px;width:100%}@media all{.gb1{height:22px;margin-right:.5em;vertical-align:top}#gbar{float:left}}a.gb1,a.gb4{text-decoration:underline !important}a.gb1,a.gb4{color:#00c !important}.gbi .gb4{color:#dd8e27 !important}.gbf .gb4{color:#900 !important}\\n</style><style>body,td,a,p,.h{font-family:arial,sans-serif}body{margin:0;overflow-y:scroll}#gog{padding:3px 8px 0}td{line-height:.8em}.gac_m td{line-height:17px}form{margin-bottom:20px}.h{color:#1967d2}em{font-weight:bold;font-style:normal}.lst{height:25px;width:496px}.gsfi,.lst{font:18px arial,sans-serif}.gsfs{font:17px arial,sans-serif}.ds{display:inline-box;display:inline-block;margin:3px 0 4px;margin-left:4px}input{font-family:inherit}body{background:#fff;color:#000}a{color:#681da8;text-decoration:none}a:hover,a:active{text-decoration:underline}.fl a{color:#1967d2}a:visited{color:#681da8}.sblc{padding-top:5px}.sblc a{display:block;margin:2px 0;margin-left:13px;font-size:11px}.lsbb{background:#f8f9fa;border:solid 1px;border-color:#dadce0 #70757a #70757a #dadce0;height:30px}.lsbb{display:block}#WqQANb a{display:inline-block;margin:0 12px}.lsb{background:url(/images/nav_logo229.png) 0 -261px repeat-x;color:#000;border:none;cursor:pointer;height:30px;margin:0;outline:0;font:15px arial,sans-serif;vertical-align:top}.lsb:active{background:#dadce0}.lst:focus{outline:none}</style><script nonce=\"c1N1P0yTw-v-MRB5NOwPDg\">(function(){window.google.erd={jsr:1,bv:1882,de:true};\\nvar h=this||self;var k,l=null!=(k=h.mei)?k:1,n,p=null!=(n=h.sdo)?n:!0,q=0,r,t=google.erd,v=t.jsr;google.ml=function(a,b,d,m,e){e=void 0===e?2:e;b&&(r=a&&a.message);void 0===d&&(d={});d.cad=\"ple_\"+google.ple+\".aple_\"+google.aple;if(google.dl)return google.dl(a,e,d),null;if(0>v){window.console&&console.error(a,d);if(-2===v)throw a;b=!1}else b=!a||!a.message||\"Error loading script\"===a.message||q>=l&&!m?!1:!0;if(!b)return null;q++;d=d||{};b=encodeURIComponent;var c=\"/gen_204?atyp=i&ei=\"+b(google.kEI);google.kEXPI&&(c+=\"&jexpid=\"+b(google.kEXPI));c+=\"&srcpg=\"+b(google.sn)+\"&jsr=\"+b(t.jsr)+\"&bver=\"+\\nb(t.bv);var f=a.lineNumber;void 0!==f&&(c+=\"&line=\"+f);var g=a.fileName;g&&(0<g.indexOf(\"-extension:/\")&&(e=3),c+=\"&script=\"+b(g),f&&g===window.location.href&&(f=document.documentElement.outerHTML.split(\"\\\\n\")[f],c+=\"&cad=\"+b(f?f.substring(0,300):\"No script found.\")));google.ple&&1===google.ple&&(e=2);c+=\"&jsel=\"+e;for(var u in d)c+=\"&\",c+=b(u),c+=\"=\",c+=b(d[u]);c=c+\"&emsg=\"+b(a.name+\": \"+a.message);c=c+\"&jsst=\"+b(a.stack||\"N/A\");12288<=c.length&&(c=c.substr(0,12288));a=c;m||google.log(0,\"\",a);return a};window.onerror=function(a,b,d,m,e){r!==a&&(a=e instanceof Error?e:Error(a),void 0===d||\"lineNumber\"in a||(a.lineNumber=d),void 0===b||\"fileName\"in a||(a.fileName=b),google.ml(a,!1,void 0,!1,\"SyntaxError\"===a.name||\"SyntaxError\"===a.message.substring(0,11)||-1!==a.message.indexOf(\"Script error\")?3:0));r=null;p&&q>=l&&(window.onerror=null)};})();</script></head><body bgcolor=\"#fff\"><script nonce=\"c1N1P0yTw-v-MRB5NOwPDg\">(function(){var src=\\'/images/nav_logo229.png\\';var iesg=false;document.body.onload = function(){window.n && window.n();if (document.images){new Image().src=src;}\\nif (!iesg){document.f&&document.f.q.focus();document.gbqf&&document.gbqf.q.focus();}\\n}\\n})();</script><div id=\"mngb\"><div id=gbar><nobr><b class=gb1>Search</b> <a class=gb1 href=\"https://www.google.com/imghp?hl=en&tab=wi\">Images</a> <a class=gb1 href=\"https://maps.google.co.in/maps?hl=en&tab=wl\">Maps</a> <a class=gb1 href=\"https://play.google.com/?hl=en&tab=w8\">Play</a> <a class=gb1 href=\"https://www.youtube.com/?tab=w1\">YouTube</a> <a class=gb1 href=\"https://news.google.com/?tab=wn\">News</a> <a class=gb1 href=\"https://mail.google.com/mail/?tab=wm\">Gmail</a> <a class=gb1 href=\"https://drive.google.com/?tab=wo\">Drive</a> <a class=gb1 style=\"text-decoration:none\" href=\"https://www.google.co.in/intl/en/about/products?tab=wh\"><u>More</u> &raquo;</a></nobr></div><div id=guser width=100%><nobr><span id=gbn class=gbi></span><span id=gbf class=gbf></span><span id=gbe></span><a href=\"http://www.google.co.in/history/optout?hl=en\" class=gb4>Web History</a> | <a  href=\"/preferences?hl=en\" class=gb4>Settings</a> | <a target=_top id=gb_70 href=\"https://accounts.google.com/ServiceLogin?hl=en&passive=true&continue=https://www.google.com/&ec=GAZAAQ\" class=gb4>Sign in</a></nobr></div><div class=gbh style=left:0></div><div class=gbh style=right:0></div></div><center><br clear=\"all\" id=\"lgpd\"><div id=\"lga\"><img alt=\"Google\" height=\"92\" src=\"/images/branding/googlelogo/1x/googlelogo_white_background_color_272x92dp.png\" style=\"padding:28px 0 14px\" width=\"272\" id=\"hplogo\"><br><br></div><form action=\"/search\" name=\"f\"><table cellpadding=\"0\" cellspacing=\"0\"><tr valign=\"top\"><td width=\"25%\">&nbsp;</td><td align=\"center\" nowrap=\"\"><input name=\"ie\" value=\"ISO-8859-1\" type=\"hidden\"><input value=\"en-IN\" name=\"hl\" type=\"hidden\"><input name=\"source\" type=\"hidden\" value=\"hp\"><input name=\"biw\" type=\"hidden\"><input name=\"bih\" type=\"hidden\"><div class=\"ds\" style=\"height:32px;margin:4px 0\"><input class=\"lst\" style=\"margin:0;padding:5px 8px 0 6px;vertical-align:top;color:#000\" autocomplete=\"off\" value=\"\" title=\"Google Search\" maxlength=\"2048\" name=\"q\" size=\"57\"></div><br style=\"line-height:0\"><span class=\"ds\"><span class=\"lsbb\"><input class=\"lsb\" value=\"Google Search\" name=\"btnG\" type=\"submit\"></span></span><span class=\"ds\"><span class=\"lsbb\"><input class=\"lsb\" id=\"tsuid_1\" value=\"I\\'m Feeling Lucky\" name=\"btnI\" type=\"submit\"><script nonce=\"c1N1P0yTw-v-MRB5NOwPDg\">(function(){var id=\\'tsuid_1\\';document.getElementById(id).onclick = function(){if (this.form.q.value){this.checked = 1;if (this.form.iflsig)this.form.iflsig.disabled = false;}\\nelse top.location=\\'/doodles/\\';};})();</script><input value=\"AO6bgOgAAAAAZS9jxVKxsIH4qwVaNmWsrBlPohkBBsEL\" name=\"iflsig\" type=\"hidden\"></span></span></td><td class=\"fl sblc\" align=\"left\" nowrap=\"\" width=\"25%\"><a href=\"/advanced_search?hl=en-IN&amp;authuser=0\">Advanced search</a></td></tr></table><input id=\"gbv\" name=\"gbv\" type=\"hidden\" value=\"1\"><script nonce=\"c1N1P0yTw-v-MRB5NOwPDg\">(function(){var a,b=\"1\";if(document&&document.getElementById)if(\"undefined\"!=typeof XMLHttpRequest)b=\"2\";else if(\"undefined\"!=typeof ActiveXObject){var c,d,e=[\"MSXML2.XMLHTTP.6.0\",\"MSXML2.XMLHTTP.3.0\",\"MSXML2.XMLHTTP\",\"Microsoft.XMLHTTP\"];for(c=0;d=e[c++];)try{new ActiveXObject(d),b=\"2\"}catch(h){}}a=b;if(\"2\"==a&&-1==location.search.indexOf(\"&gbv=2\")){var f=google.gbvu,g=document.getElementById(\"gbv\");g&&(g.value=a);f&&window.setTimeout(function(){location.href=f},0)};}).call(this);</script></form><div id=\"gac_scont\"></div><div style=\"font-size:83%;min-height:3.5em\"><br><div id=\"gws-output-pages-elements-homepage_additional_languages__als\"><style>#gws-output-pages-elements-homepage_additional_languages__als{font-size:small;margin-bottom:24px}#SIvCob{color:#3c4043;display:inline-block;line-height:28px;}#SIvCob a{padding:0 3px;}.H6sW5{display:inline-block;margin:0 2px;white-space:nowrap}.z4hgWe{display:inline-block;margin:0 2px}</style><div id=\"SIvCob\">Google offered in:  <a href=\"https://www.google.com/setprefs?sig=0_OgUCM9sHhRW7NDPnLEHrzO9hJ4M%3D&amp;hl=hi&amp;source=homepage&amp;sa=X&amp;ved=0ahUKEwiZ7q-s2P6BAxXRqZUCHW4RDFwQ2ZgBCAU\">&#2361;&#2367;&#2344;&#2381;&#2342;&#2368;</a>    <a href=\"https://www.google.com/setprefs?sig=0_OgUCM9sHhRW7NDPnLEHrzO9hJ4M%3D&amp;hl=bn&amp;source=homepage&amp;sa=X&amp;ved=0ahUKEwiZ7q-s2P6BAxXRqZUCHW4RDFwQ2ZgBCAY\">&#2476;&#2494;&#2434;&#2482;&#2494;</a>    <a href=\"https://www.google.com/setprefs?sig=0_OgUCM9sHhRW7NDPnLEHrzO9hJ4M%3D&amp;hl=te&amp;source=homepage&amp;sa=X&amp;ved=0ahUKEwiZ7q-s2P6BAxXRqZUCHW4RDFwQ2ZgBCAc\">&#3108;&#3142;&#3122;&#3137;&#3095;&#3137;</a>    <a href=\"https://www.google.com/setprefs?sig=0_OgUCM9sHhRW7NDPnLEHrzO9hJ4M%3D&amp;hl=mr&amp;source=homepage&amp;sa=X&amp;ved=0ahUKEwiZ7q-s2P6BAxXRqZUCHW4RDFwQ2ZgBCAg\">&#2350;&#2352;&#2366;&#2336;&#2368;</a>    <a href=\"https://www.google.com/setprefs?sig=0_OgUCM9sHhRW7NDPnLEHrzO9hJ4M%3D&amp;hl=ta&amp;source=homepage&amp;sa=X&amp;ved=0ahUKEwiZ7q-s2P6BAxXRqZUCHW4RDFwQ2ZgBCAk\">&#2980;&#2990;&#3007;&#2996;&#3021;</a>    <a href=\"https://www.google.com/setprefs?sig=0_OgUCM9sHhRW7NDPnLEHrzO9hJ4M%3D&amp;hl=gu&amp;source=homepage&amp;sa=X&amp;ved=0ahUKEwiZ7q-s2P6BAxXRqZUCHW4RDFwQ2ZgBCAo\">&#2711;&#2753;&#2716;&#2736;&#2750;&#2724;&#2752;</a>    <a href=\"https://www.google.com/setprefs?sig=0_OgUCM9sHhRW7NDPnLEHrzO9hJ4M%3D&amp;hl=kn&amp;source=homepage&amp;sa=X&amp;ved=0ahUKEwiZ7q-s2P6BAxXRqZUCHW4RDFwQ2ZgBCAs\">&#3221;&#3240;&#3277;&#3240;&#3233;</a>    <a href=\"https://www.google.com/setprefs?sig=0_OgUCM9sHhRW7NDPnLEHrzO9hJ4M%3D&amp;hl=ml&amp;source=homepage&amp;sa=X&amp;ved=0ahUKEwiZ7q-s2P6BAxXRqZUCHW4RDFwQ2ZgBCAw\">&#3374;&#3378;&#3375;&#3390;&#3379;&#3330;</a>    <a href=\"https://www.google.com/setprefs?sig=0_OgUCM9sHhRW7NDPnLEHrzO9hJ4M%3D&amp;hl=pa&amp;source=homepage&amp;sa=X&amp;ved=0ahUKEwiZ7q-s2P6BAxXRqZUCHW4RDFwQ2ZgBCA0\">&#2602;&#2672;&#2588;&#2622;&#2604;&#2624;</a>  </div></div></div><span id=\"footer\"><div style=\"font-size:10pt\"><div style=\"margin:19px auto;text-align:center\" id=\"WqQANb\"><a href=\"/intl/en/ads/\">Advertising</a><a href=\"http://www.google.co.in/services/\">Business Solutions</a><a href=\"/intl/en/about.html\">About Google</a><a href=\"https://www.google.com/setprefdomain?prefdom=IN&amp;prev=https://www.google.co.in/&amp;sig=K_5WGspcy36Hfp4uG-ROH6L3xCPiI%3D\">Google.co.in</a></div></div><p style=\"font-size:8pt;color:#70757a\">&copy; 2023 - <a href=\"/intl/en/policies/privacy/\">Privacy</a> - <a href=\"/intl/en/policies/terms/\">Terms</a></p></span></center><script nonce=\"c1N1P0yTw-v-MRB5NOwPDg\">(function(){window.google.cdo={height:757,width:1440};(function(){var a=window.innerWidth,b=window.innerHeight;if(!a||!b){var c=window.document,d=\"CSS1Compat\"==c.compatMode?c.documentElement:c.body;a=d.clientWidth;b=d.clientHeight}\\nif(a&&b&&(a!=google.cdo.width||b!=google.cdo.height)){var e=google,f=e.log,g=\"/client_204?&atyp=i&biw=\"+a+\"&bih=\"+b+\"&ei=\"+google.kEI,h=\"\",k=[],l=void 0!==window.google&&void 0!==window.google.kOPI&&0!==window.google.kOPI?window.google.kOPI:null;null!=l&&k.push([\"opi\",l.toString()]);for(var m=0;m<k.length;m++){if(0===m||0<m)h+=\"&\";h+=k[m][0]+\"=\"+k[m][1]}f.call(e,\"\",\"\",g+h)};}).call(this);})();</script> <script nonce=\"c1N1P0yTw-v-MRB5NOwPDg\">(function(){google.xjs={ck:\\'xjs.hp.9bBpiYlXmZw.L.X.O\\',cs:\\'ACT90oGsO3qtsLD4bwqcSHRi5UiKtQqaIg\\',cssopt:false,csss:\\'ACT90oHbVMNBA2j7FXi1HNeZ6xSXwXaP5w\\',excm:[],sepcss:false};})();</script>     <script nonce=\"c1N1P0yTw-v-MRB5NOwPDg\">(function(){var u=\\'/xjs/_/js/k\\\\x3dxjs.hp.en.9hfkF7IMGxM.O/am\\\\x3dAAAAAAAAAAAAAAAAACAAAAAAABQAECAAAAAAAAAAAAIA0BEAAAsAcAE/d\\\\x3d1/ed\\\\x3d1/rs\\\\x3dACT90oGFNWAddnB6BNkNEYT3FO1LBukxwQ/m\\\\x3dsb_he,d,cEt90b,SNUn3,qddgKe,sTsDMc,dtl0hd,eHDfl\\';var amd=0;\\nvar e=this||self,f=function(a){return a};var g;var h=function(a){this.g=a};h.prototype.toString=function(){return this.g+\"\"};var k={};var l=function(){var a=document;var b=\"SCRIPT\";\"application/xhtml+xml\"===a.contentType&&(b=b.toLowerCase());return a.createElement(b)};\\nfunction m(a,b){a.src=b instanceof h&&b.constructor===h?b.g:\"type_error:TrustedResourceUrl\";var c,d;(c=(b=null==(d=(c=(a.ownerDocument&&a.ownerDocument.defaultView||window).document).querySelector)?void 0:d.call(c,\"script[nonce]\"))?b.nonce||b.getAttribute(\"nonce\")||\"\":\"\")&&a.setAttribute(\"nonce\",c)};function n(a){a=null===a?\"null\":void 0===a?\"undefined\":a;if(void 0===g){var b=null;var c=e.trustedTypes;if(c&&c.createPolicy){try{b=c.createPolicy(\"goog#html\",{createHTML:f,createScript:f,createScriptURL:f})}catch(d){e.console&&e.console.error(d.message)}g=b}else g=b}a=(b=g)?b.createScriptURL(a):a;return new h(a,k)};void 0===google.ps&&(google.ps=[]);function p(){var a=u,b=function(){};google.lx=google.stvsc?b:function(){q(a);google.lx=b};google.bx||google.lx()}function r(a,b){b&&m(a,n(b));var c=a.onload;a.onload=function(d){c&&c(d);google.ps=google.ps.filter(function(t){return a!==t})};google.ps.push(a);document.body.appendChild(a)}google.as=r;function q(a){google.timers&&google.timers.load&&google.tick&&google.tick(\"load\",\"xjsls\");var b=l();b.onerror=function(){google.ple=1};b.onload=function(){google.ple=0};google.xjsus=void 0;r(b,a);google.aple=-1;google.psa=!0};google.xjsu=u;e._F_jsUrl=u;setTimeout(function(){0<amd?google.caft(function(){return p()},amd):p()},0);})();window._ = window._ || {};window._DumpException = _._DumpException = function(e){throw e;};window._s = window._s || {};_s._DumpException = _._DumpException;window._qs = window._qs || {};_qs._DumpException = _._DumpException;(function(){var t=[1,0,0,524288,65536,4194384,2,262144,268435968,738197575,1507328];window._F_toggles = window._xjs_toggles = t;})();function _F_installCss(c){}\\n(function(){google.jl={blt:\\'none\\',chnk:0,dw:false,dwu:true,emtn:0,end:0,ico:false,ikb:0,ine:false,injs:\\'none\\',injt:0,injth:0,injv2:false,lls:\\'default\\',pdt:0,rep:0,snet:true,strt:0,ubm:false,uwp:true};})();(function(){var pmc=\\'{\\\\x22d\\\\x22:{},\\\\x22sb_he\\\\x22:{\\\\x22agen\\\\x22:true,\\\\x22cgen\\\\x22:true,\\\\x22client\\\\x22:\\\\x22heirloom-hp\\\\x22,\\\\x22dh\\\\x22:true,\\\\x22ds\\\\x22:\\\\x22\\\\x22,\\\\x22fl\\\\x22:true,\\\\x22host\\\\x22:\\\\x22google.com\\\\x22,\\\\x22jsonp\\\\x22:true,\\\\x22msgs\\\\x22:{\\\\x22cibl\\\\x22:\\\\x22Clear Search\\\\x22,\\\\x22dym\\\\x22:\\\\x22Did you mean:\\\\x22,\\\\x22lcky\\\\x22:\\\\x22I\\\\\\\\u0026#39;m Feeling Lucky\\\\x22,\\\\x22lml\\\\x22:\\\\x22Learn more\\\\x22,\\\\x22psrc\\\\x22:\\\\x22This search was removed from your \\\\\\\\u003Ca href\\\\x3d\\\\\\\\\\\\x22/history\\\\\\\\\\\\x22\\\\\\\\u003EWeb History\\\\\\\\u003C/a\\\\\\\\u003E\\\\x22,\\\\x22psrl\\\\x22:\\\\x22Remove\\\\x22,\\\\x22sbit\\\\x22:\\\\x22Search by image\\\\x22,\\\\x22srch\\\\x22:\\\\x22Google Search\\\\x22},\\\\x22ovr\\\\x22:{},\\\\x22pq\\\\x22:\\\\x22\\\\x22,\\\\x22rfs\\\\x22:[],\\\\x22sbas\\\\x22:\\\\x220 3px 8px 0 rgba(0,0,0,0.2),0 0 0 1px rgba(0,0,0,0.08)\\\\x22,\\\\x22stok\\\\x22:\\\\x22NoTN9mAnbrgHu0LtxhOVUtGRyl0\\\\x22}}\\';google.pmc=JSON.parse(pmc);})();(function(){var b=function(a){var c=0;return function(){return c<a.length?{done:!1,value:a[c++]}:{done:!0}}};\\nvar e=this||self;var g,h;a:{for(var k=[\"CLOSURE_FLAGS\"],l=e,n=0;n<k.length;n++)if(l=l[k[n]],null==l){h=null;break a}h=l}var p=h&&h[610401301];g=null!=p?p:!1;var q,r=e.navigator;q=r?r.userAgentData||null:null;function t(a){return g?q?q.brands.some(function(c){return(c=c.brand)&&-1!=c.indexOf(a)}):!1:!1}function u(a){var c;a:{if(c=e.navigator)if(c=c.userAgent)break a;c=\"\"}return-1!=c.indexOf(a)};function v(){return g?!!q&&0<q.brands.length:!1}function w(){return u(\"Safari\")&&!(x()||(v()?0:u(\"Coast\"))||(v()?0:u(\"Opera\"))||(v()?0:u(\"Edge\"))||(v()?t(\"Microsoft Edge\"):u(\"Edg/\"))||(v()?t(\"Opera\"):u(\"OPR\"))||u(\"Firefox\")||u(\"FxiOS\")||u(\"Silk\")||u(\"Android\"))}function x(){return v()?t(\"Chromium\"):(u(\"Chrome\")||u(\"CriOS\"))&&!(v()?0:u(\"Edge\"))||u(\"Silk\")}function y(){return u(\"Android\")&&!(x()||u(\"Firefox\")||u(\"FxiOS\")||(v()?0:u(\"Opera\"))||u(\"Silk\"))};var z=v()?!1:u(\"Trident\")||u(\"MSIE\");y();x();w();var A=!z&&!w(),D=function(a){if(/-[a-z]/.test(\"ved\"))return null;if(A&&a.dataset){if(y()&&!(\"ved\"in a.dataset))return null;a=a.dataset.ved;return void 0===a?null:a}return a.getAttribute(\"data-\"+\"ved\".replace(/([A-Z])/g,\"-$1\").toLowerCase())};var E=[],F=null;function G(a){a=a.target;var c=performance.now(),f=[],H=f.concat,d=E;if(!(d instanceof Array)){var m=\"undefined\"!=typeof Symbol&&Symbol.iterator&&d[Symbol.iterator];if(m)d=m.call(d);else if(\"number\"==typeof d.length)d={next:b(d)};else throw Error(\"a`\"+String(d));for(var B=[];!(m=d.next()).done;)B.push(m.value);d=B}E=H.call(f,d,[c]);if(a&&a instanceof HTMLElement)if(a===F){if(c=4<=E.length)c=5>(E[E.length-1]-E[E.length-4])/1E3;if(c){c=google.getEI(a);a.hasAttribute(\"data-ved\")?f=a?D(a)||\"\":\"\":f=(f=\\na.closest(\"[data-ved]\"))?D(f)||\"\":\"\";f=f||\"\";if(a.hasAttribute(\"jsname\"))a=a.getAttribute(\"jsname\");else{var C;a=null==(C=a.closest(\"[jsname]\"))?void 0:C.getAttribute(\"jsname\")}google.log(\"rcm\",\"&ei=\"+c+\"&ved=\"+f+\"&jsname=\"+(a||\"\"))}}else F=a,E=[c]}window.document.addEventListener(\"DOMContentLoaded\",function(){document.body.addEventListener(\"click\",G)});}).call(this);</script></body></html>'"
      ]
     },
     "execution_count": 155,
     "metadata": {},
     "output_type": "execute_result"
    }
   ],
   "source": [
    "r.text"
   ]
  },
  {
   "cell_type": "markdown",
   "metadata": {},
   "source": []
  },
  {
   "cell_type": "markdown",
   "metadata": {},
   "source": [
    "# File Handling"
   ]
  },
  {
   "cell_type": "code",
   "execution_count": 156,
   "metadata": {},
   "outputs": [
    {
     "name": "stdout",
     "output_type": "stream",
     "text": [
      "information alert\n",
      " Schedule learning time \n",
      " Learning a little each day adds up. Research shows that students who make learning a habit are more likely to reach their goals. Set time aside to learn and get reminders using your learning scheduler.\n",
      "Schedule learning time \n",
      "Learning a little each day adds up. Research shows that students who make learning a habit are more likely to reach their goals. Set time aside to learn and get reminders using your learning scheduler.\n"
     ]
    }
   ],
   "source": [
    "f = open(\"untitled.txt\")\n",
    "print(f.read())"
   ]
  },
  {
   "cell_type": "code",
   "execution_count": 157,
   "metadata": {},
   "outputs": [
    {
     "name": "stdout",
     "output_type": "stream",
     "text": [
      "information alert\n"
     ]
    }
   ],
   "source": [
    "f = open(\"untitled.txt\", \"w\")   #replace\n",
    "f.write(\"information alert\")\n",
    "\n",
    "f = open(\"untitled.txt\")\n",
    "print(f.read())"
   ]
  },
  {
   "cell_type": "code",
   "execution_count": 158,
   "metadata": {},
   "outputs": [
    {
     "name": "stdout",
     "output_type": "stream",
     "text": [
      "information alert\n",
      "Schedule learning time \n",
      "Learning a little each day adds up. Research shows that students who make learning a habit are more likely to reach their goals. Set time aside to learn and get reminders using your learning scheduler.\n"
     ]
    }
   ],
   "source": [
    "f = open(\"untitled.txt\", \"a\")   #append\n",
    "f.write(\"\\nSchedule learning time \\nLearning a little each day adds up. Research shows that students who make learning a habit are more likely to reach their goals. Set time aside to learn and get reminders using your learning scheduler.\")\n",
    "\n",
    "f = open(\"untitled.txt\")\n",
    "print(f.read())"
   ]
  },
  {
   "cell_type": "code",
   "execution_count": 159,
   "metadata": {},
   "outputs": [
    {
     "ename": "FileExistsError",
     "evalue": "[Errno 17] File exists: 'untitled2.txt'",
     "output_type": "error",
     "traceback": [
      "\u001b[1;31m---------------------------------------------------------------------------\u001b[0m",
      "\u001b[1;31mFileExistsError\u001b[0m                           Traceback (most recent call last)",
      "Cell \u001b[1;32mIn[159], line 1\u001b[0m\n\u001b[1;32m----> 1\u001b[0m f \u001b[38;5;241m=\u001b[39m \u001b[38;5;28;43mopen\u001b[39;49m\u001b[43m(\u001b[49m\u001b[38;5;124;43m\"\u001b[39;49m\u001b[38;5;124;43muntitled2.txt\u001b[39;49m\u001b[38;5;124;43m\"\u001b[39;49m\u001b[43m,\u001b[49m\u001b[43m \u001b[49m\u001b[38;5;124;43m\"\u001b[39;49m\u001b[38;5;124;43mx\u001b[39;49m\u001b[38;5;124;43m\"\u001b[39;49m\u001b[43m)\u001b[49m \u001b[38;5;66;03m# create file\u001b[39;00m\n\u001b[0;32m      2\u001b[0m f\n",
      "File \u001b[1;32mC:\\ProgramData\\anaconda3\\lib\\site-packages\\IPython\\core\\interactiveshell.py:282\u001b[0m, in \u001b[0;36m_modified_open\u001b[1;34m(file, *args, **kwargs)\u001b[0m\n\u001b[0;32m    275\u001b[0m \u001b[38;5;28;01mif\u001b[39;00m file \u001b[38;5;129;01min\u001b[39;00m {\u001b[38;5;241m0\u001b[39m, \u001b[38;5;241m1\u001b[39m, \u001b[38;5;241m2\u001b[39m}:\n\u001b[0;32m    276\u001b[0m     \u001b[38;5;28;01mraise\u001b[39;00m \u001b[38;5;167;01mValueError\u001b[39;00m(\n\u001b[0;32m    277\u001b[0m         \u001b[38;5;124mf\u001b[39m\u001b[38;5;124m\"\u001b[39m\u001b[38;5;124mIPython won\u001b[39m\u001b[38;5;124m'\u001b[39m\u001b[38;5;124mt let you open fd=\u001b[39m\u001b[38;5;132;01m{\u001b[39;00mfile\u001b[38;5;132;01m}\u001b[39;00m\u001b[38;5;124m by default \u001b[39m\u001b[38;5;124m\"\u001b[39m\n\u001b[0;32m    278\u001b[0m         \u001b[38;5;124m\"\u001b[39m\u001b[38;5;124mas it is likely to crash IPython. If you know what you are doing, \u001b[39m\u001b[38;5;124m\"\u001b[39m\n\u001b[0;32m    279\u001b[0m         \u001b[38;5;124m\"\u001b[39m\u001b[38;5;124myou can use builtins\u001b[39m\u001b[38;5;124m'\u001b[39m\u001b[38;5;124m open.\u001b[39m\u001b[38;5;124m\"\u001b[39m\n\u001b[0;32m    280\u001b[0m     )\n\u001b[1;32m--> 282\u001b[0m \u001b[38;5;28;01mreturn\u001b[39;00m io_open(file, \u001b[38;5;241m*\u001b[39margs, \u001b[38;5;241m*\u001b[39m\u001b[38;5;241m*\u001b[39mkwargs)\n",
      "\u001b[1;31mFileExistsError\u001b[0m: [Errno 17] File exists: 'untitled2.txt'"
     ]
    }
   ],
   "source": [
    "f = open(\"untitled2.txt\", \"x\") # create file\n",
    "f"
   ]
  },
  {
   "cell_type": "code",
   "execution_count": null,
   "metadata": {},
   "outputs": [],
   "source": [
    "pip install xlrd"
   ]
  },
  {
   "cell_type": "markdown",
   "metadata": {},
   "source": [
    "# Reading excel sheets"
   ]
  },
  {
   "cell_type": "markdown",
   "metadata": {},
   "source": [
    "# Iris data"
   ]
  },
  {
   "cell_type": "code",
   "execution_count": 160,
   "metadata": {},
   "outputs": [
    {
     "data": {
      "text/plain": [
       "<pandas.io.excel._base.ExcelFile at 0x21b98c2f880>"
      ]
     },
     "execution_count": 160,
     "metadata": {},
     "output_type": "execute_result"
    }
   ],
   "source": [
    "import pandas as pd\n",
    "file = pd.ExcelFile(\"C://Users//91879//Downloads//sales.xlsx\")\n",
    "file"
   ]
  },
  {
   "cell_type": "code",
   "execution_count": 161,
   "metadata": {},
   "outputs": [
    {
     "name": "stdout",
     "output_type": "stream",
     "text": [
      "['sales', 'customers']\n"
     ]
    }
   ],
   "source": [
    "print(file.sheet_names)"
   ]
  },
  {
   "cell_type": "code",
   "execution_count": 162,
   "metadata": {},
   "outputs": [
    {
     "data": {
      "text/html": [
       "<div>\n",
       "<style scoped>\n",
       "    .dataframe tbody tr th:only-of-type {\n",
       "        vertical-align: middle;\n",
       "    }\n",
       "\n",
       "    .dataframe tbody tr th {\n",
       "        vertical-align: top;\n",
       "    }\n",
       "\n",
       "    .dataframe thead th {\n",
       "        text-align: right;\n",
       "    }\n",
       "</style>\n",
       "<table border=\"1\" class=\"dataframe\">\n",
       "  <thead>\n",
       "    <tr style=\"text-align: right;\">\n",
       "      <th></th>\n",
       "      <th>Date</th>\n",
       "      <th>Customer</th>\n",
       "      <th>Invoice</th>\n",
       "      <th>Amount</th>\n",
       "    </tr>\n",
       "  </thead>\n",
       "  <tbody>\n",
       "    <tr>\n",
       "      <th>0</th>\n",
       "      <td>2018-12-01</td>\n",
       "      <td>Steel Brothers Inc.</td>\n",
       "      <td>98</td>\n",
       "      <td>1340</td>\n",
       "    </tr>\n",
       "    <tr>\n",
       "      <th>1</th>\n",
       "      <td>2018-12-10</td>\n",
       "      <td>MMC Inc.</td>\n",
       "      <td>99</td>\n",
       "      <td>1900</td>\n",
       "    </tr>\n",
       "    <tr>\n",
       "      <th>2</th>\n",
       "      <td>2018-12-12</td>\n",
       "      <td>MMC Inc.</td>\n",
       "      <td>100</td>\n",
       "      <td>2900</td>\n",
       "    </tr>\n",
       "    <tr>\n",
       "      <th>3</th>\n",
       "      <td>2018-12-18</td>\n",
       "      <td>Steel Brothers Inc.</td>\n",
       "      <td>101</td>\n",
       "      <td>977</td>\n",
       "    </tr>\n",
       "    <tr>\n",
       "      <th>4</th>\n",
       "      <td>2018-12-21</td>\n",
       "      <td>Steel &amp; Iron LLC</td>\n",
       "      <td>102</td>\n",
       "      <td>3400</td>\n",
       "    </tr>\n",
       "  </tbody>\n",
       "</table>\n",
       "</div>"
      ],
      "text/plain": [
       "        Date             Customer  Invoice  Amount\n",
       "0 2018-12-01  Steel Brothers Inc.       98    1340\n",
       "1 2018-12-10             MMC Inc.       99    1900\n",
       "2 2018-12-12             MMC Inc.      100    2900\n",
       "3 2018-12-18  Steel Brothers Inc.      101     977\n",
       "4 2018-12-21     Steel & Iron LLC      102    3400"
      ]
     },
     "execution_count": 162,
     "metadata": {},
     "output_type": "execute_result"
    }
   ],
   "source": [
    "sales = file.parse(\"sales\")\n",
    "sales"
   ]
  },
  {
   "cell_type": "code",
   "execution_count": 163,
   "metadata": {},
   "outputs": [
    {
     "data": {
      "text/plain": [
       "pandas.core.frame.DataFrame"
      ]
     },
     "execution_count": 163,
     "metadata": {},
     "output_type": "execute_result"
    }
   ],
   "source": [
    "type(sales)"
   ]
  },
  {
   "cell_type": "code",
   "execution_count": 164,
   "metadata": {},
   "outputs": [
    {
     "name": "stdout",
     "output_type": "stream",
     "text": [
      "0   2018-12-01\n",
      "1   2018-12-10\n",
      "2   2018-12-12\n",
      "3   2018-12-18\n",
      "4   2018-12-21\n",
      "Name: Date, dtype: datetime64[ns]\n"
     ]
    }
   ],
   "source": [
    "print(sales.Date)"
   ]
  },
  {
   "cell_type": "code",
   "execution_count": 165,
   "metadata": {},
   "outputs": [
    {
     "data": {
      "text/plain": [
       "10517"
      ]
     },
     "execution_count": 165,
     "metadata": {},
     "output_type": "execute_result"
    }
   ],
   "source": [
    "sales.Amount.sum()"
   ]
  },
  {
   "cell_type": "code",
   "execution_count": 166,
   "metadata": {},
   "outputs": [
    {
     "data": {
      "text/plain": [
       "Date        2018-12-01 00:00:00\n",
       "Customer    Steel Brothers Inc.\n",
       "Invoice                      98\n",
       "Amount                     1340\n",
       "Name: 0, dtype: object"
      ]
     },
     "execution_count": 166,
     "metadata": {},
     "output_type": "execute_result"
    }
   ],
   "source": [
    "sales.loc[0]"
   ]
  },
  {
   "cell_type": "code",
   "execution_count": 167,
   "metadata": {},
   "outputs": [
    {
     "data": {
      "text/plain": [
       "1340"
      ]
     },
     "execution_count": 167,
     "metadata": {},
     "output_type": "execute_result"
    }
   ],
   "source": [
    "sales.loc[0 , \"Amount\"]"
   ]
  },
  {
   "cell_type": "code",
   "execution_count": 168,
   "metadata": {},
   "outputs": [
    {
     "data": {
      "text/plain": [
       "Date        2018-12-01 00:00:00\n",
       "Customer    Steel Brothers Inc.\n",
       "Invoice                      98\n",
       "Name: 1340, dtype: object"
      ]
     },
     "execution_count": 168,
     "metadata": {},
     "output_type": "execute_result"
    }
   ],
   "source": [
    "sales.set_index(\"Amount\", inplace=True)\n",
    "sales.loc[1340]"
   ]
  },
  {
   "cell_type": "code",
   "execution_count": 169,
   "metadata": {},
   "outputs": [
    {
     "data": {
      "text/html": [
       "<div>\n",
       "<style scoped>\n",
       "    .dataframe tbody tr th:only-of-type {\n",
       "        vertical-align: middle;\n",
       "    }\n",
       "\n",
       "    .dataframe tbody tr th {\n",
       "        vertical-align: top;\n",
       "    }\n",
       "\n",
       "    .dataframe thead th {\n",
       "        text-align: right;\n",
       "    }\n",
       "</style>\n",
       "<table border=\"1\" class=\"dataframe\">\n",
       "  <thead>\n",
       "    <tr style=\"text-align: right;\">\n",
       "      <th></th>\n",
       "      <th>Date</th>\n",
       "      <th>Invoice</th>\n",
       "    </tr>\n",
       "    <tr>\n",
       "      <th>Customer</th>\n",
       "      <th></th>\n",
       "      <th></th>\n",
       "    </tr>\n",
       "  </thead>\n",
       "  <tbody>\n",
       "    <tr>\n",
       "      <th>MMC Inc.</th>\n",
       "      <td>2018-12-10</td>\n",
       "      <td>99</td>\n",
       "    </tr>\n",
       "    <tr>\n",
       "      <th>MMC Inc.</th>\n",
       "      <td>2018-12-12</td>\n",
       "      <td>100</td>\n",
       "    </tr>\n",
       "  </tbody>\n",
       "</table>\n",
       "</div>"
      ],
      "text/plain": [
       "               Date  Invoice\n",
       "Customer                    \n",
       "MMC Inc. 2018-12-10       99\n",
       "MMC Inc. 2018-12-12      100"
      ]
     },
     "execution_count": 169,
     "metadata": {},
     "output_type": "execute_result"
    }
   ],
   "source": [
    "sales.set_index(\"Customer\", inplace=True)\n",
    "sales.loc[\"MMC Inc.\"]"
   ]
  },
  {
   "cell_type": "code",
   "execution_count": 170,
   "metadata": {},
   "outputs": [
    {
     "data": {
      "text/html": [
       "<div>\n",
       "<style scoped>\n",
       "    .dataframe tbody tr th:only-of-type {\n",
       "        vertical-align: middle;\n",
       "    }\n",
       "\n",
       "    .dataframe tbody tr th {\n",
       "        vertical-align: top;\n",
       "    }\n",
       "\n",
       "    .dataframe thead th {\n",
       "        text-align: right;\n",
       "    }\n",
       "</style>\n",
       "<table border=\"1\" class=\"dataframe\">\n",
       "  <thead>\n",
       "    <tr style=\"text-align: right;\">\n",
       "      <th></th>\n",
       "      <th>Customer</th>\n",
       "      <th>Date</th>\n",
       "      <th>Invoice</th>\n",
       "    </tr>\n",
       "  </thead>\n",
       "  <tbody>\n",
       "    <tr>\n",
       "      <th>0</th>\n",
       "      <td>Steel Brothers Inc.</td>\n",
       "      <td>2018-12-01</td>\n",
       "      <td>98</td>\n",
       "    </tr>\n",
       "    <tr>\n",
       "      <th>1</th>\n",
       "      <td>MMC Inc.</td>\n",
       "      <td>2018-12-10</td>\n",
       "      <td>99</td>\n",
       "    </tr>\n",
       "    <tr>\n",
       "      <th>2</th>\n",
       "      <td>MMC Inc.</td>\n",
       "      <td>2018-12-12</td>\n",
       "      <td>100</td>\n",
       "    </tr>\n",
       "    <tr>\n",
       "      <th>3</th>\n",
       "      <td>Steel Brothers Inc.</td>\n",
       "      <td>2018-12-18</td>\n",
       "      <td>101</td>\n",
       "    </tr>\n",
       "    <tr>\n",
       "      <th>4</th>\n",
       "      <td>Steel &amp; Iron LLC</td>\n",
       "      <td>2018-12-21</td>\n",
       "      <td>102</td>\n",
       "    </tr>\n",
       "  </tbody>\n",
       "</table>\n",
       "</div>"
      ],
      "text/plain": [
       "              Customer       Date  Invoice\n",
       "0  Steel Brothers Inc. 2018-12-01       98\n",
       "1             MMC Inc. 2018-12-10       99\n",
       "2             MMC Inc. 2018-12-12      100\n",
       "3  Steel Brothers Inc. 2018-12-18      101\n",
       "4     Steel & Iron LLC 2018-12-21      102"
      ]
     },
     "execution_count": 170,
     "metadata": {},
     "output_type": "execute_result"
    }
   ],
   "source": [
    "sales.reset_index()"
   ]
  },
  {
   "cell_type": "code",
   "execution_count": 171,
   "metadata": {},
   "outputs": [
    {
     "data": {
      "text/html": [
       "<div>\n",
       "<style scoped>\n",
       "    .dataframe tbody tr th:only-of-type {\n",
       "        vertical-align: middle;\n",
       "    }\n",
       "\n",
       "    .dataframe tbody tr th {\n",
       "        vertical-align: top;\n",
       "    }\n",
       "\n",
       "    .dataframe thead th {\n",
       "        text-align: right;\n",
       "    }\n",
       "</style>\n",
       "<table border=\"1\" class=\"dataframe\">\n",
       "  <thead>\n",
       "    <tr style=\"text-align: right;\">\n",
       "      <th></th>\n",
       "      <th>Date</th>\n",
       "      <th>Customer</th>\n",
       "      <th>Invoice</th>\n",
       "      <th>Amount</th>\n",
       "    </tr>\n",
       "  </thead>\n",
       "  <tbody>\n",
       "    <tr>\n",
       "      <th>0</th>\n",
       "      <td>2018-12-01</td>\n",
       "      <td>Steel Brothers Inc.</td>\n",
       "      <td>98</td>\n",
       "      <td>1340</td>\n",
       "    </tr>\n",
       "    <tr>\n",
       "      <th>1</th>\n",
       "      <td>2018-12-10</td>\n",
       "      <td>MMC Inc.</td>\n",
       "      <td>99</td>\n",
       "      <td>1900</td>\n",
       "    </tr>\n",
       "    <tr>\n",
       "      <th>2</th>\n",
       "      <td>2018-12-12</td>\n",
       "      <td>MMC Inc.</td>\n",
       "      <td>100</td>\n",
       "      <td>2900</td>\n",
       "    </tr>\n",
       "    <tr>\n",
       "      <th>3</th>\n",
       "      <td>2018-12-18</td>\n",
       "      <td>Steel Brothers Inc.</td>\n",
       "      <td>101</td>\n",
       "      <td>977</td>\n",
       "    </tr>\n",
       "    <tr>\n",
       "      <th>4</th>\n",
       "      <td>2018-12-21</td>\n",
       "      <td>Steel &amp; Iron LLC</td>\n",
       "      <td>102</td>\n",
       "      <td>3400</td>\n",
       "    </tr>\n",
       "  </tbody>\n",
       "</table>\n",
       "</div>"
      ],
      "text/plain": [
       "        Date             Customer  Invoice  Amount\n",
       "0 2018-12-01  Steel Brothers Inc.       98    1340\n",
       "1 2018-12-10             MMC Inc.       99    1900\n",
       "2 2018-12-12             MMC Inc.      100    2900\n",
       "3 2018-12-18  Steel Brothers Inc.      101     977\n",
       "4 2018-12-21     Steel & Iron LLC      102    3400"
      ]
     },
     "execution_count": 171,
     "metadata": {},
     "output_type": "execute_result"
    }
   ],
   "source": [
    "sales = file.parse(\"sales\")\n",
    "sales"
   ]
  },
  {
   "cell_type": "code",
   "execution_count": 172,
   "metadata": {},
   "outputs": [
    {
     "data": {
      "text/plain": [
       "pandas.core.series.Series"
      ]
     },
     "execution_count": 172,
     "metadata": {},
     "output_type": "execute_result"
    }
   ],
   "source": [
    "type(sales[\"Invoice\"])"
   ]
  },
  {
   "cell_type": "code",
   "execution_count": 173,
   "metadata": {},
   "outputs": [
    {
     "data": {
      "text/html": [
       "<div>\n",
       "<style scoped>\n",
       "    .dataframe tbody tr th:only-of-type {\n",
       "        vertical-align: middle;\n",
       "    }\n",
       "\n",
       "    .dataframe tbody tr th {\n",
       "        vertical-align: top;\n",
       "    }\n",
       "\n",
       "    .dataframe thead th {\n",
       "        text-align: right;\n",
       "    }\n",
       "</style>\n",
       "<table border=\"1\" class=\"dataframe\">\n",
       "  <thead>\n",
       "    <tr style=\"text-align: right;\">\n",
       "      <th></th>\n",
       "      <th>Date</th>\n",
       "      <th>Customer</th>\n",
       "      <th>Invoice</th>\n",
       "      <th>Amount</th>\n",
       "    </tr>\n",
       "  </thead>\n",
       "  <tbody>\n",
       "    <tr>\n",
       "      <th>2</th>\n",
       "      <td>2018-12-12</td>\n",
       "      <td>MMC Inc.</td>\n",
       "      <td>100</td>\n",
       "      <td>2900</td>\n",
       "    </tr>\n",
       "  </tbody>\n",
       "</table>\n",
       "</div>"
      ],
      "text/plain": [
       "        Date  Customer  Invoice  Amount\n",
       "2 2018-12-12  MMC Inc.      100    2900"
      ]
     },
     "execution_count": 173,
     "metadata": {},
     "output_type": "execute_result"
    }
   ],
   "source": [
    "sales.loc[sales[\"Invoice\"] == 100]"
   ]
  },
  {
   "cell_type": "code",
   "execution_count": 174,
   "metadata": {},
   "outputs": [
    {
     "data": {
      "text/html": [
       "<div>\n",
       "<style scoped>\n",
       "    .dataframe tbody tr th:only-of-type {\n",
       "        vertical-align: middle;\n",
       "    }\n",
       "\n",
       "    .dataframe tbody tr th {\n",
       "        vertical-align: top;\n",
       "    }\n",
       "\n",
       "    .dataframe thead th {\n",
       "        text-align: right;\n",
       "    }\n",
       "</style>\n",
       "<table border=\"1\" class=\"dataframe\">\n",
       "  <thead>\n",
       "    <tr style=\"text-align: right;\">\n",
       "      <th></th>\n",
       "      <th>Date</th>\n",
       "      <th>Customer</th>\n",
       "      <th>Invoice</th>\n",
       "      <th>Amount</th>\n",
       "    </tr>\n",
       "  </thead>\n",
       "  <tbody>\n",
       "    <tr>\n",
       "      <th>2</th>\n",
       "      <td>2018-12-12</td>\n",
       "      <td>MMC Inc.</td>\n",
       "      <td>100</td>\n",
       "      <td>2900</td>\n",
       "    </tr>\n",
       "    <tr>\n",
       "      <th>4</th>\n",
       "      <td>2018-12-21</td>\n",
       "      <td>Steel &amp; Iron LLC</td>\n",
       "      <td>102</td>\n",
       "      <td>3400</td>\n",
       "    </tr>\n",
       "  </tbody>\n",
       "</table>\n",
       "</div>"
      ],
      "text/plain": [
       "        Date          Customer  Invoice  Amount\n",
       "2 2018-12-12          MMC Inc.      100    2900\n",
       "4 2018-12-21  Steel & Iron LLC      102    3400"
      ]
     },
     "execution_count": 174,
     "metadata": {},
     "output_type": "execute_result"
    }
   ],
   "source": [
    "sales.loc[sales[\"Amount\"] > 2000]"
   ]
  },
  {
   "cell_type": "code",
   "execution_count": 175,
   "metadata": {},
   "outputs": [
    {
     "data": {
      "text/plain": [
       "Date        2018-12-21 00:00:00\n",
       "Customer       Steel & Iron LLC\n",
       "Invoice                     102\n",
       "Amount                     3400\n",
       "Name: 4, dtype: object"
      ]
     },
     "execution_count": 175,
     "metadata": {},
     "output_type": "execute_result"
    }
   ],
   "source": [
    "sales.loc[sales[\"Amount\"].idxmax()]"
   ]
  },
  {
   "cell_type": "code",
   "execution_count": 176,
   "metadata": {},
   "outputs": [
    {
     "data": {
      "text/plain": [
       "'Steel & Iron LLC'"
      ]
     },
     "execution_count": 176,
     "metadata": {},
     "output_type": "execute_result"
    }
   ],
   "source": [
    "sales.loc[sales[\"Amount\"].idxmax()][\"Customer\"]"
   ]
  },
  {
   "cell_type": "code",
   "execution_count": 177,
   "metadata": {},
   "outputs": [
    {
     "data": {
      "text/html": [
       "<div>\n",
       "<style scoped>\n",
       "    .dataframe tbody tr th:only-of-type {\n",
       "        vertical-align: middle;\n",
       "    }\n",
       "\n",
       "    .dataframe tbody tr th {\n",
       "        vertical-align: top;\n",
       "    }\n",
       "\n",
       "    .dataframe thead th {\n",
       "        text-align: right;\n",
       "    }\n",
       "</style>\n",
       "<table border=\"1\" class=\"dataframe\">\n",
       "  <thead>\n",
       "    <tr style=\"text-align: right;\">\n",
       "      <th></th>\n",
       "      <th>Date</th>\n",
       "      <th>Customer</th>\n",
       "      <th>Invoice</th>\n",
       "      <th>Amount</th>\n",
       "    </tr>\n",
       "  </thead>\n",
       "  <tbody>\n",
       "    <tr>\n",
       "      <th>1</th>\n",
       "      <td>2018-12-10</td>\n",
       "      <td>MMC Inc.</td>\n",
       "      <td>99</td>\n",
       "      <td>1900</td>\n",
       "    </tr>\n",
       "    <tr>\n",
       "      <th>2</th>\n",
       "      <td>2018-12-12</td>\n",
       "      <td>MMC Inc.</td>\n",
       "      <td>100</td>\n",
       "      <td>2900</td>\n",
       "    </tr>\n",
       "    <tr>\n",
       "      <th>4</th>\n",
       "      <td>2018-12-21</td>\n",
       "      <td>Steel &amp; Iron LLC</td>\n",
       "      <td>102</td>\n",
       "      <td>3400</td>\n",
       "    </tr>\n",
       "  </tbody>\n",
       "</table>\n",
       "</div>"
      ],
      "text/plain": [
       "        Date          Customer  Invoice  Amount\n",
       "1 2018-12-10          MMC Inc.       99    1900\n",
       "2 2018-12-12          MMC Inc.      100    2900\n",
       "4 2018-12-21  Steel & Iron LLC      102    3400"
      ]
     },
     "execution_count": 177,
     "metadata": {},
     "output_type": "execute_result"
    }
   ],
   "source": [
    "sales.loc[sales[\"Amount\"] > 1800]"
   ]
  },
  {
   "cell_type": "code",
   "execution_count": 178,
   "metadata": {},
   "outputs": [
    {
     "data": {
      "text/plain": [
       "1            MMC Inc.\n",
       "2            MMC Inc.\n",
       "4    Steel & Iron LLC\n",
       "Name: Customer, dtype: object"
      ]
     },
     "execution_count": 178,
     "metadata": {},
     "output_type": "execute_result"
    }
   ],
   "source": [
    "sales.loc[sales[\"Amount\"] > 1800][\"Customer\"]"
   ]
  },
  {
   "cell_type": "code",
   "execution_count": 179,
   "metadata": {},
   "outputs": [
    {
     "data": {
      "text/plain": [
       "array(['MMC Inc.', 'Steel & Iron LLC'], dtype=object)"
      ]
     },
     "execution_count": 179,
     "metadata": {},
     "output_type": "execute_result"
    }
   ],
   "source": [
    "sales.loc[sales[\"Amount\"] > 1800][\"Customer\"].unique()"
   ]
  },
  {
   "cell_type": "code",
   "execution_count": 180,
   "metadata": {},
   "outputs": [
    {
     "data": {
      "text/plain": [
       "'MMC Inc.'"
      ]
     },
     "execution_count": 180,
     "metadata": {},
     "output_type": "execute_result"
    }
   ],
   "source": [
    "sales.loc[sales[\"Amount\"] > 1800][\"Customer\"].unique()[0]"
   ]
  },
  {
   "cell_type": "code",
   "execution_count": 181,
   "metadata": {},
   "outputs": [
    {
     "data": {
      "text/plain": [
       "'Steel & Iron LLC'"
      ]
     },
     "execution_count": 181,
     "metadata": {},
     "output_type": "execute_result"
    }
   ],
   "source": [
    "sales.loc[sales[\"Amount\"] > 1800][\"Customer\"].unique()[1]"
   ]
  },
  {
   "cell_type": "code",
   "execution_count": 182,
   "metadata": {},
   "outputs": [
    {
     "name": "stdout",
     "output_type": "stream",
     "text": [
      "MMC Inc.\n",
      "Steel & Iron LLC\n"
     ]
    }
   ],
   "source": [
    "for customer in sales.loc[sales[\"Amount\"] > 1800][\"Customer\"].unique():\n",
    "    print(customer)"
   ]
  },
  {
   "cell_type": "markdown",
   "metadata": {},
   "source": [
    "# machine learning"
   ]
  },
  {
   "cell_type": "code",
   "execution_count": 183,
   "metadata": {},
   "outputs": [
    {
     "name": "stdout",
     "output_type": "stream",
     "text": [
      "{'data': array([[5.1, 3.5, 1.4, 0.2],\n",
      "       [4.9, 3. , 1.4, 0.2],\n",
      "       [4.7, 3.2, 1.3, 0.2],\n",
      "       [4.6, 3.1, 1.5, 0.2],\n",
      "       [5. , 3.6, 1.4, 0.2],\n",
      "       [5.4, 3.9, 1.7, 0.4],\n",
      "       [4.6, 3.4, 1.4, 0.3],\n",
      "       [5. , 3.4, 1.5, 0.2],\n",
      "       [4.4, 2.9, 1.4, 0.2],\n",
      "       [4.9, 3.1, 1.5, 0.1],\n",
      "       [5.4, 3.7, 1.5, 0.2],\n",
      "       [4.8, 3.4, 1.6, 0.2],\n",
      "       [4.8, 3. , 1.4, 0.1],\n",
      "       [4.3, 3. , 1.1, 0.1],\n",
      "       [5.8, 4. , 1.2, 0.2],\n",
      "       [5.7, 4.4, 1.5, 0.4],\n",
      "       [5.4, 3.9, 1.3, 0.4],\n",
      "       [5.1, 3.5, 1.4, 0.3],\n",
      "       [5.7, 3.8, 1.7, 0.3],\n",
      "       [5.1, 3.8, 1.5, 0.3],\n",
      "       [5.4, 3.4, 1.7, 0.2],\n",
      "       [5.1, 3.7, 1.5, 0.4],\n",
      "       [4.6, 3.6, 1. , 0.2],\n",
      "       [5.1, 3.3, 1.7, 0.5],\n",
      "       [4.8, 3.4, 1.9, 0.2],\n",
      "       [5. , 3. , 1.6, 0.2],\n",
      "       [5. , 3.4, 1.6, 0.4],\n",
      "       [5.2, 3.5, 1.5, 0.2],\n",
      "       [5.2, 3.4, 1.4, 0.2],\n",
      "       [4.7, 3.2, 1.6, 0.2],\n",
      "       [4.8, 3.1, 1.6, 0.2],\n",
      "       [5.4, 3.4, 1.5, 0.4],\n",
      "       [5.2, 4.1, 1.5, 0.1],\n",
      "       [5.5, 4.2, 1.4, 0.2],\n",
      "       [4.9, 3.1, 1.5, 0.2],\n",
      "       [5. , 3.2, 1.2, 0.2],\n",
      "       [5.5, 3.5, 1.3, 0.2],\n",
      "       [4.9, 3.6, 1.4, 0.1],\n",
      "       [4.4, 3. , 1.3, 0.2],\n",
      "       [5.1, 3.4, 1.5, 0.2],\n",
      "       [5. , 3.5, 1.3, 0.3],\n",
      "       [4.5, 2.3, 1.3, 0.3],\n",
      "       [4.4, 3.2, 1.3, 0.2],\n",
      "       [5. , 3.5, 1.6, 0.6],\n",
      "       [5.1, 3.8, 1.9, 0.4],\n",
      "       [4.8, 3. , 1.4, 0.3],\n",
      "       [5.1, 3.8, 1.6, 0.2],\n",
      "       [4.6, 3.2, 1.4, 0.2],\n",
      "       [5.3, 3.7, 1.5, 0.2],\n",
      "       [5. , 3.3, 1.4, 0.2],\n",
      "       [7. , 3.2, 4.7, 1.4],\n",
      "       [6.4, 3.2, 4.5, 1.5],\n",
      "       [6.9, 3.1, 4.9, 1.5],\n",
      "       [5.5, 2.3, 4. , 1.3],\n",
      "       [6.5, 2.8, 4.6, 1.5],\n",
      "       [5.7, 2.8, 4.5, 1.3],\n",
      "       [6.3, 3.3, 4.7, 1.6],\n",
      "       [4.9, 2.4, 3.3, 1. ],\n",
      "       [6.6, 2.9, 4.6, 1.3],\n",
      "       [5.2, 2.7, 3.9, 1.4],\n",
      "       [5. , 2. , 3.5, 1. ],\n",
      "       [5.9, 3. , 4.2, 1.5],\n",
      "       [6. , 2.2, 4. , 1. ],\n",
      "       [6.1, 2.9, 4.7, 1.4],\n",
      "       [5.6, 2.9, 3.6, 1.3],\n",
      "       [6.7, 3.1, 4.4, 1.4],\n",
      "       [5.6, 3. , 4.5, 1.5],\n",
      "       [5.8, 2.7, 4.1, 1. ],\n",
      "       [6.2, 2.2, 4.5, 1.5],\n",
      "       [5.6, 2.5, 3.9, 1.1],\n",
      "       [5.9, 3.2, 4.8, 1.8],\n",
      "       [6.1, 2.8, 4. , 1.3],\n",
      "       [6.3, 2.5, 4.9, 1.5],\n",
      "       [6.1, 2.8, 4.7, 1.2],\n",
      "       [6.4, 2.9, 4.3, 1.3],\n",
      "       [6.6, 3. , 4.4, 1.4],\n",
      "       [6.8, 2.8, 4.8, 1.4],\n",
      "       [6.7, 3. , 5. , 1.7],\n",
      "       [6. , 2.9, 4.5, 1.5],\n",
      "       [5.7, 2.6, 3.5, 1. ],\n",
      "       [5.5, 2.4, 3.8, 1.1],\n",
      "       [5.5, 2.4, 3.7, 1. ],\n",
      "       [5.8, 2.7, 3.9, 1.2],\n",
      "       [6. , 2.7, 5.1, 1.6],\n",
      "       [5.4, 3. , 4.5, 1.5],\n",
      "       [6. , 3.4, 4.5, 1.6],\n",
      "       [6.7, 3.1, 4.7, 1.5],\n",
      "       [6.3, 2.3, 4.4, 1.3],\n",
      "       [5.6, 3. , 4.1, 1.3],\n",
      "       [5.5, 2.5, 4. , 1.3],\n",
      "       [5.5, 2.6, 4.4, 1.2],\n",
      "       [6.1, 3. , 4.6, 1.4],\n",
      "       [5.8, 2.6, 4. , 1.2],\n",
      "       [5. , 2.3, 3.3, 1. ],\n",
      "       [5.6, 2.7, 4.2, 1.3],\n",
      "       [5.7, 3. , 4.2, 1.2],\n",
      "       [5.7, 2.9, 4.2, 1.3],\n",
      "       [6.2, 2.9, 4.3, 1.3],\n",
      "       [5.1, 2.5, 3. , 1.1],\n",
      "       [5.7, 2.8, 4.1, 1.3],\n",
      "       [6.3, 3.3, 6. , 2.5],\n",
      "       [5.8, 2.7, 5.1, 1.9],\n",
      "       [7.1, 3. , 5.9, 2.1],\n",
      "       [6.3, 2.9, 5.6, 1.8],\n",
      "       [6.5, 3. , 5.8, 2.2],\n",
      "       [7.6, 3. , 6.6, 2.1],\n",
      "       [4.9, 2.5, 4.5, 1.7],\n",
      "       [7.3, 2.9, 6.3, 1.8],\n",
      "       [6.7, 2.5, 5.8, 1.8],\n",
      "       [7.2, 3.6, 6.1, 2.5],\n",
      "       [6.5, 3.2, 5.1, 2. ],\n",
      "       [6.4, 2.7, 5.3, 1.9],\n",
      "       [6.8, 3. , 5.5, 2.1],\n",
      "       [5.7, 2.5, 5. , 2. ],\n",
      "       [5.8, 2.8, 5.1, 2.4],\n",
      "       [6.4, 3.2, 5.3, 2.3],\n",
      "       [6.5, 3. , 5.5, 1.8],\n",
      "       [7.7, 3.8, 6.7, 2.2],\n",
      "       [7.7, 2.6, 6.9, 2.3],\n",
      "       [6. , 2.2, 5. , 1.5],\n",
      "       [6.9, 3.2, 5.7, 2.3],\n",
      "       [5.6, 2.8, 4.9, 2. ],\n",
      "       [7.7, 2.8, 6.7, 2. ],\n",
      "       [6.3, 2.7, 4.9, 1.8],\n",
      "       [6.7, 3.3, 5.7, 2.1],\n",
      "       [7.2, 3.2, 6. , 1.8],\n",
      "       [6.2, 2.8, 4.8, 1.8],\n",
      "       [6.1, 3. , 4.9, 1.8],\n",
      "       [6.4, 2.8, 5.6, 2.1],\n",
      "       [7.2, 3. , 5.8, 1.6],\n",
      "       [7.4, 2.8, 6.1, 1.9],\n",
      "       [7.9, 3.8, 6.4, 2. ],\n",
      "       [6.4, 2.8, 5.6, 2.2],\n",
      "       [6.3, 2.8, 5.1, 1.5],\n",
      "       [6.1, 2.6, 5.6, 1.4],\n",
      "       [7.7, 3. , 6.1, 2.3],\n",
      "       [6.3, 3.4, 5.6, 2.4],\n",
      "       [6.4, 3.1, 5.5, 1.8],\n",
      "       [6. , 3. , 4.8, 1.8],\n",
      "       [6.9, 3.1, 5.4, 2.1],\n",
      "       [6.7, 3.1, 5.6, 2.4],\n",
      "       [6.9, 3.1, 5.1, 2.3],\n",
      "       [5.8, 2.7, 5.1, 1.9],\n",
      "       [6.8, 3.2, 5.9, 2.3],\n",
      "       [6.7, 3.3, 5.7, 2.5],\n",
      "       [6.7, 3. , 5.2, 2.3],\n",
      "       [6.3, 2.5, 5. , 1.9],\n",
      "       [6.5, 3. , 5.2, 2. ],\n",
      "       [6.2, 3.4, 5.4, 2.3],\n",
      "       [5.9, 3. , 5.1, 1.8]]), 'target': array([0, 0, 0, 0, 0, 0, 0, 0, 0, 0, 0, 0, 0, 0, 0, 0, 0, 0, 0, 0, 0, 0,\n",
      "       0, 0, 0, 0, 0, 0, 0, 0, 0, 0, 0, 0, 0, 0, 0, 0, 0, 0, 0, 0, 0, 0,\n",
      "       0, 0, 0, 0, 0, 0, 1, 1, 1, 1, 1, 1, 1, 1, 1, 1, 1, 1, 1, 1, 1, 1,\n",
      "       1, 1, 1, 1, 1, 1, 1, 1, 1, 1, 1, 1, 1, 1, 1, 1, 1, 1, 1, 1, 1, 1,\n",
      "       1, 1, 1, 1, 1, 1, 1, 1, 1, 1, 1, 1, 2, 2, 2, 2, 2, 2, 2, 2, 2, 2,\n",
      "       2, 2, 2, 2, 2, 2, 2, 2, 2, 2, 2, 2, 2, 2, 2, 2, 2, 2, 2, 2, 2, 2,\n",
      "       2, 2, 2, 2, 2, 2, 2, 2, 2, 2, 2, 2, 2, 2, 2, 2, 2, 2]), 'frame': None, 'target_names': array(['setosa', 'versicolor', 'virginica'], dtype='<U10'), 'DESCR': '.. _iris_dataset:\\n\\nIris plants dataset\\n--------------------\\n\\n**Data Set Characteristics:**\\n\\n    :Number of Instances: 150 (50 in each of three classes)\\n    :Number of Attributes: 4 numeric, predictive attributes and the class\\n    :Attribute Information:\\n        - sepal length in cm\\n        - sepal width in cm\\n        - petal length in cm\\n        - petal width in cm\\n        - class:\\n                - Iris-Setosa\\n                - Iris-Versicolour\\n                - Iris-Virginica\\n                \\n    :Summary Statistics:\\n\\n    ============== ==== ==== ======= ===== ====================\\n                    Min  Max   Mean    SD   Class Correlation\\n    ============== ==== ==== ======= ===== ====================\\n    sepal length:   4.3  7.9   5.84   0.83    0.7826\\n    sepal width:    2.0  4.4   3.05   0.43   -0.4194\\n    petal length:   1.0  6.9   3.76   1.76    0.9490  (high!)\\n    petal width:    0.1  2.5   1.20   0.76    0.9565  (high!)\\n    ============== ==== ==== ======= ===== ====================\\n\\n    :Missing Attribute Values: None\\n    :Class Distribution: 33.3% for each of 3 classes.\\n    :Creator: R.A. Fisher\\n    :Donor: Michael Marshall (MARSHALL%PLU@io.arc.nasa.gov)\\n    :Date: July, 1988\\n\\nThe famous Iris database, first used by Sir R.A. Fisher. The dataset is taken\\nfrom Fisher\\'s paper. Note that it\\'s the same as in R, but not as in the UCI\\nMachine Learning Repository, which has two wrong data points.\\n\\nThis is perhaps the best known database to be found in the\\npattern recognition literature.  Fisher\\'s paper is a classic in the field and\\nis referenced frequently to this day.  (See Duda & Hart, for example.)  The\\ndata set contains 3 classes of 50 instances each, where each class refers to a\\ntype of iris plant.  One class is linearly separable from the other 2; the\\nlatter are NOT linearly separable from each other.\\n\\n.. topic:: References\\n\\n   - Fisher, R.A. \"The use of multiple measurements in taxonomic problems\"\\n     Annual Eugenics, 7, Part II, 179-188 (1936); also in \"Contributions to\\n     Mathematical Statistics\" (John Wiley, NY, 1950).\\n   - Duda, R.O., & Hart, P.E. (1973) Pattern Classification and Scene Analysis.\\n     (Q327.D83) John Wiley & Sons.  ISBN 0-471-22361-1.  See page 218.\\n   - Dasarathy, B.V. (1980) \"Nosing Around the Neighborhood: A New System\\n     Structure and Classification Rule for Recognition in Partially Exposed\\n     Environments\".  IEEE Transactions on Pattern Analysis and Machine\\n     Intelligence, Vol. PAMI-2, No. 1, 67-71.\\n   - Gates, G.W. (1972) \"The Reduced Nearest Neighbor Rule\".  IEEE Transactions\\n     on Information Theory, May 1972, 431-433.\\n   - See also: 1988 MLC Proceedings, 54-64.  Cheeseman et al\"s AUTOCLASS II\\n     conceptual clustering system finds 3 classes in the data.\\n   - Many, many more ...', 'feature_names': ['sepal length (cm)', 'sepal width (cm)', 'petal length (cm)', 'petal width (cm)'], 'filename': 'iris.csv', 'data_module': 'sklearn.datasets.data'}\n"
     ]
    }
   ],
   "source": [
    "from sklearn.datasets import load_iris\n",
    "\n",
    "iris = load_iris()  # Note the parentheses\n",
    "print(iris)"
   ]
  },
  {
   "cell_type": "code",
   "execution_count": 184,
   "metadata": {},
   "outputs": [
    {
     "name": "stdout",
     "output_type": "stream",
     "text": [
      "[[5.1 3.5 1.4 0.2]\n",
      " [4.9 3.  1.4 0.2]\n",
      " [4.7 3.2 1.3 0.2]\n",
      " [4.6 3.1 1.5 0.2]\n",
      " [5.  3.6 1.4 0.2]\n",
      " [5.4 3.9 1.7 0.4]\n",
      " [4.6 3.4 1.4 0.3]\n",
      " [5.  3.4 1.5 0.2]\n",
      " [4.4 2.9 1.4 0.2]\n",
      " [4.9 3.1 1.5 0.1]\n",
      " [5.4 3.7 1.5 0.2]\n",
      " [4.8 3.4 1.6 0.2]\n",
      " [4.8 3.  1.4 0.1]\n",
      " [4.3 3.  1.1 0.1]\n",
      " [5.8 4.  1.2 0.2]\n",
      " [5.7 4.4 1.5 0.4]\n",
      " [5.4 3.9 1.3 0.4]\n",
      " [5.1 3.5 1.4 0.3]\n",
      " [5.7 3.8 1.7 0.3]\n",
      " [5.1 3.8 1.5 0.3]\n",
      " [5.4 3.4 1.7 0.2]\n",
      " [5.1 3.7 1.5 0.4]\n",
      " [4.6 3.6 1.  0.2]\n",
      " [5.1 3.3 1.7 0.5]\n",
      " [4.8 3.4 1.9 0.2]\n",
      " [5.  3.  1.6 0.2]\n",
      " [5.  3.4 1.6 0.4]\n",
      " [5.2 3.5 1.5 0.2]\n",
      " [5.2 3.4 1.4 0.2]\n",
      " [4.7 3.2 1.6 0.2]\n",
      " [4.8 3.1 1.6 0.2]\n",
      " [5.4 3.4 1.5 0.4]\n",
      " [5.2 4.1 1.5 0.1]\n",
      " [5.5 4.2 1.4 0.2]\n",
      " [4.9 3.1 1.5 0.2]\n",
      " [5.  3.2 1.2 0.2]\n",
      " [5.5 3.5 1.3 0.2]\n",
      " [4.9 3.6 1.4 0.1]\n",
      " [4.4 3.  1.3 0.2]\n",
      " [5.1 3.4 1.5 0.2]\n",
      " [5.  3.5 1.3 0.3]\n",
      " [4.5 2.3 1.3 0.3]\n",
      " [4.4 3.2 1.3 0.2]\n",
      " [5.  3.5 1.6 0.6]\n",
      " [5.1 3.8 1.9 0.4]\n",
      " [4.8 3.  1.4 0.3]\n",
      " [5.1 3.8 1.6 0.2]\n",
      " [4.6 3.2 1.4 0.2]\n",
      " [5.3 3.7 1.5 0.2]\n",
      " [5.  3.3 1.4 0.2]\n",
      " [7.  3.2 4.7 1.4]\n",
      " [6.4 3.2 4.5 1.5]\n",
      " [6.9 3.1 4.9 1.5]\n",
      " [5.5 2.3 4.  1.3]\n",
      " [6.5 2.8 4.6 1.5]\n",
      " [5.7 2.8 4.5 1.3]\n",
      " [6.3 3.3 4.7 1.6]\n",
      " [4.9 2.4 3.3 1. ]\n",
      " [6.6 2.9 4.6 1.3]\n",
      " [5.2 2.7 3.9 1.4]\n",
      " [5.  2.  3.5 1. ]\n",
      " [5.9 3.  4.2 1.5]\n",
      " [6.  2.2 4.  1. ]\n",
      " [6.1 2.9 4.7 1.4]\n",
      " [5.6 2.9 3.6 1.3]\n",
      " [6.7 3.1 4.4 1.4]\n",
      " [5.6 3.  4.5 1.5]\n",
      " [5.8 2.7 4.1 1. ]\n",
      " [6.2 2.2 4.5 1.5]\n",
      " [5.6 2.5 3.9 1.1]\n",
      " [5.9 3.2 4.8 1.8]\n",
      " [6.1 2.8 4.  1.3]\n",
      " [6.3 2.5 4.9 1.5]\n",
      " [6.1 2.8 4.7 1.2]\n",
      " [6.4 2.9 4.3 1.3]\n",
      " [6.6 3.  4.4 1.4]\n",
      " [6.8 2.8 4.8 1.4]\n",
      " [6.7 3.  5.  1.7]\n",
      " [6.  2.9 4.5 1.5]\n",
      " [5.7 2.6 3.5 1. ]\n",
      " [5.5 2.4 3.8 1.1]\n",
      " [5.5 2.4 3.7 1. ]\n",
      " [5.8 2.7 3.9 1.2]\n",
      " [6.  2.7 5.1 1.6]\n",
      " [5.4 3.  4.5 1.5]\n",
      " [6.  3.4 4.5 1.6]\n",
      " [6.7 3.1 4.7 1.5]\n",
      " [6.3 2.3 4.4 1.3]\n",
      " [5.6 3.  4.1 1.3]\n",
      " [5.5 2.5 4.  1.3]\n",
      " [5.5 2.6 4.4 1.2]\n",
      " [6.1 3.  4.6 1.4]\n",
      " [5.8 2.6 4.  1.2]\n",
      " [5.  2.3 3.3 1. ]\n",
      " [5.6 2.7 4.2 1.3]\n",
      " [5.7 3.  4.2 1.2]\n",
      " [5.7 2.9 4.2 1.3]\n",
      " [6.2 2.9 4.3 1.3]\n",
      " [5.1 2.5 3.  1.1]\n",
      " [5.7 2.8 4.1 1.3]\n",
      " [6.3 3.3 6.  2.5]\n",
      " [5.8 2.7 5.1 1.9]\n",
      " [7.1 3.  5.9 2.1]\n",
      " [6.3 2.9 5.6 1.8]\n",
      " [6.5 3.  5.8 2.2]\n",
      " [7.6 3.  6.6 2.1]\n",
      " [4.9 2.5 4.5 1.7]\n",
      " [7.3 2.9 6.3 1.8]\n",
      " [6.7 2.5 5.8 1.8]\n",
      " [7.2 3.6 6.1 2.5]\n",
      " [6.5 3.2 5.1 2. ]\n",
      " [6.4 2.7 5.3 1.9]\n",
      " [6.8 3.  5.5 2.1]\n",
      " [5.7 2.5 5.  2. ]\n",
      " [5.8 2.8 5.1 2.4]\n",
      " [6.4 3.2 5.3 2.3]\n",
      " [6.5 3.  5.5 1.8]\n",
      " [7.7 3.8 6.7 2.2]\n",
      " [7.7 2.6 6.9 2.3]\n",
      " [6.  2.2 5.  1.5]\n",
      " [6.9 3.2 5.7 2.3]\n",
      " [5.6 2.8 4.9 2. ]\n",
      " [7.7 2.8 6.7 2. ]\n",
      " [6.3 2.7 4.9 1.8]\n",
      " [6.7 3.3 5.7 2.1]\n",
      " [7.2 3.2 6.  1.8]\n",
      " [6.2 2.8 4.8 1.8]\n",
      " [6.1 3.  4.9 1.8]\n",
      " [6.4 2.8 5.6 2.1]\n",
      " [7.2 3.  5.8 1.6]\n",
      " [7.4 2.8 6.1 1.9]\n",
      " [7.9 3.8 6.4 2. ]\n",
      " [6.4 2.8 5.6 2.2]\n",
      " [6.3 2.8 5.1 1.5]\n",
      " [6.1 2.6 5.6 1.4]\n",
      " [7.7 3.  6.1 2.3]\n",
      " [6.3 3.4 5.6 2.4]\n",
      " [6.4 3.1 5.5 1.8]\n",
      " [6.  3.  4.8 1.8]\n",
      " [6.9 3.1 5.4 2.1]\n",
      " [6.7 3.1 5.6 2.4]\n",
      " [6.9 3.1 5.1 2.3]\n",
      " [5.8 2.7 5.1 1.9]\n",
      " [6.8 3.2 5.9 2.3]\n",
      " [6.7 3.3 5.7 2.5]\n",
      " [6.7 3.  5.2 2.3]\n",
      " [6.3 2.5 5.  1.9]\n",
      " [6.5 3.  5.2 2. ]\n",
      " [6.2 3.4 5.4 2.3]\n",
      " [5.9 3.  5.1 1.8]]\n"
     ]
    }
   ],
   "source": [
    "print(iris.data)"
   ]
  },
  {
   "cell_type": "code",
   "execution_count": 185,
   "metadata": {},
   "outputs": [
    {
     "name": "stdout",
     "output_type": "stream",
     "text": [
      "[0 0 0 0 0 0 0 0 0 0 0 0 0 0 0 0 0 0 0 0 0 0 0 0 0 0 0 0 0 0 0 0 0 0 0 0 0\n",
      " 0 0 0 0 0 0 0 0 0 0 0 0 0 1 1 1 1 1 1 1 1 1 1 1 1 1 1 1 1 1 1 1 1 1 1 1 1\n",
      " 1 1 1 1 1 1 1 1 1 1 1 1 1 1 1 1 1 1 1 1 1 1 1 1 1 1 2 2 2 2 2 2 2 2 2 2 2\n",
      " 2 2 2 2 2 2 2 2 2 2 2 2 2 2 2 2 2 2 2 2 2 2 2 2 2 2 2 2 2 2 2 2 2 2 2 2 2\n",
      " 2 2]\n"
     ]
    }
   ],
   "source": [
    "print(iris.target)"
   ]
  },
  {
   "cell_type": "code",
   "execution_count": 186,
   "metadata": {},
   "outputs": [
    {
     "name": "stdout",
     "output_type": "stream",
     "text": [
      "['setosa' 'versicolor' 'virginica']\n"
     ]
    }
   ],
   "source": [
    "print(iris.target_names)"
   ]
  },
  {
   "cell_type": "code",
   "execution_count": 187,
   "metadata": {},
   "outputs": [
    {
     "name": "stdout",
     "output_type": "stream",
     "text": [
      "<class 'numpy.ndarray'>\n"
     ]
    }
   ],
   "source": [
    "print(type(iris.target))"
   ]
  },
  {
   "cell_type": "code",
   "execution_count": 188,
   "metadata": {},
   "outputs": [
    {
     "name": "stdout",
     "output_type": "stream",
     "text": [
      "(150, 4)\n"
     ]
    }
   ],
   "source": [
    "print(iris.data.shape)"
   ]
  },
  {
   "cell_type": "code",
   "execution_count": 189,
   "metadata": {},
   "outputs": [
    {
     "name": "stdout",
     "output_type": "stream",
     "text": [
      "(150,)\n"
     ]
    }
   ],
   "source": [
    "print(iris.target.shape)"
   ]
  },
  {
   "cell_type": "markdown",
   "metadata": {},
   "source": [
    "# KNN"
   ]
  },
  {
   "cell_type": "code",
   "execution_count": 190,
   "metadata": {},
   "outputs": [],
   "source": [
    "from sklearn.neighbors import KNeighborsClassifier\n",
    "KNN = KNeighborsClassifier(n_neighbors=1)"
   ]
  },
  {
   "cell_type": "code",
   "execution_count": 191,
   "metadata": {},
   "outputs": [],
   "source": [
    "x = iris.data\n",
    "y = iris.target"
   ]
  },
  {
   "cell_type": "code",
   "execution_count": 192,
   "metadata": {},
   "outputs": [
    {
     "data": {
      "text/html": [
       "<style>#sk-container-id-2 {color: black;}#sk-container-id-2 pre{padding: 0;}#sk-container-id-2 div.sk-toggleable {background-color: white;}#sk-container-id-2 label.sk-toggleable__label {cursor: pointer;display: block;width: 100%;margin-bottom: 0;padding: 0.3em;box-sizing: border-box;text-align: center;}#sk-container-id-2 label.sk-toggleable__label-arrow:before {content: \"▸\";float: left;margin-right: 0.25em;color: #696969;}#sk-container-id-2 label.sk-toggleable__label-arrow:hover:before {color: black;}#sk-container-id-2 div.sk-estimator:hover label.sk-toggleable__label-arrow:before {color: black;}#sk-container-id-2 div.sk-toggleable__content {max-height: 0;max-width: 0;overflow: hidden;text-align: left;background-color: #f0f8ff;}#sk-container-id-2 div.sk-toggleable__content pre {margin: 0.2em;color: black;border-radius: 0.25em;background-color: #f0f8ff;}#sk-container-id-2 input.sk-toggleable__control:checked~div.sk-toggleable__content {max-height: 200px;max-width: 100%;overflow: auto;}#sk-container-id-2 input.sk-toggleable__control:checked~label.sk-toggleable__label-arrow:before {content: \"▾\";}#sk-container-id-2 div.sk-estimator input.sk-toggleable__control:checked~label.sk-toggleable__label {background-color: #d4ebff;}#sk-container-id-2 div.sk-label input.sk-toggleable__control:checked~label.sk-toggleable__label {background-color: #d4ebff;}#sk-container-id-2 input.sk-hidden--visually {border: 0;clip: rect(1px 1px 1px 1px);clip: rect(1px, 1px, 1px, 1px);height: 1px;margin: -1px;overflow: hidden;padding: 0;position: absolute;width: 1px;}#sk-container-id-2 div.sk-estimator {font-family: monospace;background-color: #f0f8ff;border: 1px dotted black;border-radius: 0.25em;box-sizing: border-box;margin-bottom: 0.5em;}#sk-container-id-2 div.sk-estimator:hover {background-color: #d4ebff;}#sk-container-id-2 div.sk-parallel-item::after {content: \"\";width: 100%;border-bottom: 1px solid gray;flex-grow: 1;}#sk-container-id-2 div.sk-label:hover label.sk-toggleable__label {background-color: #d4ebff;}#sk-container-id-2 div.sk-serial::before {content: \"\";position: absolute;border-left: 1px solid gray;box-sizing: border-box;top: 0;bottom: 0;left: 50%;z-index: 0;}#sk-container-id-2 div.sk-serial {display: flex;flex-direction: column;align-items: center;background-color: white;padding-right: 0.2em;padding-left: 0.2em;position: relative;}#sk-container-id-2 div.sk-item {position: relative;z-index: 1;}#sk-container-id-2 div.sk-parallel {display: flex;align-items: stretch;justify-content: center;background-color: white;position: relative;}#sk-container-id-2 div.sk-item::before, #sk-container-id-2 div.sk-parallel-item::before {content: \"\";position: absolute;border-left: 1px solid gray;box-sizing: border-box;top: 0;bottom: 0;left: 50%;z-index: -1;}#sk-container-id-2 div.sk-parallel-item {display: flex;flex-direction: column;z-index: 1;position: relative;background-color: white;}#sk-container-id-2 div.sk-parallel-item:first-child::after {align-self: flex-end;width: 50%;}#sk-container-id-2 div.sk-parallel-item:last-child::after {align-self: flex-start;width: 50%;}#sk-container-id-2 div.sk-parallel-item:only-child::after {width: 0;}#sk-container-id-2 div.sk-dashed-wrapped {border: 1px dashed gray;margin: 0 0.4em 0.5em 0.4em;box-sizing: border-box;padding-bottom: 0.4em;background-color: white;}#sk-container-id-2 div.sk-label label {font-family: monospace;font-weight: bold;display: inline-block;line-height: 1.2em;}#sk-container-id-2 div.sk-label-container {text-align: center;}#sk-container-id-2 div.sk-container {/* jupyter's `normalize.less` sets `[hidden] { display: none; }` but bootstrap.min.css set `[hidden] { display: none !important; }` so we also need the `!important` here to be able to override the default hidden behavior on the sphinx rendered scikit-learn.org. See: https://github.com/scikit-learn/scikit-learn/issues/21755 */display: inline-block !important;position: relative;}#sk-container-id-2 div.sk-text-repr-fallback {display: none;}</style><div id=\"sk-container-id-2\" class=\"sk-top-container\"><div class=\"sk-text-repr-fallback\"><pre>KNeighborsClassifier(n_neighbors=1)</pre><b>In a Jupyter environment, please rerun this cell to show the HTML representation or trust the notebook. <br />On GitHub, the HTML representation is unable to render, please try loading this page with nbviewer.org.</b></div><div class=\"sk-container\" hidden><div class=\"sk-item\"><div class=\"sk-estimator sk-toggleable\"><input class=\"sk-toggleable__control sk-hidden--visually\" id=\"sk-estimator-id-4\" type=\"checkbox\" checked><label for=\"sk-estimator-id-4\" class=\"sk-toggleable__label sk-toggleable__label-arrow\">KNeighborsClassifier</label><div class=\"sk-toggleable__content\"><pre>KNeighborsClassifier(n_neighbors=1)</pre></div></div></div></div></div>"
      ],
      "text/plain": [
       "KNeighborsClassifier(n_neighbors=1)"
      ]
     },
     "execution_count": 192,
     "metadata": {},
     "output_type": "execute_result"
    }
   ],
   "source": [
    "KNN.fit(x,y)"
   ]
  },
  {
   "cell_type": "code",
   "execution_count": 193,
   "metadata": {},
   "outputs": [
    {
     "data": {
      "text/plain": [
       "array([0])"
      ]
     },
     "execution_count": 193,
     "metadata": {},
     "output_type": "execute_result"
    }
   ],
   "source": [
    "KNN.predict([[4.7, 3.2, 1.3, 0.2]])"
   ]
  },
  {
   "cell_type": "code",
   "execution_count": 194,
   "metadata": {},
   "outputs": [
    {
     "data": {
      "text/plain": [
       "array([2])"
      ]
     },
     "execution_count": 194,
     "metadata": {},
     "output_type": "execute_result"
    }
   ],
   "source": [
    "KNN.predict([[5.9, 3.0,  5.1, 1.8]])"
   ]
  },
  {
   "cell_type": "code",
   "execution_count": 195,
   "metadata": {},
   "outputs": [],
   "source": [
    "from sklearn.model_selection import train_test_split\n",
    "x_train, x_test, y_train, y_test = train_test_split(x, y, test_size=0.25 , random_state=40)"
   ]
  },
  {
   "cell_type": "code",
   "execution_count": 196,
   "metadata": {},
   "outputs": [
    {
     "name": "stdout",
     "output_type": "stream",
     "text": [
      "(112, 4)\n"
     ]
    }
   ],
   "source": [
    "print(x_train.shape)"
   ]
  },
  {
   "cell_type": "code",
   "execution_count": 197,
   "metadata": {},
   "outputs": [
    {
     "name": "stdout",
     "output_type": "stream",
     "text": [
      "[0 1 2 2 1 2 1 1 1 0 1 0 0 2 1 2 2 2 1 1 2 2 1 0 1 0 0 2 0 1 1 0 0 0 0 2 0\n",
      " 0]\n"
     ]
    }
   ],
   "source": [
    "KNN.fit(x_train, y_train)\n",
    "y_pred = KNN.predict(x_test)\n",
    "print(y_pred)"
   ]
  },
  {
   "cell_type": "code",
   "execution_count": 198,
   "metadata": {},
   "outputs": [
    {
     "name": "stdout",
     "output_type": "stream",
     "text": [
      "1.0\n"
     ]
    }
   ],
   "source": [
    "from sklearn import metrics\n",
    "performance = metrics.accuracy_score(y_test, y_pred)\n",
    "print(performance)"
   ]
  },
  {
   "cell_type": "code",
   "execution_count": 199,
   "metadata": {},
   "outputs": [],
   "source": [
    "#Finding the best K value"
   ]
  },
  {
   "cell_type": "code",
   "execution_count": 200,
   "metadata": {},
   "outputs": [
    {
     "name": "stdout",
     "output_type": "stream",
     "text": [
      "{1: 1.0, 2: 1.0, 3: 1.0, 4: 1.0, 5: 1.0, 6: 1.0, 7: 1.0, 8: 1.0, 9: 1.0, 10: 0.9737, 11: 0.9737, 12: 0.9737, 13: 0.9737, 14: 0.9737, 15: 0.9737, 16: 0.9737, 17: 1.0, 18: 0.9737, 19: 1.0, 20: 0.9737, 21: 0.9737, 22: 0.9737, 23: 1.0, 24: 0.9474, 25: 0.9474}\n"
     ]
    }
   ],
   "source": [
    "k_values = {}\n",
    "k = 1\n",
    "\n",
    "while k <= 25:\n",
    "    KNN = KNeighborsClassifier(n_neighbors=k)\n",
    "    KNN.fit(x_train, y_train)\n",
    "    y_pred = KNN.predict(x_test)\n",
    "    performance = metrics.accuracy_score(y_test, y_pred)\n",
    "    k_values[k] = round(performance,4)\n",
    "    k += 1\n",
    "print(k_values)"
   ]
  },
  {
   "cell_type": "code",
   "execution_count": 201,
   "metadata": {},
   "outputs": [
    {
     "data": {
      "image/png": "[encoded data removed]",
      "text/plain": [
       "<Figure size 640x480 with 1 Axes>"
      ]
     },
     "metadata": {},
     "output_type": "display_data"
    }
   ],
   "source": [
    "import matplotlib.pyplot as plt\n",
    "plt.plot(list(k_values.keys()), list(k_values.values()))\n",
    "plt.xlabel = (\"Value of K\")\n",
    "plt.ylabel = (\"performance\")\n",
    "plt.title = (\"best K\")\n",
    "plt.show()"
   ]
  },
  {
   "cell_type": "markdown",
   "metadata": {},
   "source": [
    "# Logistic Regression"
   ]
  },
  {
   "cell_type": "code",
   "execution_count": 202,
   "metadata": {},
   "outputs": [
    {
     "name": "stdout",
     "output_type": "stream",
     "text": [
      "[0 1 2 2 1 2 1 1 1 0 1 0 0 2 1 2 2 2 1 1 2 2 1 0 1 0 0 2 0 1 1 0 0 0 0 2 0\n",
      " 0]\n"
     ]
    },
    {
     "name": "stderr",
     "output_type": "stream",
     "text": [
      "C:\\Users\\91879\\AppData\\Roaming\\Python\\Python310\\site-packages\\sklearn\\linear_model\\_logistic.py:460: ConvergenceWarning: lbfgs failed to converge (status=1):\n",
      "STOP: TOTAL NO. of ITERATIONS REACHED LIMIT.\n",
      "\n",
      "Increase the number of iterations (max_iter) or scale the data as shown in:\n",
      "    https://scikit-learn.org/stable/modules/preprocessing.html\n",
      "Please also refer to the documentation for alternative solver options:\n",
      "    https://scikit-learn.org/stable/modules/linear_model.html#logistic-regression\n",
      "  n_iter_i = _check_optimize_result(\n"
     ]
    }
   ],
   "source": [
    "from sklearn.linear_model import LogisticRegression\n",
    "logreg = LogisticRegression()\n",
    "logreg.fit(x_train, y_train)\n",
    "y_pred = logreg.predict(x_test)\n",
    "print(y_pred)"
   ]
  },
  {
   "cell_type": "code",
   "execution_count": 203,
   "metadata": {},
   "outputs": [
    {
     "name": "stdout",
     "output_type": "stream",
     "text": [
      "[[9.81553733e-01 1.84461944e-02 7.30975236e-08]\n",
      " [1.21954715e-02 7.35122358e-01 2.52682171e-01]\n",
      " [1.15838529e-04 7.24090229e-02 9.27475139e-01]\n",
      " [3.74225207e-07 7.18651282e-03 9.92813113e-01]\n",
      " [2.71611368e-02 9.12440952e-01 6.03979110e-02]\n",
      " [2.95491418e-05 2.53181773e-02 9.74652274e-01]\n",
      " [2.81934624e-03 7.72966265e-01 2.24214388e-01]\n",
      " [2.01505152e-02 8.91666763e-01 8.81827213e-02]\n",
      " [1.40756096e-02 7.02923181e-01 2.83001210e-01]\n",
      " [9.70322167e-01 2.96777623e-02 7.08772433e-08]\n",
      " [1.26899353e-02 8.59114454e-01 1.28195610e-01]\n",
      " [9.69068341e-01 3.09314824e-02 1.76837720e-07]\n",
      " [9.81750636e-01 1.82493152e-02 4.83685434e-08]\n",
      " [1.72746500e-03 4.60182410e-01 5.38090125e-01]\n",
      " [7.67798885e-02 9.17572645e-01 5.64746679e-03]\n",
      " [1.10912834e-05 1.95841656e-02 9.80404743e-01]\n",
      " [9.90187089e-04 4.02411513e-01 5.96598300e-01]\n",
      " [3.29248767e-05 5.39953575e-02 9.45971718e-01]\n",
      " [1.82848077e-03 7.95575306e-01 2.02596213e-01]\n",
      " [5.32903335e-02 8.79405164e-01 6.73045025e-02]\n",
      " [1.96943792e-05 3.64386274e-02 9.63541678e-01]\n",
      " [2.33368650e-07 8.39940919e-03 9.91600357e-01]\n",
      " [2.14385052e-02 9.13321781e-01 6.52397143e-02]\n",
      " [9.75436408e-01 2.45635130e-02 7.94617233e-08]\n",
      " [9.01023807e-02 8.94467418e-01 1.54302014e-02]\n",
      " [9.45057095e-01 5.49426771e-02 2.27418447e-07]\n",
      " [9.89076332e-01 1.09236475e-02 2.06506656e-08]\n",
      " [1.18335077e-04 1.42870960e-01 8.57010705e-01]\n",
      " [9.61657666e-01 3.83422020e-02 1.32204634e-07]\n",
      " [4.91409531e-02 9.38124664e-01 1.27343832e-02]\n",
      " [1.32794773e-02 9.64782099e-01 2.19384236e-02]\n",
      " [9.41507899e-01 5.84913052e-02 7.95555682e-07]\n",
      " [9.61559251e-01 3.84404323e-02 3.17165744e-07]\n",
      " [9.71804321e-01 2.81956059e-02 7.33164672e-08]\n",
      " [9.80726963e-01 1.92729814e-02 5.58310133e-08]\n",
      " [2.58007768e-05 4.68629630e-02 9.53111236e-01]\n",
      " [9.82591869e-01 1.74080439e-02 8.68593683e-08]\n",
      " [9.85397300e-01 1.46026469e-02 5.36236509e-08]]\n"
     ]
    }
   ],
   "source": [
    "y_pred_proba = logreg.predict_proba(x_test)\n",
    "print(y_pred_proba)"
   ]
  },
  {
   "cell_type": "code",
   "execution_count": 204,
   "metadata": {},
   "outputs": [
    {
     "name": "stdout",
     "output_type": "stream",
     "text": [
      "1.0\n"
     ]
    }
   ],
   "source": [
    "performance = metrics.accuracy_score(y_test, y_pred)\n",
    "print(performance)"
   ]
  },
  {
   "cell_type": "code",
   "execution_count": 205,
   "metadata": {},
   "outputs": [
    {
     "data": {
      "image/png": "[encoded data removed]",
      "text/plain": [
       "<Figure size 640x480 with 1 Axes>"
      ]
     },
     "metadata": {},
     "output_type": "display_data"
    }
   ],
   "source": [
    "import matplotlib.pyplot as plt\n",
    "plt.plot(y_test, y_pred)\n",
    "plt.show()"
   ]
  },
  {
   "cell_type": "code",
   "execution_count": null,
   "metadata": {},
   "outputs": [],
   "source": []
  }
 ],
 "metadata": {
  "colab": {
   "provenance": []
  },
  "kernelspec": {
   "display_name": "Python 3 (ipykernel)",
   "language": "python",
   "name": "python3"
  },
  "language_info": {
   "codemirror_mode": {
    "name": "ipython",
    "version": 3
   },
   "file_extension": ".py",
   "mimetype": "text/x-python",
   "name": "python",
   "nbconvert_exporter": "python",
   "pygments_lexer": "ipython3",
   "version": "3.10.9"
  }
 },
 "nbformat": 4,
 "nbformat_minor": 1
}
