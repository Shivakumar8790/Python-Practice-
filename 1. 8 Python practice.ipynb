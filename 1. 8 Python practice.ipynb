{
 "cells": [
  {
   "cell_type": "code",
   "execution_count": 1,
   "id": "5707e6bb",
   "metadata": {},
   "outputs": [
    {
     "name": "stdout",
     "output_type": "stream",
     "text": [
      "  GeoID          Geo    Region\n",
      "0    G1        India      APAC\n",
      "1    G2          USA  Americas\n",
      "2    G3       Canada  Americas\n",
      "3    G4  New Zealand      APAC\n",
      "4    G5    Australia      APAC\n",
      "   SPID GeoID  PID   SaleDate  Amount  Customers  Boxes\n",
      "0  SP01    G4  P04 2021-01-01    8414        276    495\n",
      "1  SP02    G3  P14 2021-01-01     532        317     54\n",
      "2  SP12    G2  P08 2021-01-01    5376        178    269\n",
      "3  SP01    G4  P15 2021-01-01     259         32     22\n",
      "4  SP19    G2  P18 2021-01-01    5530          4    179\n",
      "           Salesperson  SPID     Team   Location\n",
      "0         Barr Faughny  SP01  Yummies  Hyderabad\n",
      "1  Dennison Crosswaite  SP02  Yummies  Hyderabad\n",
      "2      Gunar Cockshoot  SP03  Yummies  Hyderabad\n",
      "3       Wilone O'Kielt  SP04   Delish  Hyderabad\n",
      "4         Gigi Bohling  SP05   Delish  Hyderabad\n",
      "   PID          Product Category   Size  Cost_per_box\n",
      "0  P01        Milk Bars     Bars  LARGE          1.52\n",
      "1  P02   50% Dark Bites    Bites  LARGE          2.57\n",
      "2  P03     Almond Choco     Bars  LARGE          9.60\n",
      "3  P04  Raspberry Choco     Bars  LARGE          4.09\n",
      "4  P05  Mint Chip Choco     Bars  LARGE          1.54\n"
     ]
    }
   ],
   "source": [
    "import pandas as pd\n",
    "import numpy as np\n",
    "import matplotlib.pyplot as plt\n",
    "import seaborn as sns\n",
    "\n",
    "# import Data sets for practice \n",
    "\n",
    "geo_data = pd.read_excel(\"awesome-chocolates-data.xlsx\", sheet_name = \"geo\" )\n",
    "sales_data = pd.read_excel(\"awesome-chocolates-data.xlsx\", sheet_name = \"sales\" )\n",
    "people_data = pd.read_excel(\"awesome-chocolates-data.xlsx\", sheet_name = \"people\" )\n",
    "products_data = pd.read_excel(\"awesome-chocolates-data.xlsx\", sheet_name = \"products\" )\n",
    "print(geo_data.head())\n",
    "print(sales_data.head())\n",
    "print(people_data.head())\n",
    "print(products_data.head())"
   ]
  },
  {
   "cell_type": "code",
   "execution_count": 2,
   "id": "0d4eaa2c",
   "metadata": {},
   "outputs": [
    {
     "name": "stdout",
     "output_type": "stream",
     "text": [
      "   col1\n",
      "0  4321\n",
      "1   765\n",
      "2    98\n"
     ]
    }
   ],
   "source": [
    "data = {'col1': [1234, 567, 89]}\n",
    "df = pd.DataFrame(data)\n",
    "\n",
    "def reverse_digits(num):\n",
    "  \"\"\"Converts int to string and reverses digits.\"\"\"\n",
    "  return num[::-1]\n",
    "\n",
    "# Apply reverse_digits function to the target column (converted to string)\n",
    "df['col1'] = df['col1'].astype(str).apply(reverse_digits)\n",
    "\n",
    "print(df)"
   ]
  },
  {
   "cell_type": "code",
   "execution_count": 3,
   "id": "95915958",
   "metadata": {},
   "outputs": [],
   "source": [
    "# Prime numbers program"
   ]
  },
  {
   "cell_type": "code",
   "execution_count": 4,
   "id": "ebd6da6a",
   "metadata": {},
   "outputs": [
    {
     "name": "stdout",
     "output_type": "stream",
     "text": [
      "Please enter your number: 12\n",
      "12 is not a Prime number\n"
     ]
    }
   ],
   "source": [
    "def is_prime(num):\n",
    "    if num <= 1:\n",
    "        return False\n",
    "    for i in range(2, int(num** 0.5)+1):\n",
    "        if num % i == 0:\n",
    "            return False\n",
    "    return True\n",
    "        \n",
    "number  = int(input(\"Please enter your number: \"))\n",
    "\n",
    "if is_prime(number):\n",
    "    print(number, \"is a Prime number\")\n",
    "else:\n",
    "    print(number, \"is not a Prime number\")\n",
    "    \n"
   ]
  },
  {
   "cell_type": "code",
   "execution_count": 5,
   "id": "07d53739",
   "metadata": {},
   "outputs": [],
   "source": [
    "#Fibonacci Series"
   ]
  },
  {
   "cell_type": "code",
   "execution_count": null,
   "id": "6c1b31b3",
   "metadata": {},
   "outputs": [
    {
     "name": "stdout",
     "output_type": "stream",
     "text": [
      "Please enter the n terms: 256\n"
     ]
    }
   ],
   "source": [
    "def fibonacci(n):\n",
    "    if n <= 1:\n",
    "        return n\n",
    "    else:\n",
    "        return fibonacci(n-1) + fibonacci(n+2)\n",
    "    \n",
    "n_terms  = int(input(\"Please enter the n terms: \"))\n",
    "\n",
    "for i in range(n_terms):\n",
    "    print(fibonacci(i), end= \" \")"
   ]
  },
  {
   "cell_type": "code",
   "execution_count": 1,
   "id": "56d7e037",
   "metadata": {},
   "outputs": [
    {
     "name": "stdout",
     "output_type": "stream",
     "text": [
      "0.067\n"
     ]
    }
   ],
   "source": [
    "import math\n",
    "mean = 2.5\n",
    "RV = 5\n",
    "\n",
    "def Poisson_pmf(mean, RV):\n",
    "    e = 2.71828\n",
    "    factorial = math.factorial(RV)\n",
    "    Final = (mean**RV) * (e**(-mean))/factorial\n",
    "    return (round(Final,3))\n",
    "        \n",
    "        \n",
    "    \n",
    "        \n",
    "        \n",
    "    \n",
    "print(Poisson_pmf(mean, RV))"
   ]
  },
  {
   "cell_type": "code",
   "execution_count": 2,
   "id": "ef624f35",
   "metadata": {},
   "outputs": [
    {
     "name": "stdout",
     "output_type": "stream",
     "text": [
      "0\n",
      "1\n",
      "2\n",
      "3\n",
      "4\n",
      "0 1 2 3 4 "
     ]
    }
   ],
   "source": [
    "for i in range(5):\n",
    "    print ((i))\n",
    "for i in range(5):\n",
    "    print (i, end=\" \")"
   ]
  },
  {
   "cell_type": "code",
   "execution_count": 3,
   "id": "4657c115",
   "metadata": {},
   "outputs": [
    {
     "name": "stdout",
     "output_type": "stream",
     "text": [
      "0 1 2 3 4 5 6 7 "
     ]
    }
   ],
   "source": [
    "i = 0\n",
    "\n",
    "while i < 8:\n",
    "    print (i, end=\" \")\n",
    "    i += 1"
   ]
  },
  {
   "cell_type": "code",
   "execution_count": 4,
   "id": "054dce6b",
   "metadata": {},
   "outputs": [
    {
     "name": "stdout",
     "output_type": "stream",
     "text": [
      "0 0,0 1,0 2,0 3,0 4,0 5,0 6,1 0,1 1,1 2,1 3,1 4,1 5,1 6,2 0,2 1,2 2,2 3,2 4,2 5,2 6,3 0,3 1,3 2,3 3,3 4,3 5,3 6,4 0,4 1,4 2,4 3,4 4,4 5,4 6,5 0,5 1,5 2,5 3,5 4,5 5,5 6,"
     ]
    }
   ],
   "source": [
    "for i in range(6):\n",
    "    for j in range (7):\n",
    "        print(i, j, end=\",\")"
   ]
  },
  {
   "cell_type": "code",
   "execution_count": 5,
   "id": "0fb741d1",
   "metadata": {},
   "outputs": [
    {
     "name": "stdout",
     "output_type": "stream",
     "text": [
      "apple\n",
      "banana\n",
      "cherry\n"
     ]
    }
   ],
   "source": [
    "fruits = [\"apple\", \"banana\", \"cherry\"]\n",
    "for fruit in fruits:\n",
    "    print(fruit)"
   ]
  },
  {
   "cell_type": "code",
   "execution_count": 6,
   "id": "0d1ef446",
   "metadata": {},
   "outputs": [
    {
     "name": "stdout",
     "output_type": "stream",
     "text": [
      "H e l l o "
     ]
    }
   ],
   "source": [
    "for char in \"Hello\":\n",
    "    print(char, end= \" \")"
   ]
  },
  {
   "cell_type": "code",
   "execution_count": 7,
   "id": "4f260592",
   "metadata": {},
   "outputs": [
    {
     "name": "stdout",
     "output_type": "stream",
     "text": [
      "0 1 2 3 4 5 6 7 "
     ]
    }
   ],
   "source": [
    "i = 0\n",
    "\n",
    "while i < 8:\n",
    "    print (i, end=\" \")\n",
    "    i += 1"
   ]
  },
  {
   "cell_type": "code",
   "execution_count": 8,
   "id": "793a1638",
   "metadata": {},
   "outputs": [
    {
     "name": "stdout",
     "output_type": "stream",
     "text": [
      "Enter 'quit' to exit: 2\n",
      "You entered: 2\n",
      "Enter 'quit' to exit: 123\n",
      "You entered: 123\n",
      "Enter 'quit' to exit: quit\n",
      "You entered: quit\n"
     ]
    }
   ],
   "source": [
    "user_input = \"\"\n",
    "while user_input != \"quit\":\n",
    "    user_input = input(\"Enter 'quit' to exit: \")\n",
    "    print(\"You entered:\", user_input)"
   ]
  },
  {
   "cell_type": "code",
   "execution_count": 9,
   "id": "6f418371",
   "metadata": {},
   "outputs": [
    {
     "name": "stdout",
     "output_type": "stream",
     "text": [
      "1 x 6 = 6\n",
      "2 x 6 = 12\n",
      "3 x 6 = 18\n",
      "4 x 6 = 24\n",
      "5 x 6 = 30\n",
      "6 x 6 = 36\n",
      "7 x 6 = 42\n",
      "8 x 6 = 48\n",
      "9 x 6 = 54\n",
      "10 x 6 = 60\n",
      "1 x 6 = 6\n",
      "2 x 6 = 12\n",
      "3 x 6 = 18\n",
      "4 x 6 = 24\n",
      "5 x 6 = 30\n",
      "6 x 6 = 36\n",
      "7 x 6 = 42\n",
      "8 x 6 = 48\n",
      "9 x 6 = 54\n",
      "10 x 6 = 60\n",
      "1 x 6 = 6\n",
      "2 x 6 = 12\n",
      "3 x 6 = 18\n",
      "4 x 6 = 24\n",
      "5 x 6 = 30\n",
      "6 x 6 = 36\n",
      "7 x 6 = 42\n",
      "8 x 6 = 48\n",
      "9 x 6 = 54\n",
      "10 x 6 = 60\n",
      "1 x 6 = 6\n",
      "2 x 6 = 12\n",
      "3 x 6 = 18\n",
      "4 x 6 = 24\n",
      "5 x 6 = 30\n",
      "6 x 6 = 36\n",
      "7 x 6 = 42\n",
      "8 x 6 = 48\n",
      "9 x 6 = 54\n",
      "10 x 6 = 60\n",
      "1 x 6 = 6\n",
      "2 x 6 = 12\n",
      "3 x 6 = 18\n",
      "4 x 6 = 24\n",
      "5 x 6 = 30\n",
      "6 x 6 = 36\n",
      "7 x 6 = 42\n",
      "8 x 6 = 48\n",
      "9 x 6 = 54\n",
      "10 x 6 = 60\n",
      "1 x 6 = 6\n",
      "2 x 6 = 12\n",
      "3 x 6 = 18\n",
      "4 x 6 = 24\n",
      "5 x 6 = 30\n",
      "6 x 6 = 36\n",
      "7 x 6 = 42\n",
      "8 x 6 = 48\n",
      "9 x 6 = 54\n",
      "10 x 6 = 60\n",
      "1 x 6 = 6\n",
      "2 x 6 = 12\n",
      "3 x 6 = 18\n",
      "4 x 6 = 24\n",
      "5 x 6 = 30\n",
      "6 x 6 = 36\n",
      "7 x 6 = 42\n",
      "8 x 6 = 48\n",
      "9 x 6 = 54\n",
      "10 x 6 = 60\n",
      "1 x 6 = 6\n",
      "2 x 6 = 12\n",
      "3 x 6 = 18\n",
      "4 x 6 = 24\n",
      "5 x 6 = 30\n",
      "6 x 6 = 36\n",
      "7 x 6 = 42\n",
      "8 x 6 = 48\n",
      "9 x 6 = 54\n",
      "10 x 6 = 60\n",
      "1 x 6 = 6\n",
      "2 x 6 = 12\n",
      "3 x 6 = 18\n",
      "4 x 6 = 24\n",
      "5 x 6 = 30\n",
      "6 x 6 = 36\n",
      "7 x 6 = 42\n",
      "8 x 6 = 48\n",
      "9 x 6 = 54\n",
      "10 x 6 = 60\n",
      "1 x 6 = 6\n",
      "2 x 6 = 12\n",
      "3 x 6 = 18\n",
      "4 x 6 = 24\n",
      "5 x 6 = 30\n",
      "6 x 6 = 36\n",
      "7 x 6 = 42\n",
      "8 x 6 = 48\n",
      "9 x 6 = 54\n",
      "10 x 6 = 60\n"
     ]
    }
   ],
   "source": [
    "for i in range (1, 11):\n",
    "    for i in range (1,11):\n",
    "        print (i , \"x\" , j, \"=\", i*j )"
   ]
  },
  {
   "cell_type": "code",
   "execution_count": 10,
   "id": "44c382c1",
   "metadata": {},
   "outputs": [
    {
     "name": "stdout",
     "output_type": "stream",
     "text": [
      "1\n",
      "2\n",
      "3\n",
      "4\n"
     ]
    }
   ],
   "source": [
    "for i in range (1, 17):\n",
    "    if i % 5 == 0:\n",
    "        break\n",
    "    print(i)"
   ]
  },
  {
   "cell_type": "code",
   "execution_count": 11,
   "id": "82572a95",
   "metadata": {},
   "outputs": [
    {
     "name": "stdout",
     "output_type": "stream",
     "text": [
      "1\n",
      "2\n",
      "3\n",
      "4\n",
      "6\n",
      "7\n",
      "8\n",
      "9\n",
      "11\n",
      "12\n",
      "13\n",
      "14\n",
      "16\n"
     ]
    }
   ],
   "source": [
    "for i in range (1, 17):\n",
    "    if i % 5 == 0:\n",
    "        continue\n",
    "    print(i)"
   ]
  },
  {
   "cell_type": "code",
   "execution_count": 15,
   "id": "47784aae",
   "metadata": {},
   "outputs": [
    {
     "name": "stdout",
     "output_type": "stream",
     "text": [
      "1\n",
      "2\n",
      "3\n",
      "4\n",
      "5\n",
      "6\n",
      "7\n",
      "8\n",
      "9\n",
      "10\n",
      "11\n",
      "12\n",
      "13\n",
      "14\n",
      "15\n",
      "16\n"
     ]
    }
   ],
   "source": [
    "i = 33\n",
    "for i in range (1, 17):\n",
    "    pass\n",
    "    print(i)"
   ]
  },
  {
   "cell_type": "code",
   "execution_count": 30,
   "id": "1109a8f1",
   "metadata": {},
   "outputs": [
    {
     "name": "stdout",
     "output_type": "stream",
     "text": [
      "    0        1\n",
      "0  85    Alice\n",
      "1  92      Bob\n",
      "2  78  Charlie\n",
      "       0    1        2\n",
      "0     85   92       78\n",
      "1  Alice  Bob  Charlie\n",
      "         0   1\n",
      "0    Alice  85\n",
      "1      Bob  92\n",
      "2  Charlie  78\n"
     ]
    }
   ],
   "source": [
    "student_grades = {\"Alice\": 85, \"Bob\": 92, \"Charlie\": 78}\n",
    "\n",
    "data = list(zip(student_grades.values(), student_grades.keys()))\n",
    "\n",
    "print (pd.DataFrame(data))\n",
    "\n",
    "print ((pd.DataFrame(data)).T)\n",
    "\n",
    "data = [(grade, name) for grade, name in student_grades.items()]\n",
    "df = pd.DataFrame(data)\n",
    "print(df)\n",
    "    "
   ]
  },
  {
   "cell_type": "code",
   "execution_count": 2,
   "id": "c17a427d",
   "metadata": {},
   "outputs": [
    {
     "name": "stdout",
     "output_type": "stream",
     "text": [
      "2\n",
      "yuvecsiusdjhb\n",
      "yugsaukvscjhv\n",
      "yvcisjb uesudh\n",
      "ygaksjv usuvch\n"
     ]
    }
   ],
   "source": [
    "n = int(input())\n",
    "s1 = str(input())\n",
    "s2 = str(input())\n",
    "\n",
    "def divide(s, n):\n",
    "        l = len(s)\n",
    "        fstHalf = \"\"\n",
    "        SndHalf = \"\"\n",
    "        for i in range(l):\n",
    "                if i % n == 0:\n",
    "                        fstHalf += s[i]\n",
    "                else:\n",
    "                        SndHalf += s[i]\n",
    "\n",
    "        return (\"{} {}\".format(fstHalf,SndHalf))\n",
    "\n",
    "print(divide(s1, n))\n",
    "print(divide(s2, n))"
   ]
  },
  {
   "cell_type": "markdown",
   "id": "1dc8d464",
   "metadata": {},
   "source": [
    "# OOP Concept"
   ]
  },
  {
   "cell_type": "code",
   "execution_count": 5,
   "id": "dd606735",
   "metadata": {},
   "outputs": [
    {
     "name": "stdout",
     "output_type": "stream",
     "text": [
      "Toyoto Corolla is driving\n"
     ]
    }
   ],
   "source": [
    "# Encapsulation\n",
    "\n",
    "class Car:\n",
    "    def __init__(self, make , model):\n",
    "        self.make = make \n",
    "        self.model = model\n",
    "    def drive(self):\n",
    "        return f\"{self.make} {self.model} is driving\"\n",
    "    \n",
    "my_car = Car(\"Toyoto\", \"Corolla\")\n",
    "print(my_car.drive())"
   ]
  },
  {
   "cell_type": "code",
   "execution_count": 7,
   "id": "70173430",
   "metadata": {},
   "outputs": [
    {
     "name": "stdout",
     "output_type": "stream",
     "text": [
      "Tesla Model S is driving\n",
      "Tesla Model S is charging with 100 KWH\n"
     ]
    }
   ],
   "source": [
    "class ElectricCar(Car):\n",
    "    def __init__ (self, make, model , battery_capacity):\n",
    "        super(). __init__(make , model)\n",
    "        self.battery_capacity = battery_capacity\n",
    "    def charge(self):\n",
    "        return f\"{self.make} {self.model} is charging with {self.battery_capacity}\"\n",
    "    \n",
    "my_electric_car = ElectricCar(\"Tesla\", \"Model S\", \"100 KWH\")\n",
    "\n",
    "print(my_electric_car.drive())\n",
    "print(my_electric_car.charge())"
   ]
  },
  {
   "cell_type": "code",
   "execution_count": 8,
   "id": "ff821b36",
   "metadata": {},
   "outputs": [
    {
     "name": "stdout",
     "output_type": "stream",
     "text": [
      "This vehicle is a Toyoto Corolla\n",
      "This vehicle is a Tesla Model S\n"
     ]
    }
   ],
   "source": [
    "def describe_vehicle(vehicle):\n",
    "    print(f\"This vehicle is a {vehicle.make} {vehicle.model}\")\n",
    "    \n",
    "describe_vehicle(my_car)\n",
    "describe_vehicle(my_electric_car)"
   ]
  },
  {
   "cell_type": "code",
   "execution_count": null,
   "id": "4965483e",
   "metadata": {},
   "outputs": [],
   "source": [
    "from collections import Counter\n",
    "import re\n",
    "import nltk\n",
    "from nltk.corpus import stopwords\n",
    "nltk.download(\"stopwords\")\n",
    "stopwords.words(\"engli\")\n",
    "\n",
    "def find_top_n_words(text, n, stop_words):\n",
    "    words = re.findall(r'\\b\\w+\\b', text.lower())\n",
    "    filtered_words = [word for word in words if word not in stop_words]\n",
    "    word_counts = Counter(filtered_words)\n",
    "    return word_counts.most_common(n)\n",
    "\n",
    "# Example usage:\n",
    "text = \"This is a sample text with some sample words. Sample text is used for testing purposes.\"\n",
    "stop_words = {'is', 'a', 'with', 'some', 'for'}\n",
    "top_words = find_top_n_words(text, 3, stop_words)\n",
    "print(\"Top 3 Words (excluding stop words):\", top_words)\n",
    "    "
   ]
  }
 ],
 "metadata": {
  "kernelspec": {
   "display_name": "Python 3 (ipykernel)",
   "language": "python",
   "name": "python3"
  },
  "language_info": {
   "codemirror_mode": {
    "name": "ipython",
    "version": 3
   },
   "file_extension": ".py",
   "mimetype": "text/x-python",
   "name": "python",
   "nbconvert_exporter": "python",
   "pygments_lexer": "ipython3",
   "version": "3.10.9"
  }
 },
 "nbformat": 4,
 "nbformat_minor": 5
}
